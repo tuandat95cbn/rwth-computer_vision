{
 "cells": [
  {
   "cell_type": "markdown",
   "metadata": {
    "deletable": false,
    "editable": false,
    "nbgrader": {
     "cell_type": "markdown",
     "checksum": "5530fced2150f71fec62adad5bc059ab",
     "grade": false,
     "grade_id": "cell-d9dbc74c08a75dc1",
     "locked": true,
     "schema_version": 3,
     "solution": false,
     "task": false
    }
   },
   "source": [
    "**Important**:\n",
    "Follow the instructions below when submitting your attempt.\n",
    "Submissions not following these instructions will not be graded.\n",
    "\n",
    "1. Submit in **teams of 3 or 4 students**, add their names and matriculation numbers below. Only **one team member should upload** the solutions.\n",
    "2. **Use jupyter notebook**. Other notebook-editing software (e.g. jupyter-lab, pycharm) might corrupt the notebook files and could have issues with displaying matplotlib interactively.\n",
    "3. **Do not remove, modify or duplicate** any given cells, except those in which you need to fill in your implementation. You can add new cells in order to present additional texts or plots.\n",
    "4. **Restart the kernel and re-run the whole notebook** once before submission. After this step, the cell id should be incremental from top to bottom, and all plots should be displayed.\n",
    "5. **Submit only the `.ipynb` files**, do not upload archives (zip, rar, tar, etc.), images or datasets.\n",
    "6. **Do not change the filenames** of the `.ipynb` files."
   ]
  },
  {
   "cell_type": "markdown",
   "metadata": {},
   "source": [
    "Team members (names and matriculation numbers):\n",
    "* Tuan Dat Nguyen - 433303\n",
    "* Hong Phuoc Nguyen Nguyen - 417325\n",
    "* Leon Carmincke - 406675\n",
    "* Viet Dung Tong - 400498"
   ]
  },
  {
   "cell_type": "markdown",
   "metadata": {
    "deletable": false,
    "editable": false,
    "nbgrader": {
     "cell_type": "markdown",
     "checksum": "998274597e857a7baae7a8e41f51bcd8",
     "grade": false,
     "grade_id": "cell-67e1fcdd86afffc8",
     "locked": true,
     "schema_version": 3,
     "solution": false,
     "task": false
    }
   },
   "source": [
    "# Convolutional Neural Networks\n",
    "\n",
    "In this exercise you will be introduced to some practical aspects of deep learning in computer vision, including constructing a deep neural network and training it via gradient descent to tackle image classification. The PyTorch-framework will be used for this.\n",
    "\n",
    "We will tackle **image classification** through deep learning methods, in particular we will look at\n",
    "\n",
    "* Softmax regression with stochastic gradient descent and Adam\n",
    "* Multilayer perceptrons with tanh and ReLU\n",
    "* Data augmentation\n",
    "* A basic convolutional net\n",
    "* BatchNorm, striding, global average pooling\n",
    "* Residual networks\n",
    "* Learning rate decay\n",
    "\n",
    "\n",
    "### Install PyTorch\n",
    "\n",
    "Use `conda install -y pytorch torchvision cpuonly -c pytorch` to install PyTorch without GPU support (make sure that the correct conda environment is active). You may also install a GPU-build if you have a compatible GPU, see https://pytorch.org/get-started/locally/. Using a GPU will make the training several times faster, but since not all of you may have one, we have tried to scale this exercise with a CPU in mind.\n",
    "\n",
    "### TensorBoard Plotting\n",
    "\n",
    "TensorBoard is a web-based tool for drawing pretty plots of quantities we care about during training, such as the loss. Install it using `conda install -y tensorboard=2.8 -c conda-forge`.\n",
    "\n",
    "We need to choose a folder where these values will be stored (\"logdir\"). Start the TensorBoard server by executing e.g. `tensorboard --logdir tensorboard_logs` after you've activated your conda environment. If you change the logdir, also adjust it in the cell below.\n",
    "\n",
    "You can view the graphs by visiting http://localhost:6006/#custom_scalars in your browser (6006 is the default port).\n",
    "Make sure that \"Custom Scalars\" is selected at the top (not \"Scalars\") because this will give a better visualization.\n",
    "At first there will be nothing to plot, so it will be empty."
   ]
  },
  {
   "cell_type": "code",
   "execution_count": 1,
   "metadata": {},
   "outputs": [],
   "source": [
    "LOG_ROOT = 'tensorboard_logs'\n",
    "USE_GPU = False  # Set to True if you have installed tensorflow for GPU"
   ]
  },
  {
   "cell_type": "code",
   "execution_count": 2,
   "metadata": {
    "deletable": false,
    "editable": false,
    "nbgrader": {
     "cell_type": "code",
     "checksum": "4e89c7101aa8040b705db9cd9df1d578",
     "grade": false,
     "grade_id": "cell-61c4af0db2f8c0b1",
     "locked": true,
     "schema_version": 3,
     "solution": false,
     "task": false
    }
   },
   "outputs": [
    {
     "data": {
      "text/html": [
       "<!-- Run this cell to add heading letters per subtask (like a, b, c) -->\n",
       "<style>\n",
       "body {counter-reset: section;}\n",
       "h2:before {counter-increment: section;\n",
       "           content: counter(section, lower-alpha) \") \";}\n",
       "</style>\n"
      ],
      "text/plain": [
       "<IPython.core.display.HTML object>"
      ]
     },
     "metadata": {},
     "output_type": "display_data"
    }
   ],
   "source": [
    "%%html\n",
    "<!-- Run this cell to add heading letters per subtask (like a, b, c) -->\n",
    "<style>\n",
    "body {counter-reset: section;}\n",
    "h2:before {counter-increment: section;\n",
    "           content: counter(section, lower-alpha) \") \";}\n",
    "</style>"
   ]
  },
  {
   "cell_type": "code",
   "execution_count": 3,
   "metadata": {
    "deletable": false,
    "editable": false,
    "nbgrader": {
     "cell_type": "code",
     "checksum": "20ace9163af2ca105e7e1709be8a721e",
     "grade": false,
     "grade_id": "cell-1073cd4f1b08084c",
     "locked": true,
     "schema_version": 3,
     "solution": false,
     "task": false
    }
   },
   "outputs": [],
   "source": [
    "%matplotlib inline\n",
    "import os\n",
    "import time\n",
    "import datetime\n",
    "import numpy as np\n",
    "import matplotlib.pyplot as plt\n",
    "import imageio\n",
    "import cv2\n",
    "import torch\n",
    "import torch.nn as nn\n",
    "import torch.nn.functional as F\n",
    "import torch.optim as optim\n",
    "from torchvision.datasets import CIFAR10\n",
    "from torch.utils.data import DataLoader\n",
    "import torchvision.transforms as transforms\n",
    "from torch.utils.tensorboard import SummaryWriter\n",
    "\n",
    "# Just an image plotting function\n",
    "def plot_multiple(images, titles=None, colormap='gray',\n",
    "                  max_columns=np.inf, imwidth=2, imheight=2, share_axes=False):\n",
    "    \"\"\"\n",
    "    Plot multiple images as subplots on a grid. Images must be channel-first\n",
    "    and between [0, 1].\n",
    "    \"\"\"\n",
    "    images = [np.transpose(im, (1, 2, 0)) for im in images]\n",
    "    if titles is None:\n",
    "        titles = [''] * len(images)\n",
    "    assert len(images) == len(titles)\n",
    "    n_images = len(images)\n",
    "    n_cols = min(max_columns, n_images)\n",
    "    n_rows = int(np.ceil(n_images / n_cols))\n",
    "    fig, axes = plt.subplots(\n",
    "        n_rows, n_cols, figsize=(n_cols * imwidth, n_rows * imheight),\n",
    "        squeeze=False, sharex=share_axes, sharey=share_axes)\n",
    "\n",
    "    axes = axes.flat\n",
    "    # Hide subplots without content\n",
    "    for ax in axes[n_images:]:\n",
    "        ax.axis('off')\n",
    "        \n",
    "    if not isinstance(colormap, (list,tuple)):\n",
    "        colormaps = [colormap]*n_images\n",
    "    else:\n",
    "        colormaps = colormap\n",
    "\n",
    "    for ax, image, title, cmap in zip(axes, images, titles, colormaps):\n",
    "        ax.imshow(image, cmap=cmap)\n",
    "        ax.set_title(title)\n",
    "        ax.get_xaxis().set_visible(False)\n",
    "        ax.get_yaxis().set_visible(False)\n",
    "        \n",
    "    fig.tight_layout()\n",
    "    \n",
    "def visualize_dataset(dataset, n_samples=24, max_columns=6):\n",
    "    xs, ys = list(zip(*[dataset[i] for i in range(n_samples)]))\n",
    "    plot_multiple([x / 2 + 0.5 for x in xs], [labels[i] for i in ys], max_columns=max_columns)"
   ]
  },
  {
   "cell_type": "markdown",
   "metadata": {
    "deletable": false,
    "editable": false,
    "nbgrader": {
     "cell_type": "markdown",
     "checksum": "b2ad2b3393aa21ed9038ff278d04f6c3",
     "grade": false,
     "grade_id": "cell-258c52e8e84d0db9",
     "locked": true,
     "schema_version": 3,
     "solution": false,
     "task": false
    }
   },
   "source": [
    "## Dataset Preparation\n",
    "We are going to tackle the classic image classification task using the **CIFAR-10 dataset**, containing 60,000 32x32 RGB images of 10 different classes (50,000 for training and 10,000 for testing). \n",
    "\n",
    "![image.png](cifar.png)\n",
    "\n",
    "The dataset is automatically downloaded if you run the next cell.\n",
    "It will take some time and might produce quite some output with the default Jupyter settings, but you can ignore this.\n",
    "After the dataset was downloaded once, this will not happen anymore.\n",
    "You may read more about the dataset at https://www.cs.toronto.edu/~kriz/cifar.html.\n",
    "\n",
    "Note, that for historical reasons PyTorch uses a \"channels-first\"-format, i.e. the order of the dimensions for an image is `NCHW` (batch-channels-height-width), not `NHWC` (batch-height-width-channels)."
   ]
  },
  {
   "cell_type": "code",
   "execution_count": 4,
   "metadata": {
    "deletable": false,
    "editable": false,
    "nbgrader": {
     "cell_type": "code",
     "checksum": "2580e9b4f35d3f8934f869e159a45b24",
     "grade": false,
     "grade_id": "cell-31d81f8c56fa930d",
     "locked": true,
     "schema_version": 3,
     "solution": false,
     "task": false
    }
   },
   "outputs": [
    {
     "name": "stdout",
     "output_type": "stream",
     "text": [
      "Files already downloaded and verified\n",
      "Files already downloaded and verified\n",
      "\n",
      "Shape of an image: torch.Size([3, 32, 32]).\n"
     ]
    },
    {
     "data": {
      "image/png": "[encoded data removed]",
      "text/plain": [
       "<Figure size 864x576 with 24 Axes>"
      ]
     },
     "metadata": {
      "needs_background": "light"
     },
     "output_type": "display_data"
    }
   ],
   "source": [
    "normalize_transform = transforms.Compose([\n",
    "    transforms.ToTensor(),\n",
    "    transforms.Normalize(0.5, 0.5)\n",
    "])\n",
    "\n",
    "train_data = CIFAR10(root='cifar10/train/', train=True, download=True, transform=normalize_transform)\n",
    "test_data = CIFAR10(root='cifar10/test/', train=False, download=True, transform=normalize_transform)\n",
    "labels = ['airplane', 'automobile', 'bird', 'cat', 'deer', 'dog', 'frog', 'horse', 'ship', 'truck']\n",
    "\n",
    "x, y = train_data[0]  # get an example from the dataset\n",
    "print(f'\\nShape of an image: {x.shape}.')\n",
    "visualize_dataset(train_data)"
   ]
  },
  {
   "cell_type": "markdown",
   "metadata": {
    "deletable": false,
    "editable": false,
    "nbgrader": {
     "cell_type": "markdown",
     "checksum": "f3b7f1fd44649770a44332cd5b8d4fc6",
     "grade": false,
     "grade_id": "cell-e030eef482140b24",
     "locked": true,
     "schema_version": 3,
     "solution": false,
     "task": false
    }
   },
   "source": [
    "## Softmax Regression\n",
    "\n",
    "Before considering convolutional neural networks, let us start with a simpler classifier called softmax regression (a.k.a. multinomial logistic regression). Note that even though the name contains \"regression\", this is a classification model.\n",
    "\n",
    "Softmax regression can be understood as a single-layer neural network. We first flatten our input image to a long vector $\\mathbf{x}$, consisting of $32\\cdot 32\\cdot 3 = 3072$ values. Then we predict class probabilities $\\hat{\\mathbf{y}}$ through a fully-connected layer with softmax activation:\n",
    "\n",
    "$$\n",
    "\\mathbf{z} = W \\mathbf{x} + \\mathbf{b} \\\\\n",
    "\\hat{y}_c = \\operatorname{softmax}(\\mathbf{z})_c = \\frac{\\exp{z_c}}{\\sum_{\\tilde{c}=1}^{10} \\exp{z_{\\tilde{c}}}}\n",
    "$$\n",
    "\n",
    "Here $z_c$ denotes the $c$th component of the vector $\\mathbf{z}$, called the vector of **logits**.\n",
    "The weights $W$ and biases $\\mathbf{b}$ will be learned during training.\n",
    "\n",
    "### Training\n",
    "\n",
    "We train the model by minimizing a **loss function** averaged over the training data. As we are tackling a classification problem, the **cross-entropy** is a suitable loss function:\n",
    "\n",
    "$$\n",
    "\\mathcal{L}_{CE}(\\mathbf{y}, \\hat{\\mathbf{y}}; W, \\mathbf{b}) = - \\sum_{c=1}^{10} y_c \\log{\\hat{y}_c}\n",
    "$$\n",
    "\n",
    "Note that in the above notation the ground-truth $\\mathbf{y}$ is a so-called **one-hot vector**, containing a single 1 component, while the remaining components \n",
    "are zeros. The model's predicted $\\hat{\\mathbf{y}}$ is a vector which also sums to one, but whose components all take continuous values in the range $(0, 1)$.\n",
    "\n",
    "We minimize the loss by **stochastic gradient descent** (SGD). That is, we repeatedly sample mini-batches from the training data and update the parameters (weights and biases) towards the direction of the steepest decrease of the loss averaged over the mini-batch. For example, the weight $w_{ij}$ (an element of the matrix $W$) is updated according to:\n",
    "\n",
    "$$\n",
    "w_{ij}^{(t+1)} = w_{ij}^{(t)} - \\eta \\cdot \\frac{\\partial \\mathcal{L}_{CE}} {\\partial w_{ij}},\n",
    "$$\n",
    "\n",
    "with $\\eta$ being the learning rate.\n",
    "\n",
    "----\n",
    "\n",
    "To build such a model in PyTorch, we take a `Sequential` module which accepts layers that are applied sequentially. Here we have two layers: `Flatten` converts the image into a long vector and `Linear` is a synonym for fully-connected layer. At the end we would expect a `Softmax` layer, but this has to be omitted since the PyTorch-implementation of cross-entropy already performs the softmax implicitly. If you check the equations above, you see why this is advantageous: the cross-entropy applies a $\\log$ to the $\\exp$ of the softmax, which cancel out. By doing both at once, we avoid unnecessary computations and reduce the risk of numerical issues.\n",
    "\n",
    "We further define the function `train_classifier` which performs the training process. These are the main steps:\n",
    "\n",
    "* Instantiate a `DataLoader` for each dataset split which shuffles the order of the data and creates minibatches.\n",
    "* Instantiate the `CrossEntropyLoss`. Note, that this loss implicitely computes the softmax.\n",
    "* Iterate over the epochs:\n",
    "  * Do the training loop:\n",
    "    * Pass the image batch through the model.\n",
    "    * Compute the loss.\n",
    "    * Backpropagate the loss (this computes the gradients for each parameter).\n",
    "    * Do an optimizer step (this updates the model parameters).\n",
    "    * Clear the computed gradients.\n",
    "  * Do a testing loop.\n",
    "  \n",
    "During this process, several statistics (loss/accuracy for train/test) are computed, printed and written to TensorBoard. The function also supports specifying a learning rate scheduler, which we will use at the end of this exercise."
   ]
  },
  {
   "cell_type": "code",
   "execution_count": 5,
   "metadata": {
    "deletable": false,
    "editable": false,
    "nbgrader": {
     "cell_type": "code",
     "checksum": "86e1a1a7ff3bdd9229b445e5ce63197b",
     "grade": false,
     "grade_id": "cell-7348264e521960a4",
     "locked": true,
     "schema_version": 3,
     "solution": false,
     "task": false
    }
   },
   "outputs": [],
   "source": [
    "def train_classifier(model,\n",
    "                     opt,\n",
    "                     logdir,\n",
    "                     train_data=train_data,\n",
    "                     test_data=test_data,\n",
    "                     batch_size=128,\n",
    "                     n_epochs=50,\n",
    "                     lr_scheduler=None\n",
    "                    ):\n",
    "    \n",
    "    writer = SummaryWriter(f\"{LOG_ROOT}/{logdir}-{time.strftime('%y%m%d_%H%M%S')}\")\n",
    "    layout = {\n",
    "        'Losses': {'losses': ['Multiline', ['loss/train', 'loss/test']]},\n",
    "        'Accuracy': {'accuracy': ['Multiline', ['accuracy/train', 'accuracy/test']]}\n",
    "    }\n",
    "    writer.add_custom_scalars(layout)\n",
    "    \n",
    "    train_loader = DataLoader(train_data, batch_size=batch_size, shuffle=True, num_workers=6)\n",
    "    test_loader = DataLoader(test_data, batch_size=batch_size, shuffle=True, num_workers=6)\n",
    "    \n",
    "    criterion = nn.CrossEntropyLoss()\n",
    "    \n",
    "    start = time.time()\n",
    "    \n",
    "    for epoch in range(n_epochs):\n",
    "        sample_count = 0\n",
    "        loss_sum = 0\n",
    "        correct = 0\n",
    "        n_batches = len(train_loader)\n",
    "        model.train()\n",
    "        for i, (xs, ys) in enumerate(train_loader):\n",
    "            if USE_GPU:\n",
    "                xs = xs.cuda()\n",
    "                ys = ys.cuda()\n",
    "            out = model(xs)\n",
    "            loss = criterion(out, ys)\n",
    "            loss.backward()\n",
    "            opt.step()\n",
    "            opt.zero_grad()\n",
    "            \n",
    "            loss_sum += loss.item() * xs.shape[0]\n",
    "            _, pred = torch.max(out, 1)\n",
    "            correct += (pred == ys).sum().item()\n",
    "            sample_count += xs.shape[0]\n",
    "            print(f'Train epoch {epoch+1}, step {i+1}/{n_batches}', end='    \\r')\n",
    "\n",
    "        train_loss = loss_sum / sample_count\n",
    "        train_accuracy = correct / sample_count\n",
    "        \n",
    "        with torch.no_grad():  # do not store gradients during testing, decreases memory consumption\n",
    "            sample_count = 0\n",
    "            loss_sum = 0\n",
    "            correct = 0\n",
    "            n_batches = len(test_loader)\n",
    "            model.eval()\n",
    "            for i, (xs, ys) in enumerate(test_loader):\n",
    "                if USE_GPU:\n",
    "                    xs = xs.cuda()\n",
    "                    ys = ys.cuda()\n",
    "                out = model(xs)\n",
    "                loss = criterion(out, ys)\n",
    "                loss_sum += loss.item() * xs.shape[0]\n",
    "                _, pred = torch.max(out, 1)\n",
    "                correct += (pred == ys).sum().item()\n",
    "                sample_count += xs.shape[0]\n",
    "                print(f'Test epoch {epoch+1}, step {i+1}/{n_batches}', end='    \\r')\n",
    "                \n",
    "            test_loss = loss_sum / sample_count\n",
    "            test_accuracy = correct / sample_count\n",
    "        \n",
    "        writer.add_scalar('loss/train', train_loss, epoch+1)\n",
    "        writer.add_scalar('accuracy/train', train_accuracy, epoch+1)\n",
    "        writer.add_scalar('loss/test', test_loss, epoch+1)\n",
    "        writer.add_scalar('accuracy/test', test_accuracy, epoch+1)\n",
    "            \n",
    "        if lr_scheduler is not None:\n",
    "            lr_scheduler.step()\n",
    "            writer.add_scalar('lr', opt.param_groups[0]['lr'], epoch+1)\n",
    "            \n",
    "        print(\n",
    "            f'Epoch {epoch+1} | train loss: {train_loss:.3f}, train accuracy: {train_accuracy:.3f}, ' + \\\n",
    "            f'test loss: {test_loss:.3f}, test accuracy: {test_accuracy:.3f}, ' + \\\n",
    "            f'time: {str(datetime.timedelta(seconds=int(time.time()-start)))}'\n",
    "        )"
   ]
  },
  {
   "cell_type": "code",
   "execution_count": 6,
   "metadata": {
    "deletable": false,
    "editable": false,
    "nbgrader": {
     "cell_type": "code",
     "checksum": "9243c0e4085a758104a48565615ac9b1",
     "grade": false,
     "grade_id": "cell-5c34f08b3b61750a",
     "locked": true,
     "schema_version": 3,
     "solution": false,
     "task": false
    }
   },
   "outputs": [
    {
     "name": "stdout",
     "output_type": "stream",
     "text": [
      "Epoch 1 | train loss: 1.876, train accuracy: 0.355, test loss: 1.798, test accuracy: 0.383, time: 0:00:04\n",
      "Epoch 2 | train loss: 1.780, train accuracy: 0.395, test loss: 1.763, test accuracy: 0.393, time: 0:00:08\n",
      "Epoch 3 | train loss: 1.751, train accuracy: 0.406, test loss: 1.751, test accuracy: 0.396, time: 0:00:12\n",
      "Epoch 4 | train loss: 1.732, train accuracy: 0.411, test loss: 1.738, test accuracy: 0.402, time: 0:00:17\n",
      "Epoch 5 | train loss: 1.719, train accuracy: 0.416, test loss: 1.731, test accuracy: 0.403, time: 0:00:21\n",
      "Epoch 6 | train loss: 1.710, train accuracy: 0.420, test loss: 1.724, test accuracy: 0.405, time: 0:00:25\n",
      "Epoch 7 | train loss: 1.701, train accuracy: 0.422, test loss: 1.724, test accuracy: 0.406, time: 0:00:29\n",
      "Epoch 8 | train loss: 1.695, train accuracy: 0.425, test loss: 1.714, test accuracy: 0.412, time: 0:00:34\n",
      "Epoch 9 | train loss: 1.690, train accuracy: 0.426, test loss: 1.716, test accuracy: 0.410, time: 0:00:38\n",
      "Epoch 10 | train loss: 1.684, train accuracy: 0.427, test loss: 1.711, test accuracy: 0.413, time: 0:00:42\n",
      "Epoch 11 | train loss: 1.680, train accuracy: 0.429, test loss: 1.716, test accuracy: 0.408, time: 0:00:47\n",
      "Epoch 12 | train loss: 1.676, train accuracy: 0.433, test loss: 1.714, test accuracy: 0.407, time: 0:00:51\n",
      "Epoch 13 | train loss: 1.673, train accuracy: 0.433, test loss: 1.713, test accuracy: 0.408, time: 0:00:56\n",
      "Epoch 14 | train loss: 1.670, train accuracy: 0.433, test loss: 1.712, test accuracy: 0.408, time: 0:01:01\n",
      "Epoch 15 | train loss: 1.667, train accuracy: 0.436, test loss: 1.713, test accuracy: 0.407, time: 0:01:06\n",
      "Epoch 16 | train loss: 1.664, train accuracy: 0.436, test loss: 1.714, test accuracy: 0.409, time: 0:01:11\n",
      "Epoch 17 | train loss: 1.662, train accuracy: 0.437, test loss: 1.711, test accuracy: 0.407, time: 0:01:16\n",
      "Epoch 18 | train loss: 1.660, train accuracy: 0.438, test loss: 1.714, test accuracy: 0.408, time: 0:01:20\n",
      "Epoch 19 | train loss: 1.658, train accuracy: 0.437, test loss: 1.710, test accuracy: 0.410, time: 0:01:25\n",
      "Epoch 20 | train loss: 1.656, train accuracy: 0.440, test loss: 1.713, test accuracy: 0.409, time: 0:01:30\n",
      "Epoch 21 | train loss: 1.654, train accuracy: 0.441, test loss: 1.712, test accuracy: 0.406, time: 0:01:34\n",
      "Epoch 22 | train loss: 1.652, train accuracy: 0.440, test loss: 1.715, test accuracy: 0.411, time: 0:01:39\n",
      "Epoch 23 | train loss: 1.651, train accuracy: 0.441, test loss: 1.712, test accuracy: 0.410, time: 0:01:43\n",
      "Epoch 24 | train loss: 1.650, train accuracy: 0.440, test loss: 1.714, test accuracy: 0.407, time: 0:01:48\n",
      "Epoch 25 | train loss: 1.648, train accuracy: 0.442, test loss: 1.707, test accuracy: 0.413, time: 0:01:53\n",
      "Epoch 26 | train loss: 1.646, train accuracy: 0.442, test loss: 1.709, test accuracy: 0.415, time: 0:01:58\n",
      "Epoch 27 | train loss: 1.645, train accuracy: 0.442, test loss: 1.707, test accuracy: 0.413, time: 0:02:06\n",
      "Epoch 28 | train loss: 1.644, train accuracy: 0.444, test loss: 1.713, test accuracy: 0.412, time: 0:02:13\n",
      "Epoch 29 | train loss: 1.643, train accuracy: 0.444, test loss: 1.710, test accuracy: 0.408, time: 0:02:19\n",
      "Epoch 30 | train loss: 1.641, train accuracy: 0.445, test loss: 1.714, test accuracy: 0.409, time: 0:02:25\n",
      "Epoch 31 | train loss: 1.640, train accuracy: 0.445, test loss: 1.713, test accuracy: 0.412, time: 0:02:30\n",
      "Epoch 32 | train loss: 1.639, train accuracy: 0.445, test loss: 1.713, test accuracy: 0.409, time: 0:02:36\n",
      "Epoch 33 | train loss: 1.639, train accuracy: 0.444, test loss: 1.712, test accuracy: 0.409, time: 0:02:42\n",
      "Epoch 34 | train loss: 1.637, train accuracy: 0.446, test loss: 1.715, test accuracy: 0.411, time: 0:02:48\n",
      "Epoch 35 | train loss: 1.636, train accuracy: 0.446, test loss: 1.712, test accuracy: 0.410, time: 0:02:54\n",
      "Epoch 36 | train loss: 1.636, train accuracy: 0.447, test loss: 1.719, test accuracy: 0.408, time: 0:03:01\n",
      "Epoch 37 | train loss: 1.635, train accuracy: 0.446, test loss: 1.711, test accuracy: 0.412, time: 0:03:08\n",
      "Epoch 38 | train loss: 1.633, train accuracy: 0.447, test loss: 1.712, test accuracy: 0.412, time: 0:03:14\n",
      "Epoch 39 | train loss: 1.633, train accuracy: 0.447, test loss: 1.717, test accuracy: 0.407, time: 0:03:20\n",
      "Epoch 40 | train loss: 1.632, train accuracy: 0.448, test loss: 1.712, test accuracy: 0.409, time: 0:03:26\n",
      "Epoch 41 | train loss: 1.632, train accuracy: 0.448, test loss: 1.714, test accuracy: 0.413, time: 0:03:32\n",
      "Epoch 42 | train loss: 1.631, train accuracy: 0.447, test loss: 1.716, test accuracy: 0.409, time: 0:03:37\n",
      "Epoch 43 | train loss: 1.630, train accuracy: 0.451, test loss: 1.717, test accuracy: 0.410, time: 0:03:43\n",
      "Epoch 44 | train loss: 1.629, train accuracy: 0.448, test loss: 1.717, test accuracy: 0.409, time: 0:03:49\n",
      "Epoch 45 | train loss: 1.628, train accuracy: 0.450, test loss: 1.713, test accuracy: 0.412, time: 0:03:57\n",
      "Epoch 46 | train loss: 1.627, train accuracy: 0.450, test loss: 1.722, test accuracy: 0.404, time: 0:04:03\n",
      "Epoch 47 | train loss: 1.627, train accuracy: 0.449, test loss: 1.715, test accuracy: 0.410, time: 0:04:10\n",
      "Epoch 48 | train loss: 1.626, train accuracy: 0.451, test loss: 1.719, test accuracy: 0.408, time: 0:04:15\n",
      "Epoch 49 | train loss: 1.626, train accuracy: 0.449, test loss: 1.716, test accuracy: 0.411, time: 0:04:21\n",
      "Epoch 50 | train loss: 1.625, train accuracy: 0.452, test loss: 1.718, test accuracy: 0.410, time: 0:04:27\n"
     ]
    }
   ],
   "source": [
    "softmax_regression = nn.Sequential(\n",
    "    nn.Flatten(),\n",
    "    nn.Linear(in_features=3072, out_features=10)\n",
    ")\n",
    "if USE_GPU:\n",
    "    softmax_regression.cuda()\n",
    "\n",
    "opt = optim.SGD(softmax_regression.parameters(), lr=1e-2)\n",
    "train_classifier(softmax_regression, opt, 'softmax_regression')"
   ]
  },
  {
   "cell_type": "markdown",
   "metadata": {
    "deletable": false,
    "editable": false,
    "nbgrader": {
     "cell_type": "markdown",
     "checksum": "89fdbd0a9d66df917d6bd8900b5a3abb",
     "grade": false,
     "grade_id": "cell-6cc309c333f4c13a",
     "locked": true,
     "schema_version": 3,
     "solution": false,
     "task": false
    }
   },
   "source": [
    "(Jupyter Notebook Tip: you can collapse or hide the output by clicking or double clicking the area directly to the left of the output.)\n",
    "\n",
    "You can check the how the loss and accuracy (= proportion of correctly predicted classes) change over the course of training in TensorBoard. What do you observe?"
   ]
  },
  {
   "cell_type": "markdown",
   "metadata": {
    "deletable": false,
    "nbgrader": {
     "cell_type": "markdown",
     "checksum": "3002df91fe8b11ec0de07b1f11b5c193",
     "grade": true,
     "grade_id": "cell-268ce60b8704b0ab",
     "locked": false,
     "points": 0,
     "schema_version": 3,
     "solution": true,
     "task": false
    }
   },
   "source": [
    "*POINTS: 0*\n",
    "\n",
    "the training acurrancy still increase but the test accurancy is stable after 15 epoch"
   ]
  },
  {
   "cell_type": "markdown",
   "metadata": {
    "deletable": false,
    "editable": false,
    "nbgrader": {
     "cell_type": "markdown",
     "checksum": "276690c0a6d3c5fe97135c605cd2a096",
     "grade": false,
     "grade_id": "cell-ec4a31aa3b860db5",
     "locked": true,
     "schema_version": 3,
     "solution": false,
     "task": false
    }
   },
   "source": [
    "## Adam Optimizer\n",
    "\n",
    "There has been a lot of research on improving on the simple stochastic gradient descent algorithm we used above. One of the most popular variants is called **Adam** (https://arxiv.org/abs/1412.6980, \"adaptive moment estimation\"). Its learning rate usually requires less precise tuning, and something in the range of $(10^{-4},10^{-3})$ often works well in practice. Intuitively, this is because the algorithm automatically adapts the learning rate for each weight depending on the gradients.\n",
    "\n",
    "You can run it as follows. The difference is not large for such a simple model, but it makes a bigger difference for larger networks."
   ]
  },
  {
   "cell_type": "code",
   "execution_count": 7,
   "metadata": {
    "deletable": false,
    "editable": false,
    "nbgrader": {
     "cell_type": "code",
     "checksum": "5a3b87f369822389e015ce63bbe365ce",
     "grade": false,
     "grade_id": "cell-645a91d07f56cfbc",
     "locked": true,
     "schema_version": 3,
     "solution": false,
     "task": false
    }
   },
   "outputs": [
    {
     "name": "stdout",
     "output_type": "stream",
     "text": [
      "Epoch 1 | train loss: 1.857, train accuracy: 0.362, test loss: 1.785, test accuracy: 0.387, time: 0:00:05\n",
      "Epoch 2 | train loss: 1.767, train accuracy: 0.399, test loss: 1.757, test accuracy: 0.392, time: 0:00:10\n",
      "Epoch 3 | train loss: 1.739, train accuracy: 0.409, test loss: 1.742, test accuracy: 0.405, time: 0:00:16\n",
      "Epoch 4 | train loss: 1.722, train accuracy: 0.416, test loss: 1.739, test accuracy: 0.400, time: 0:00:21\n",
      "Epoch 5 | train loss: 1.709, train accuracy: 0.420, test loss: 1.725, test accuracy: 0.408, time: 0:00:26\n",
      "Epoch 6 | train loss: 1.701, train accuracy: 0.422, test loss: 1.723, test accuracy: 0.408, time: 0:00:31\n",
      "Epoch 7 | train loss: 1.692, train accuracy: 0.426, test loss: 1.731, test accuracy: 0.402, time: 0:00:36\n",
      "Epoch 8 | train loss: 1.687, train accuracy: 0.428, test loss: 1.718, test accuracy: 0.409, time: 0:00:42\n",
      "Epoch 9 | train loss: 1.680, train accuracy: 0.430, test loss: 1.718, test accuracy: 0.405, time: 0:00:47\n",
      "Epoch 10 | train loss: 1.676, train accuracy: 0.432, test loss: 1.709, test accuracy: 0.416, time: 0:00:52\n",
      "Epoch 11 | train loss: 1.671, train accuracy: 0.435, test loss: 1.714, test accuracy: 0.412, time: 0:00:58\n",
      "Epoch 12 | train loss: 1.667, train accuracy: 0.435, test loss: 1.722, test accuracy: 0.407, time: 0:01:03\n",
      "Epoch 13 | train loss: 1.665, train accuracy: 0.437, test loss: 1.718, test accuracy: 0.411, time: 0:01:08\n",
      "Epoch 14 | train loss: 1.661, train accuracy: 0.439, test loss: 1.718, test accuracy: 0.407, time: 0:01:13\n",
      "Epoch 15 | train loss: 1.659, train accuracy: 0.437, test loss: 1.716, test accuracy: 0.406, time: 0:01:19\n",
      "Epoch 16 | train loss: 1.655, train accuracy: 0.440, test loss: 1.715, test accuracy: 0.410, time: 0:01:24\n",
      "Epoch 17 | train loss: 1.654, train accuracy: 0.439, test loss: 1.716, test accuracy: 0.409, time: 0:01:29\n",
      "Epoch 18 | train loss: 1.652, train accuracy: 0.439, test loss: 1.715, test accuracy: 0.412, time: 0:01:34\n",
      "Epoch 19 | train loss: 1.650, train accuracy: 0.443, test loss: 1.717, test accuracy: 0.405, time: 0:01:40\n",
      "Epoch 20 | train loss: 1.649, train accuracy: 0.441, test loss: 1.718, test accuracy: 0.410, time: 0:01:45\n",
      "Epoch 21 | train loss: 1.644, train accuracy: 0.442, test loss: 1.714, test accuracy: 0.412, time: 0:01:50\n",
      "Epoch 22 | train loss: 1.644, train accuracy: 0.443, test loss: 1.722, test accuracy: 0.410, time: 0:01:55\n",
      "Epoch 23 | train loss: 1.643, train accuracy: 0.443, test loss: 1.716, test accuracy: 0.406, time: 0:02:01\n",
      "Epoch 24 | train loss: 1.641, train accuracy: 0.445, test loss: 1.725, test accuracy: 0.405, time: 0:02:06\n",
      "Epoch 25 | train loss: 1.640, train accuracy: 0.444, test loss: 1.717, test accuracy: 0.408, time: 0:02:11\n",
      "Epoch 26 | train loss: 1.639, train accuracy: 0.445, test loss: 1.721, test accuracy: 0.407, time: 0:02:16\n",
      "Epoch 27 | train loss: 1.637, train accuracy: 0.445, test loss: 1.722, test accuracy: 0.409, time: 0:02:22\n",
      "Epoch 28 | train loss: 1.636, train accuracy: 0.447, test loss: 1.721, test accuracy: 0.412, time: 0:02:27\n",
      "Epoch 29 | train loss: 1.635, train accuracy: 0.445, test loss: 1.720, test accuracy: 0.408, time: 0:02:32\n",
      "Epoch 30 | train loss: 1.634, train accuracy: 0.447, test loss: 1.725, test accuracy: 0.403, time: 0:02:37\n",
      "Epoch 31 | train loss: 1.633, train accuracy: 0.446, test loss: 1.726, test accuracy: 0.408, time: 0:02:43\n",
      "Epoch 32 | train loss: 1.632, train accuracy: 0.447, test loss: 1.721, test accuracy: 0.407, time: 0:02:48\n",
      "Epoch 33 | train loss: 1.631, train accuracy: 0.447, test loss: 1.721, test accuracy: 0.405, time: 0:02:53\n",
      "Epoch 34 | train loss: 1.629, train accuracy: 0.447, test loss: 1.720, test accuracy: 0.408, time: 0:02:59\n",
      "Epoch 35 | train loss: 1.628, train accuracy: 0.449, test loss: 1.729, test accuracy: 0.404, time: 0:03:04\n",
      "Epoch 36 | train loss: 1.627, train accuracy: 0.448, test loss: 1.727, test accuracy: 0.406, time: 0:03:09\n",
      "Epoch 37 | train loss: 1.627, train accuracy: 0.449, test loss: 1.723, test accuracy: 0.406, time: 0:03:15\n",
      "Epoch 38 | train loss: 1.626, train accuracy: 0.449, test loss: 1.724, test accuracy: 0.405, time: 0:03:21\n",
      "Epoch 39 | train loss: 1.624, train accuracy: 0.450, test loss: 1.725, test accuracy: 0.408, time: 0:03:27\n",
      "Epoch 40 | train loss: 1.625, train accuracy: 0.450, test loss: 1.725, test accuracy: 0.411, time: 0:03:32\n",
      "Epoch 41 | train loss: 1.623, train accuracy: 0.449, test loss: 1.729, test accuracy: 0.405, time: 0:03:37\n",
      "Epoch 42 | train loss: 1.623, train accuracy: 0.449, test loss: 1.725, test accuracy: 0.403, time: 0:03:43\n",
      "Epoch 43 | train loss: 1.623, train accuracy: 0.449, test loss: 1.725, test accuracy: 0.407, time: 0:03:48\n",
      "Epoch 44 | train loss: 1.621, train accuracy: 0.452, test loss: 1.730, test accuracy: 0.402, time: 0:03:53\n",
      "Epoch 45 | train loss: 1.621, train accuracy: 0.450, test loss: 1.734, test accuracy: 0.401, time: 0:03:59\n",
      "Epoch 46 | train loss: 1.619, train accuracy: 0.452, test loss: 1.739, test accuracy: 0.399, time: 0:04:04\n",
      "Epoch 47 | train loss: 1.618, train accuracy: 0.451, test loss: 1.728, test accuracy: 0.403, time: 0:04:09\n",
      "Epoch 48 | train loss: 1.618, train accuracy: 0.452, test loss: 1.728, test accuracy: 0.407, time: 0:04:15\n",
      "Epoch 49 | train loss: 1.617, train accuracy: 0.452, test loss: 1.727, test accuracy: 0.407, time: 0:04:20\n",
      "Epoch 50 | train loss: 1.617, train accuracy: 0.452, test loss: 1.729, test accuracy: 0.402, time: 0:04:25\n"
     ]
    }
   ],
   "source": [
    "softmax_regression_adam = nn.Sequential(\n",
    "    nn.Flatten(),\n",
    "    nn.Linear(in_features=3072, out_features=10)\n",
    ")\n",
    "if USE_GPU:\n",
    "    softmax_regression_adam.cuda()\n",
    "    \n",
    "opt = optim.Adam(softmax_regression_adam.parameters(), lr=2e-4)\n",
    "train_classifier(softmax_regression_adam, opt, 'softmax_regression_adam')"
   ]
  },
  {
   "cell_type": "markdown",
   "metadata": {
    "deletable": false,
    "editable": false,
    "nbgrader": {
     "cell_type": "markdown",
     "checksum": "fed1f04ef3bda8ba546d6b0333cd5e9a",
     "grade": false,
     "grade_id": "cell-f97936a20e0833a4",
     "locked": true,
     "schema_version": 3,
     "solution": false,
     "task": false
    }
   },
   "source": [
    "## Interpreting the Learned Weights\n",
    "\n",
    "Multiplication by the weights $W$ can be interpreted as computing responses to correlation templates per image class.\n",
    "\n",
    "That means, we can reshape the weight array $W$ to a obtain \"template images\".\n",
    "\n",
    "Perform this reshaping to visualize the resulting templates."
   ]
  },
  {
   "cell_type": "code",
   "execution_count": 8,
   "metadata": {
    "deletable": false,
    "nbgrader": {
     "cell_type": "code",
     "checksum": "aeb608dec5afffe0c72f6fb024c1cbf2",
     "grade": true,
     "grade_id": "cell-6b90988a89171165",
     "locked": false,
     "points": 2,
     "schema_version": 3,
     "solution": true,
     "task": false
    },
    "scrolled": true
   },
   "outputs": [
    {
     "name": "stdout",
     "output_type": "stream",
     "text": [
      "torch.Size([10, 3072])\n"
     ]
    },
    {
     "data": {
      "image/png": "[encoded data removed]",
      "text/plain": [
       "<Figure size 720x288 with 10 Axes>"
      ]
     },
     "metadata": {
      "needs_background": "light"
     },
     "output_type": "display_data"
    }
   ],
   "source": [
    "# POINTS: 2\n",
    "\n",
    "W = softmax_regression[1].weight.data\n",
    "\n",
    "print(W.shape)\n",
    "# Use W to create the `templates` variable with dimensions [10 (class count), 3 (rgb), height, width]\n",
    "# YOUR CODE HERE\n",
    "\n",
    "templates=W.reshape((10,3,32,32))\n",
    "# We normalize the templates for visualization\n",
    "mini = templates.min()\n",
    "maxi = templates.max()\n",
    "rescaled_templates = (templates - mini) / (maxi - mini)\n",
    "plot_multiple(rescaled_templates.cpu(), labels, max_columns=5)"
   ]
  },
  {
   "cell_type": "markdown",
   "metadata": {
    "deletable": false,
    "editable": false,
    "nbgrader": {
     "cell_type": "markdown",
     "checksum": "6e83938015417f67a724ea13175c0b97",
     "grade": false,
     "grade_id": "cell-a48193761ec01321",
     "locked": true,
     "schema_version": 3,
     "solution": false,
     "task": false
    }
   },
   "source": [
    "Do they look as you would expect?"
   ]
  },
  {
   "cell_type": "markdown",
   "metadata": {
    "deletable": false,
    "nbgrader": {
     "cell_type": "markdown",
     "checksum": "d7af613881542e9a8f107883548d42d4",
     "grade": true,
     "grade_id": "cell-82b5467968214e70",
     "locked": false,
     "points": 0,
     "schema_version": 3,
     "solution": true,
     "task": false
    }
   },
   "source": [
    "*POINTS: 0*\n",
    "\n",
    "NO"
   ]
  },
  {
   "cell_type": "markdown",
   "metadata": {
    "deletable": false,
    "editable": false,
    "nbgrader": {
     "cell_type": "markdown",
     "checksum": "08ff8c8811f820077e3eb2f50eb5b483",
     "grade": false,
     "grade_id": "cell-53dcad4765f2ab5b",
     "locked": true,
     "schema_version": 3,
     "solution": false,
     "task": false
    }
   },
   "source": [
    "## Multi-Layer Perceptron\n",
    "\n",
    "Softmax regression has a big limitation: the decision surface between any two classes (i.e. the part of the input space where the classification decision changes from one class to another) is a simple hyperplane (\"flat\").\n",
    "\n",
    "The **multi-layer perceptron** (MLP) is a neural network model with additional layer(s) between the input and the logits (so-called hidden layers), with nonlinear activation functions. Why are activation functions needed?\n",
    "\n",
    "Before the current generation of neural networks, the **hyperbolic tangent** (tanh) function used to be the preferred activation function in the hidden layers of MLPs. It is sigmoid shaped and has a range of $(-1,1)$. We can create such a network in PyTorch as follows."
   ]
  },
  {
   "cell_type": "code",
   "execution_count": 9,
   "metadata": {
    "deletable": false,
    "editable": false,
    "nbgrader": {
     "cell_type": "code",
     "checksum": "5f93d0513ee124c5efa20791409a1570",
     "grade": false,
     "grade_id": "cell-1d3f759cb639c7c8",
     "locked": true,
     "schema_version": 3,
     "solution": false,
     "task": false
    }
   },
   "outputs": [
    {
     "name": "stdout",
     "output_type": "stream",
     "text": [
      "Epoch 1 | train loss: 1.784, train accuracy: 0.383, test loss: 1.691, test accuracy: 0.424, time: 0:00:09\n",
      "Epoch 2 | train loss: 1.643, train accuracy: 0.439, test loss: 1.619, test accuracy: 0.442, time: 0:00:19\n",
      "Epoch 3 | train loss: 1.566, train accuracy: 0.467, test loss: 1.591, test accuracy: 0.454, time: 0:00:28\n",
      "Epoch 4 | train loss: 1.500, train accuracy: 0.492, test loss: 1.543, test accuracy: 0.471, time: 0:00:37\n",
      "Epoch 5 | train loss: 1.441, train accuracy: 0.513, test loss: 1.526, test accuracy: 0.476, time: 0:00:46\n",
      "Epoch 6 | train loss: 1.387, train accuracy: 0.533, test loss: 1.503, test accuracy: 0.483, time: 0:00:55\n",
      "Epoch 7 | train loss: 1.337, train accuracy: 0.553, test loss: 1.492, test accuracy: 0.490, time: 0:01:05\n",
      "Epoch 8 | train loss: 1.288, train accuracy: 0.571, test loss: 1.486, test accuracy: 0.488, time: 0:01:14\n",
      "Epoch 9 | train loss: 1.239, train accuracy: 0.588, test loss: 1.470, test accuracy: 0.499, time: 0:01:24\n",
      "Epoch 10 | train loss: 1.195, train accuracy: 0.605, test loss: 1.464, test accuracy: 0.496, time: 0:01:33\n",
      "Epoch 11 | train loss: 1.147, train accuracy: 0.623, test loss: 1.454, test accuracy: 0.507, time: 0:01:42\n",
      "Epoch 12 | train loss: 1.101, train accuracy: 0.643, test loss: 1.450, test accuracy: 0.507, time: 0:01:51\n",
      "Epoch 13 | train loss: 1.059, train accuracy: 0.657, test loss: 1.459, test accuracy: 0.501, time: 0:02:01\n",
      "Epoch 14 | train loss: 1.017, train accuracy: 0.673, test loss: 1.460, test accuracy: 0.504, time: 0:02:10\n",
      "Epoch 15 | train loss: 0.976, train accuracy: 0.689, test loss: 1.454, test accuracy: 0.505, time: 0:02:19\n",
      "Epoch 16 | train loss: 0.935, train accuracy: 0.703, test loss: 1.458, test accuracy: 0.509, time: 0:02:29\n",
      "Epoch 17 | train loss: 0.896, train accuracy: 0.720, test loss: 1.451, test accuracy: 0.513, time: 0:02:38\n",
      "Epoch 18 | train loss: 0.857, train accuracy: 0.737, test loss: 1.465, test accuracy: 0.510, time: 0:02:47\n",
      "Epoch 19 | train loss: 0.820, train accuracy: 0.749, test loss: 1.477, test accuracy: 0.509, time: 0:02:57\n",
      "Epoch 20 | train loss: 0.784, train accuracy: 0.763, test loss: 1.485, test accuracy: 0.505, time: 0:03:07\n",
      "Epoch 21 | train loss: 0.747, train accuracy: 0.777, test loss: 1.500, test accuracy: 0.503, time: 0:03:16\n",
      "Epoch 22 | train loss: 0.714, train accuracy: 0.790, test loss: 1.505, test accuracy: 0.502, time: 0:03:25\n",
      "Epoch 23 | train loss: 0.681, train accuracy: 0.801, test loss: 1.507, test accuracy: 0.505, time: 0:03:35\n",
      "Epoch 24 | train loss: 0.650, train accuracy: 0.813, test loss: 1.510, test accuracy: 0.506, time: 0:03:45\n",
      "Epoch 25 | train loss: 0.617, train accuracy: 0.828, test loss: 1.536, test accuracy: 0.505, time: 0:03:54\n",
      "Epoch 26 | train loss: 0.588, train accuracy: 0.837, test loss: 1.557, test accuracy: 0.499, time: 0:04:03\n",
      "Epoch 27 | train loss: 0.560, train accuracy: 0.847, test loss: 1.564, test accuracy: 0.505, time: 0:04:13\n",
      "Epoch 28 | train loss: 0.533, train accuracy: 0.858, test loss: 1.573, test accuracy: 0.499, time: 0:04:22\n",
      "Epoch 29 | train loss: 0.504, train accuracy: 0.868, test loss: 1.588, test accuracy: 0.501, time: 0:04:31\n",
      "Epoch 30 | train loss: 0.480, train accuracy: 0.877, test loss: 1.609, test accuracy: 0.498, time: 0:04:41\n",
      "Epoch 31 | train loss: 0.455, train accuracy: 0.885, test loss: 1.619, test accuracy: 0.503, time: 0:04:50\n",
      "Epoch 32 | train loss: 0.431, train accuracy: 0.895, test loss: 1.641, test accuracy: 0.496, time: 0:04:59\n",
      "Epoch 33 | train loss: 0.407, train accuracy: 0.902, test loss: 1.647, test accuracy: 0.501, time: 0:05:08\n",
      "Epoch 34 | train loss: 0.384, train accuracy: 0.911, test loss: 1.686, test accuracy: 0.492, time: 0:05:18\n",
      "Epoch 35 | train loss: 0.366, train accuracy: 0.917, test loss: 1.687, test accuracy: 0.500, time: 0:05:27\n",
      "Epoch 36 | train loss: 0.345, train accuracy: 0.923, test loss: 1.711, test accuracy: 0.493, time: 0:05:36\n",
      "Epoch 37 | train loss: 0.326, train accuracy: 0.930, test loss: 1.715, test accuracy: 0.498, time: 0:05:45\n",
      "Epoch 38 | train loss: 0.308, train accuracy: 0.936, test loss: 1.738, test accuracy: 0.492, time: 0:05:55\n",
      "Epoch 39 | train loss: 0.291, train accuracy: 0.942, test loss: 1.770, test accuracy: 0.490, time: 0:06:04\n",
      "Epoch 40 | train loss: 0.272, train accuracy: 0.947, test loss: 1.791, test accuracy: 0.492, time: 0:06:13\n",
      "Epoch 41 | train loss: 0.257, train accuracy: 0.952, test loss: 1.802, test accuracy: 0.493, time: 0:06:22\n",
      "Epoch 42 | train loss: 0.244, train accuracy: 0.955, test loss: 1.820, test accuracy: 0.493, time: 0:06:32\n",
      "Epoch 43 | train loss: 0.227, train accuracy: 0.960, test loss: 1.857, test accuracy: 0.490, time: 0:06:41\n",
      "Epoch 44 | train loss: 0.215, train accuracy: 0.963, test loss: 1.868, test accuracy: 0.490, time: 0:06:50\n",
      "Epoch 45 | train loss: 0.199, train accuracy: 0.967, test loss: 1.885, test accuracy: 0.491, time: 0:06:59\n",
      "Epoch 46 | train loss: 0.190, train accuracy: 0.971, test loss: 1.902, test accuracy: 0.489, time: 0:07:08\n",
      "Epoch 47 | train loss: 0.175, train accuracy: 0.975, test loss: 1.934, test accuracy: 0.486, time: 0:07:18\n",
      "Epoch 48 | train loss: 0.167, train accuracy: 0.976, test loss: 1.948, test accuracy: 0.491, time: 0:07:27\n",
      "Epoch 49 | train loss: 0.158, train accuracy: 0.978, test loss: 1.979, test accuracy: 0.490, time: 0:07:36\n",
      "Epoch 50 | train loss: 0.146, train accuracy: 0.981, test loss: 2.010, test accuracy: 0.484, time: 0:07:45\n"
     ]
    }
   ],
   "source": [
    "tanh_mlp = nn.Sequential(\n",
    "    nn.Flatten(),\n",
    "    nn.Linear(in_features=3072, out_features=512),\n",
    "    nn.Tanh(),\n",
    "    nn.Linear(in_features=512, out_features=10)\n",
    ")\n",
    "if USE_GPU:\n",
    "    tanh_mlp.cuda()\n",
    "    \n",
    "opt = optim.Adam(tanh_mlp.parameters(), lr=2e-4)\n",
    "train_classifier(tanh_mlp, opt, f'tanh_mlp')"
   ]
  },
  {
   "cell_type": "markdown",
   "metadata": {
    "deletable": false,
    "editable": false,
    "nbgrader": {
     "cell_type": "markdown",
     "checksum": "a85465b2a9af5fe2cd9965924f11de6f",
     "grade": false,
     "grade_id": "cell-2b139794e1c54e5e",
     "locked": true,
     "schema_version": 3,
     "solution": false,
     "task": false
    }
   },
   "source": [
    "Does it obtain better results than the linear model? What do you observe if you compare the accuracy curves for training and testing?\n",
    "\n",
    "How and why does the behaviour of the test loss differ from the test accuracy?"
   ]
  },
  {
   "cell_type": "markdown",
   "metadata": {
    "deletable": false,
    "nbgrader": {
     "cell_type": "markdown",
     "checksum": "295ddd6574614bb7c5f16135081ce8c6",
     "grade": true,
     "grade_id": "cell-9a16b9da4520bc8b",
     "locked": false,
     "points": 0,
     "schema_version": 3,
     "solution": true,
     "task": false
    }
   },
   "source": [
    "*POINTS: 0*\n",
    "\n",
    "Overfit"
   ]
  },
  {
   "cell_type": "markdown",
   "metadata": {
    "deletable": false,
    "editable": false,
    "nbgrader": {
     "cell_type": "markdown",
     "checksum": "7f11654e0fbff346a19a4a529a4ced25",
     "grade": false,
     "grade_id": "cell-16d91ae3e3806a98",
     "locked": true,
     "schema_version": 3,
     "solution": false,
     "task": false
    }
   },
   "source": [
    "## Data Augmentation\n",
    "\n",
    "To avoid this effect, we can use data augmentation. By applying small changes to the training samples, we can virtually increase the size of the dataset such that the model cannot memorize training samples as easily.\n",
    "\n",
    "Have a look at the `torchvision.transforms` module of torchvision and add the following augmentations below:\n",
    "\n",
    "* shift the images randomly horizontally and vertically by up to 10% of the height and width\n",
    "* scale the images randomly between 90% and 110%\n",
    "* mirror the images such that the right and the left side are swapped in 50% of the cases"
   ]
  },
  {
   "cell_type": "code",
   "execution_count": 10,
   "metadata": {
    "deletable": false,
    "nbgrader": {
     "cell_type": "code",
     "checksum": "815c9341c166bbee3a91566fa786701c",
     "grade": true,
     "grade_id": "cell-4158553d60385578",
     "locked": false,
     "points": 4,
     "schema_version": 3,
     "solution": true,
     "task": false
    }
   },
   "outputs": [
    {
     "name": "stdout",
     "output_type": "stream",
     "text": [
      "Files already downloaded and verified\n"
     ]
    },
    {
     "data": {
      "image/png": "[encoded data removed]",
      "text/plain": [
       "<Figure size 864x576 with 24 Axes>"
      ]
     },
     "metadata": {
      "needs_background": "light"
     },
     "output_type": "display_data"
    }
   ],
   "source": [
    "# POINTS: 4\n",
    "\n",
    "augment_transform = transforms.Compose([\n",
    "    # YOUR CODE HERE\n",
    "    transforms.RandomAffine(degrees=(0,0), translate=(0.1,0.1), scale=(0.9,1.1)),\n",
    "    transforms.RandomHorizontalFlip(p=0.5)\n",
    "    \n",
    "])\n",
    "augmented_train_data = CIFAR10(root='cifar10/train/', train=True, download=True,\n",
    "                               transform=transforms.Compose([augment_transform, normalize_transform]))\n",
    "visualize_dataset(augmented_train_data)"
   ]
  },
  {
   "cell_type": "code",
   "execution_count": 11,
   "metadata": {
    "deletable": false,
    "editable": false,
    "nbgrader": {
     "cell_type": "code",
     "checksum": "af7dfb228ccff015fbd8ef65fcc9c70f",
     "grade": false,
     "grade_id": "cell-17fa5a99f79769c6",
     "locked": true,
     "schema_version": 3,
     "solution": false,
     "task": false
    }
   },
   "outputs": [
    {
     "name": "stdout",
     "output_type": "stream",
     "text": [
      "Epoch 1 | train loss: 1.882, train accuracy: 0.333, test loss: 1.773, test accuracy: 0.385, time: 0:00:11\n",
      "Epoch 2 | train loss: 1.749, train accuracy: 0.383, test loss: 1.741, test accuracy: 0.392, time: 0:00:23\n",
      "Epoch 3 | train loss: 1.684, train accuracy: 0.405, test loss: 1.710, test accuracy: 0.401, time: 0:00:34\n",
      "Epoch 4 | train loss: 1.636, train accuracy: 0.421, test loss: 1.678, test accuracy: 0.423, time: 0:00:46\n",
      "Epoch 5 | train loss: 1.600, train accuracy: 0.435, test loss: 1.679, test accuracy: 0.414, time: 0:00:58\n",
      "Epoch 6 | train loss: 1.567, train accuracy: 0.445, test loss: 1.642, test accuracy: 0.433, time: 0:01:09\n",
      "Epoch 7 | train loss: 1.542, train accuracy: 0.457, test loss: 1.628, test accuracy: 0.435, time: 0:01:21\n",
      "Epoch 8 | train loss: 1.519, train accuracy: 0.463, test loss: 1.628, test accuracy: 0.440, time: 0:01:32\n",
      "Epoch 9 | train loss: 1.499, train accuracy: 0.472, test loss: 1.608, test accuracy: 0.441, time: 0:01:44\n",
      "Epoch 10 | train loss: 1.484, train accuracy: 0.479, test loss: 1.604, test accuracy: 0.443, time: 0:01:55\n",
      "Epoch 11 | train loss: 1.466, train accuracy: 0.482, test loss: 1.597, test accuracy: 0.447, time: 0:02:07\n",
      "Epoch 12 | train loss: 1.455, train accuracy: 0.488, test loss: 1.571, test accuracy: 0.460, time: 0:02:18\n",
      "Epoch 13 | train loss: 1.441, train accuracy: 0.492, test loss: 1.574, test accuracy: 0.458, time: 0:02:30\n",
      "Epoch 14 | train loss: 1.429, train accuracy: 0.495, test loss: 1.555, test accuracy: 0.464, time: 0:02:42\n",
      "Epoch 15 | train loss: 1.421, train accuracy: 0.498, test loss: 1.548, test accuracy: 0.467, time: 0:02:53\n",
      "Epoch 16 | train loss: 1.413, train accuracy: 0.501, test loss: 1.573, test accuracy: 0.459, time: 0:03:05\n",
      "Epoch 17 | train loss: 1.402, train accuracy: 0.504, test loss: 1.554, test accuracy: 0.465, time: 0:03:16\n",
      "Epoch 18 | train loss: 1.392, train accuracy: 0.509, test loss: 1.522, test accuracy: 0.472, time: 0:03:28\n",
      "Epoch 19 | train loss: 1.382, train accuracy: 0.511, test loss: 1.517, test accuracy: 0.475, time: 0:03:42\n",
      "Epoch 20 | train loss: 1.377, train accuracy: 0.514, test loss: 1.514, test accuracy: 0.481, time: 0:03:53\n",
      "Epoch 21 | train loss: 1.370, train accuracy: 0.515, test loss: 1.503, test accuracy: 0.480, time: 0:04:05\n",
      "Epoch 22 | train loss: 1.366, train accuracy: 0.517, test loss: 1.519, test accuracy: 0.475, time: 0:04:16\n",
      "Epoch 23 | train loss: 1.361, train accuracy: 0.518, test loss: 1.504, test accuracy: 0.481, time: 0:04:28\n",
      "Epoch 24 | train loss: 1.351, train accuracy: 0.522, test loss: 1.510, test accuracy: 0.482, time: 0:04:39\n",
      "Epoch 25 | train loss: 1.348, train accuracy: 0.520, test loss: 1.495, test accuracy: 0.483, time: 0:04:50\n",
      "Epoch 26 | train loss: 1.343, train accuracy: 0.527, test loss: 1.486, test accuracy: 0.488, time: 0:05:02\n",
      "Epoch 27 | train loss: 1.336, train accuracy: 0.528, test loss: 1.466, test accuracy: 0.494, time: 0:05:13\n",
      "Epoch 28 | train loss: 1.327, train accuracy: 0.530, test loss: 1.482, test accuracy: 0.489, time: 0:05:25\n",
      "Epoch 29 | train loss: 1.322, train accuracy: 0.532, test loss: 1.477, test accuracy: 0.488, time: 0:05:36\n",
      "Epoch 30 | train loss: 1.320, train accuracy: 0.532, test loss: 1.462, test accuracy: 0.494, time: 0:05:47\n",
      "Epoch 31 | train loss: 1.314, train accuracy: 0.535, test loss: 1.466, test accuracy: 0.492, time: 0:05:59\n",
      "Epoch 32 | train loss: 1.310, train accuracy: 0.536, test loss: 1.462, test accuracy: 0.493, time: 0:06:10\n",
      "Epoch 33 | train loss: 1.307, train accuracy: 0.537, test loss: 1.462, test accuracy: 0.502, time: 0:06:22\n",
      "Epoch 34 | train loss: 1.302, train accuracy: 0.539, test loss: 1.460, test accuracy: 0.494, time: 0:06:33\n",
      "Epoch 35 | train loss: 1.303, train accuracy: 0.540, test loss: 1.451, test accuracy: 0.498, time: 0:06:45\n",
      "Epoch 36 | train loss: 1.297, train accuracy: 0.539, test loss: 1.451, test accuracy: 0.494, time: 0:06:56\n",
      "Epoch 37 | train loss: 1.292, train accuracy: 0.542, test loss: 1.433, test accuracy: 0.504, time: 0:07:07\n",
      "Epoch 38 | train loss: 1.287, train accuracy: 0.543, test loss: 1.428, test accuracy: 0.508, time: 0:07:19\n",
      "Epoch 39 | train loss: 1.286, train accuracy: 0.543, test loss: 1.429, test accuracy: 0.503, time: 0:07:31\n",
      "Epoch 40 | train loss: 1.281, train accuracy: 0.546, test loss: 1.423, test accuracy: 0.506, time: 0:07:43\n",
      "Epoch 41 | train loss: 1.283, train accuracy: 0.546, test loss: 1.431, test accuracy: 0.505, time: 0:07:54\n",
      "Epoch 42 | train loss: 1.276, train accuracy: 0.545, test loss: 1.428, test accuracy: 0.505, time: 0:08:06\n",
      "Epoch 43 | train loss: 1.272, train accuracy: 0.548, test loss: 1.416, test accuracy: 0.511, time: 0:08:18\n",
      "Epoch 44 | train loss: 1.273, train accuracy: 0.548, test loss: 1.422, test accuracy: 0.512, time: 0:08:29\n",
      "Epoch 45 | train loss: 1.270, train accuracy: 0.549, test loss: 1.404, test accuracy: 0.515, time: 0:08:41\n",
      "Epoch 46 | train loss: 1.264, train accuracy: 0.551, test loss: 1.398, test accuracy: 0.516, time: 0:08:52\n",
      "Epoch 47 | train loss: 1.263, train accuracy: 0.553, test loss: 1.398, test accuracy: 0.518, time: 0:09:03\n",
      "Epoch 48 | train loss: 1.264, train accuracy: 0.553, test loss: 1.409, test accuracy: 0.512, time: 0:09:15\n",
      "Epoch 49 | train loss: 1.259, train accuracy: 0.551, test loss: 1.399, test accuracy: 0.512, time: 0:09:26\n",
      "Epoch 50 | train loss: 1.260, train accuracy: 0.553, test loss: 1.401, test accuracy: 0.517, time: 0:09:38\n"
     ]
    }
   ],
   "source": [
    "tanh_mlp = nn.Sequential(\n",
    "    nn.Flatten(),\n",
    "    nn.Linear(in_features=3072, out_features=512),\n",
    "    nn.Tanh(),\n",
    "    nn.Linear(in_features=512, out_features=10)\n",
    ")\n",
    "if USE_GPU:\n",
    "    tanh_mlp.cuda()\n",
    "    \n",
    "opt = optim.Adam(tanh_mlp.parameters(), lr=2e-4)\n",
    "train_classifier(tanh_mlp, opt, f'tanh_mlp_augmented', train_data=augmented_train_data)"
   ]
  },
  {
   "cell_type": "markdown",
   "metadata": {
    "deletable": false,
    "editable": false,
    "nbgrader": {
     "cell_type": "markdown",
     "checksum": "82d2b5e66c27b52dc8dfde3b09a28e37",
     "grade": false,
     "grade_id": "cell-fa5e3df235209477",
     "locked": true,
     "schema_version": 3,
     "solution": false,
     "task": false
    }
   },
   "source": [
    "What do you observe if you train the same model on the augmented data?"
   ]
  },
  {
   "cell_type": "markdown",
   "metadata": {
    "deletable": false,
    "nbgrader": {
     "cell_type": "markdown",
     "checksum": "07f3bbbe9a7b29b26ebca41b3c381634",
     "grade": true,
     "grade_id": "cell-d1b52278a5587b93",
     "locked": false,
     "points": 0,
     "schema_version": 3,
     "solution": true,
     "task": false
    }
   },
   "source": [
    "*POINTS: 0*\n",
    "\n",
    "YOUR ANSWER HERE"
   ]
  },
  {
   "cell_type": "markdown",
   "metadata": {
    "deletable": false,
    "editable": false,
    "nbgrader": {
     "cell_type": "markdown",
     "checksum": "4168ee52c510e7246b5d5ceb3065af3a",
     "grade": false,
     "grade_id": "cell-52198a15ed79a2ee",
     "locked": true,
     "schema_version": 3,
     "solution": false,
     "task": false
    }
   },
   "source": [
    "## ReLU\n",
    "\n",
    "The ReLU activation function has become more popular in recent years, especially for deeper nets. Create and train an MLP with the same architecture as above which uses ReLU instead of tanh as the activation."
   ]
  },
  {
   "cell_type": "code",
   "execution_count": 12,
   "metadata": {
    "deletable": false,
    "nbgrader": {
     "cell_type": "code",
     "checksum": "c68d9faf1a2d044e7fa06be03870e807",
     "grade": true,
     "grade_id": "cell-209c6c6b658fdc85",
     "locked": false,
     "points": 2,
     "schema_version": 3,
     "solution": true,
     "task": false
    }
   },
   "outputs": [
    {
     "name": "stdout",
     "output_type": "stream",
     "text": [
      "Epoch 1 | train loss: 1.788, train accuracy: 0.365, test loss: 1.591, test accuracy: 0.436, time: 0:00:11\n",
      "Epoch 2 | train loss: 1.627, train accuracy: 0.423, test loss: 1.519, test accuracy: 0.462, time: 0:00:22\n",
      "Epoch 3 | train loss: 1.566, train accuracy: 0.447, test loss: 1.466, test accuracy: 0.486, time: 0:00:33\n",
      "Epoch 4 | train loss: 1.525, train accuracy: 0.461, test loss: 1.455, test accuracy: 0.488, time: 0:00:45\n",
      "Epoch 5 | train loss: 1.494, train accuracy: 0.473, test loss: 1.424, test accuracy: 0.493, time: 0:00:56\n",
      "Epoch 6 | train loss: 1.469, train accuracy: 0.482, test loss: 1.423, test accuracy: 0.497, time: 0:01:08\n",
      "Epoch 7 | train loss: 1.454, train accuracy: 0.489, test loss: 1.400, test accuracy: 0.510, time: 0:01:19\n",
      "Epoch 8 | train loss: 1.432, train accuracy: 0.496, test loss: 1.387, test accuracy: 0.512, time: 0:01:30\n",
      "Epoch 9 | train loss: 1.422, train accuracy: 0.499, test loss: 1.362, test accuracy: 0.519, time: 0:01:42\n",
      "Epoch 10 | train loss: 1.407, train accuracy: 0.502, test loss: 1.356, test accuracy: 0.525, time: 0:01:53\n",
      "Epoch 11 | train loss: 1.399, train accuracy: 0.507, test loss: 1.352, test accuracy: 0.528, time: 0:02:05\n",
      "Epoch 12 | train loss: 1.385, train accuracy: 0.513, test loss: 1.339, test accuracy: 0.532, time: 0:02:17\n",
      "Epoch 13 | train loss: 1.375, train accuracy: 0.515, test loss: 1.349, test accuracy: 0.532, time: 0:02:28\n",
      "Epoch 14 | train loss: 1.367, train accuracy: 0.519, test loss: 1.326, test accuracy: 0.534, time: 0:02:40\n",
      "Epoch 15 | train loss: 1.353, train accuracy: 0.525, test loss: 1.321, test accuracy: 0.534, time: 0:02:52\n",
      "Epoch 16 | train loss: 1.344, train accuracy: 0.527, test loss: 1.318, test accuracy: 0.539, time: 0:03:03\n",
      "Epoch 17 | train loss: 1.340, train accuracy: 0.530, test loss: 1.305, test accuracy: 0.540, time: 0:03:14\n",
      "Epoch 18 | train loss: 1.332, train accuracy: 0.532, test loss: 1.294, test accuracy: 0.545, time: 0:03:26\n",
      "Epoch 19 | train loss: 1.321, train accuracy: 0.537, test loss: 1.294, test accuracy: 0.541, time: 0:03:37\n",
      "Epoch 20 | train loss: 1.316, train accuracy: 0.537, test loss: 1.293, test accuracy: 0.552, time: 0:03:49\n",
      "Epoch 21 | train loss: 1.312, train accuracy: 0.539, test loss: 1.298, test accuracy: 0.537, time: 0:04:01\n",
      "Epoch 22 | train loss: 1.304, train accuracy: 0.541, test loss: 1.271, test accuracy: 0.555, time: 0:04:12\n",
      "Epoch 23 | train loss: 1.298, train accuracy: 0.545, test loss: 1.269, test accuracy: 0.557, time: 0:04:23\n",
      "Epoch 24 | train loss: 1.292, train accuracy: 0.546, test loss: 1.286, test accuracy: 0.550, time: 0:04:35\n",
      "Epoch 25 | train loss: 1.289, train accuracy: 0.547, test loss: 1.266, test accuracy: 0.561, time: 0:04:46\n",
      "Epoch 26 | train loss: 1.286, train accuracy: 0.549, test loss: 1.259, test accuracy: 0.564, time: 0:04:58\n",
      "Epoch 27 | train loss: 1.279, train accuracy: 0.550, test loss: 1.244, test accuracy: 0.562, time: 0:05:09\n",
      "Epoch 28 | train loss: 1.272, train accuracy: 0.554, test loss: 1.255, test accuracy: 0.561, time: 0:05:20\n",
      "Epoch 29 | train loss: 1.269, train accuracy: 0.554, test loss: 1.254, test accuracy: 0.560, time: 0:05:32\n",
      "Epoch 30 | train loss: 1.267, train accuracy: 0.553, test loss: 1.255, test accuracy: 0.564, time: 0:05:43\n",
      "Epoch 31 | train loss: 1.258, train accuracy: 0.559, test loss: 1.249, test accuracy: 0.564, time: 0:05:55\n",
      "Epoch 32 | train loss: 1.256, train accuracy: 0.561, test loss: 1.253, test accuracy: 0.560, time: 0:06:06\n",
      "Epoch 33 | train loss: 1.256, train accuracy: 0.559, test loss: 1.245, test accuracy: 0.564, time: 0:06:21\n",
      "Epoch 34 | train loss: 1.245, train accuracy: 0.565, test loss: 1.236, test accuracy: 0.567, time: 0:06:36\n",
      "Epoch 35 | train loss: 1.243, train accuracy: 0.563, test loss: 1.235, test accuracy: 0.567, time: 0:06:49\n",
      "Epoch 36 | train loss: 1.239, train accuracy: 0.565, test loss: 1.225, test accuracy: 0.570, time: 0:07:01\n",
      "Epoch 37 | train loss: 1.239, train accuracy: 0.567, test loss: 1.250, test accuracy: 0.562, time: 0:07:13\n",
      "Epoch 38 | train loss: 1.233, train accuracy: 0.566, test loss: 1.243, test accuracy: 0.562, time: 0:07:25\n",
      "Epoch 39 | train loss: 1.232, train accuracy: 0.568, test loss: 1.260, test accuracy: 0.557, time: 0:07:36\n",
      "Epoch 40 | train loss: 1.227, train accuracy: 0.569, test loss: 1.262, test accuracy: 0.565, time: 0:07:48\n",
      "Epoch 41 | train loss: 1.227, train accuracy: 0.568, test loss: 1.229, test accuracy: 0.574, time: 0:08:00\n",
      "Epoch 42 | train loss: 1.225, train accuracy: 0.570, test loss: 1.238, test accuracy: 0.565, time: 0:08:11\n",
      "Epoch 43 | train loss: 1.217, train accuracy: 0.571, test loss: 1.221, test accuracy: 0.573, time: 0:08:23\n",
      "Epoch 44 | train loss: 1.215, train accuracy: 0.576, test loss: 1.218, test accuracy: 0.576, time: 0:08:34\n",
      "Epoch 45 | train loss: 1.215, train accuracy: 0.573, test loss: 1.247, test accuracy: 0.564, time: 0:08:46\n",
      "Epoch 46 | train loss: 1.211, train accuracy: 0.576, test loss: 1.238, test accuracy: 0.566, time: 0:08:58\n",
      "Epoch 47 | train loss: 1.209, train accuracy: 0.577, test loss: 1.235, test accuracy: 0.572, time: 0:09:09\n",
      "Epoch 48 | train loss: 1.205, train accuracy: 0.577, test loss: 1.212, test accuracy: 0.577, time: 0:09:21\n",
      "Epoch 49 | train loss: 1.208, train accuracy: 0.574, test loss: 1.237, test accuracy: 0.566, time: 0:09:32\n",
      "Epoch 50 | train loss: 1.199, train accuracy: 0.580, test loss: 1.213, test accuracy: 0.576, time: 0:09:44\n"
     ]
    }
   ],
   "source": [
    "# POINTS: 2\n",
    "\n",
    "relu_mlp = nn.Sequential(\n",
    "    # YOUR CODE HERE\n",
    "    nn.Flatten(),\n",
    "    nn.Linear(in_features=3072, out_features=512),\n",
    "    nn.ReLU(),\n",
    "    nn.Linear(in_features=512, out_features=10)\n",
    ")\n",
    "if USE_GPU:\n",
    "    relu_mlp.cuda()\n",
    "\n",
    "    \n",
    "opt = optim.Adam(relu_mlp.parameters(), lr=2e-4)\n",
    "train_classifier(relu_mlp, opt, 'relu_mlp', train_data=augmented_train_data)"
   ]
  },
  {
   "cell_type": "markdown",
   "metadata": {
    "deletable": false,
    "editable": false,
    "nbgrader": {
     "cell_type": "markdown",
     "checksum": "629c37c2cc924da566c2f47fc2ca7509",
     "grade": false,
     "grade_id": "cell-b2c3bfe1f9ceab2f",
     "locked": true,
     "schema_version": 3,
     "solution": false,
     "task": false
    }
   },
   "source": [
    "Do the results change? What benefit does ReLU have against tanh?"
   ]
  },
  {
   "cell_type": "markdown",
   "metadata": {
    "deletable": false,
    "nbgrader": {
     "cell_type": "markdown",
     "checksum": "fcb315ede9df6fb36e2478877c483803",
     "grade": true,
     "grade_id": "cell-e96f4ec268fbbe6c",
     "locked": false,
     "points": 0,
     "schema_version": 3,
     "solution": true
    }
   },
   "source": [
    "*POINTS: 0*\n",
    "\n",
    "YOUR ANSWER HERE"
   ]
  },
  {
   "cell_type": "markdown",
   "metadata": {
    "deletable": false,
    "editable": false,
    "nbgrader": {
     "cell_type": "markdown",
     "checksum": "8da556076d1cf40cec74144684278eb0",
     "grade": false,
     "grade_id": "cell-3c893def9eef0d29",
     "locked": true,
     "schema_version": 3,
     "solution": false,
     "task": false
    }
   },
   "source": [
    "## A Simple Convolutional Neural Network\n",
    "\n",
    "The previous models did not explicitly make use of the grid structure of the image pixels. Convolutional neural networks do.\n",
    "\n",
    "Instead of reshaping the input image pixels into one long vector, convolutional layers slide small filters across the input, just as with the convolutional filters we saw earlier in the course. In the earlier parts, we looked at convolution on an image with a single channel in case of grayscale images, or channelwise separate convolutions on RGB images.\n",
    "\n",
    "In CNNs, the multiple input channels of a conv layer are not handled independently, but are linearly combined. This means that the weight array has shape `[out_channels, in_channels, kernel_height, kernel_width]` and we perform a weighted sum along the input channel axis. Another difference is the use of a **bias** vector of shape `[out_channels]`, each components gets added to the corresponding output channel.\n",
    "\n",
    "As you already know, convolution is a linear operator, so it is possible to express any convolutional layer as a fully-connected layer.\n",
    "However, the convolutional layer's weight matrix is sparse (has many zeros) compared to a fully-connected (\"linear\") layer because each output only depends on a small number of inputs, namely, those within a small neigborhood. Further, the weight values are shared between the different pixel locations.\n",
    "\n",
    "This tutorial has some great visualisations and explanations on the details of conv layers: https://arxiv.org/abs/1603.07285."
   ]
  },
  {
   "cell_type": "markdown",
   "metadata": {
    "deletable": false,
    "editable": false,
    "nbgrader": {
     "cell_type": "markdown",
     "checksum": "4eaa7ab3a6ffec239b70a6a4b372c0b1",
     "grade": false,
     "grade_id": "cell-d5bd65e1aa6cf240",
     "locked": true,
     "schema_version": 3,
     "solution": false,
     "task": false
    }
   },
   "source": [
    "Technically, what's called a \"convolutional\" layer is usually implemented as a *cross-correlation* computation. Could there be any advantage in using the actual definition of convolution in these layers?"
   ]
  },
  {
   "cell_type": "markdown",
   "metadata": {
    "deletable": false,
    "nbgrader": {
     "cell_type": "markdown",
     "checksum": "58e275ffa399da240c5d609182a29849",
     "grade": true,
     "grade_id": "cell-9f6f8235182c9277",
     "locked": false,
     "points": 0,
     "schema_version": 3,
     "solution": true
    }
   },
   "source": [
    "*POINTS: 0*\n",
    "\n",
    "YOUR ANSWER HERE"
   ]
  },
  {
   "cell_type": "markdown",
   "metadata": {
    "deletable": false,
    "editable": false,
    "nbgrader": {
     "cell_type": "markdown",
     "checksum": "eca973fcbc3ba58a184233c1304b4b52",
     "grade": false,
     "grade_id": "cell-8861acb4ed9aa147",
     "locked": true,
     "schema_version": 3,
     "solution": false,
     "task": false
    }
   },
   "source": [
    "Train the following simple CNN model. It may take about 30 minutes on a CPU."
   ]
  },
  {
   "cell_type": "code",
   "execution_count": 13,
   "metadata": {
    "deletable": false,
    "editable": false,
    "nbgrader": {
     "cell_type": "code",
     "checksum": "ab5327988589fc187f717c6529f714de",
     "grade": false,
     "grade_id": "cell-d01c8cd05d41bef2",
     "locked": true,
     "schema_version": 3,
     "solution": false,
     "task": false
    }
   },
   "outputs": [
    {
     "name": "stdout",
     "output_type": "stream",
     "text": [
      "Epoch 1 | train loss: 1.562, train accuracy: 0.438, test loss: 1.209, test accuracy: 0.568, time: 0:00:54\n",
      "Epoch 2 | train loss: 1.236, train accuracy: 0.562, test loss: 1.046, test accuracy: 0.630, time: 0:01:49\n",
      "Epoch 3 | train loss: 1.107, train accuracy: 0.608, test loss: 0.946, test accuracy: 0.667, time: 0:02:44\n",
      "Epoch 4 | train loss: 1.044, train accuracy: 0.633, test loss: 0.899, test accuracy: 0.690, time: 0:03:39\n",
      "Epoch 5 | train loss: 0.991, train accuracy: 0.655, test loss: 0.876, test accuracy: 0.698, time: 0:04:34\n",
      "Epoch 6 | train loss: 0.957, train accuracy: 0.668, test loss: 0.856, test accuracy: 0.703, time: 0:05:29\n",
      "Epoch 7 | train loss: 0.929, train accuracy: 0.676, test loss: 0.838, test accuracy: 0.714, time: 0:06:24\n",
      "Epoch 8 | train loss: 0.907, train accuracy: 0.687, test loss: 0.826, test accuracy: 0.713, time: 0:07:19\n",
      "Epoch 9 | train loss: 0.882, train accuracy: 0.694, test loss: 0.846, test accuracy: 0.708, time: 0:08:13\n",
      "Epoch 10 | train loss: 0.863, train accuracy: 0.700, test loss: 0.792, test accuracy: 0.729, time: 0:09:07\n",
      "Epoch 11 | train loss: 0.845, train accuracy: 0.709, test loss: 0.799, test accuracy: 0.721, time: 0:10:01\n",
      "Epoch 12 | train loss: 0.834, train accuracy: 0.712, test loss: 0.788, test accuracy: 0.730, time: 0:10:56\n",
      "Epoch 13 | train loss: 0.819, train accuracy: 0.718, test loss: 0.772, test accuracy: 0.735, time: 0:11:51\n",
      "Epoch 14 | train loss: 0.801, train accuracy: 0.724, test loss: 0.757, test accuracy: 0.741, time: 0:12:44\n",
      "Epoch 15 | train loss: 0.798, train accuracy: 0.724, test loss: 0.802, test accuracy: 0.730, time: 0:13:38\n",
      "Epoch 16 | train loss: 0.781, train accuracy: 0.730, test loss: 0.728, test accuracy: 0.749, time: 0:14:32\n",
      "Epoch 17 | train loss: 0.773, train accuracy: 0.734, test loss: 0.745, test accuracy: 0.747, time: 0:15:25\n",
      "Epoch 18 | train loss: 0.768, train accuracy: 0.736, test loss: 0.736, test accuracy: 0.751, time: 0:16:19\n",
      "Epoch 19 | train loss: 0.755, train accuracy: 0.738, test loss: 0.739, test accuracy: 0.747, time: 0:17:13\n",
      "Epoch 20 | train loss: 0.750, train accuracy: 0.743, test loss: 0.702, test accuracy: 0.762, time: 0:18:07\n",
      "Epoch 21 | train loss: 0.743, train accuracy: 0.744, test loss: 0.738, test accuracy: 0.752, time: 0:19:01\n",
      "Epoch 22 | train loss: 0.738, train accuracy: 0.744, test loss: 0.723, test accuracy: 0.752, time: 0:19:54\n",
      "Epoch 23 | train loss: 0.724, train accuracy: 0.749, test loss: 0.698, test accuracy: 0.764, time: 0:20:48\n",
      "Epoch 24 | train loss: 0.719, train accuracy: 0.751, test loss: 0.711, test accuracy: 0.759, time: 0:21:43\n",
      "Epoch 25 | train loss: 0.716, train accuracy: 0.754, test loss: 0.679, test accuracy: 0.767, time: 0:22:37\n",
      "Epoch 26 | train loss: 0.709, train accuracy: 0.757, test loss: 0.688, test accuracy: 0.763, time: 0:23:31\n",
      "Epoch 27 | train loss: 0.714, train accuracy: 0.753, test loss: 0.736, test accuracy: 0.751, time: 0:24:24\n",
      "Epoch 28 | train loss: 0.707, train accuracy: 0.756, test loss: 0.677, test accuracy: 0.771, time: 0:25:18\n",
      "Epoch 29 | train loss: 0.695, train accuracy: 0.760, test loss: 0.686, test accuracy: 0.768, time: 0:26:12\n",
      "Epoch 30 | train loss: 0.694, train accuracy: 0.762, test loss: 0.669, test accuracy: 0.771, time: 0:27:06\n",
      "Epoch 31 | train loss: 0.697, train accuracy: 0.760, test loss: 0.680, test accuracy: 0.770, time: 0:28:00\n",
      "Epoch 32 | train loss: 0.687, train accuracy: 0.762, test loss: 0.696, test accuracy: 0.763, time: 0:28:53\n",
      "Epoch 33 | train loss: 0.682, train accuracy: 0.763, test loss: 0.680, test accuracy: 0.769, time: 0:29:47\n",
      "Epoch 34 | train loss: 0.683, train accuracy: 0.764, test loss: 0.674, test accuracy: 0.771, time: 0:30:40\n",
      "Epoch 35 | train loss: 0.680, train accuracy: 0.766, test loss: 0.686, test accuracy: 0.773, time: 0:31:33\n",
      "Epoch 36 | train loss: 0.677, train accuracy: 0.767, test loss: 0.658, test accuracy: 0.776, time: 0:32:27\n",
      "Epoch 37 | train loss: 0.673, train accuracy: 0.766, test loss: 0.648, test accuracy: 0.776, time: 0:33:21\n",
      "Epoch 38 | train loss: 0.666, train accuracy: 0.770, test loss: 0.652, test accuracy: 0.779, time: 0:34:15\n",
      "Epoch 39 | train loss: 0.665, train accuracy: 0.770, test loss: 0.662, test accuracy: 0.774, time: 0:35:08\n",
      "Epoch 40 | train loss: 0.663, train accuracy: 0.771, test loss: 0.659, test accuracy: 0.773, time: 0:36:01\n",
      "Epoch 41 | train loss: 0.662, train accuracy: 0.770, test loss: 0.654, test accuracy: 0.778, time: 0:36:55\n",
      "Epoch 42 | train loss: 0.659, train accuracy: 0.771, test loss: 0.672, test accuracy: 0.775, time: 0:37:48\n",
      "Epoch 43 | train loss: 0.651, train accuracy: 0.774, test loss: 0.686, test accuracy: 0.765, time: 0:38:42\n",
      "Epoch 44 | train loss: 0.649, train accuracy: 0.774, test loss: 0.674, test accuracy: 0.773, time: 0:39:36\n",
      "Epoch 45 | train loss: 0.650, train accuracy: 0.775, test loss: 0.647, test accuracy: 0.784, time: 0:40:29\n",
      "Epoch 46 | train loss: 0.650, train accuracy: 0.775, test loss: 0.642, test accuracy: 0.778, time: 0:41:22\n",
      "Epoch 47 | train loss: 0.644, train accuracy: 0.775, test loss: 0.643, test accuracy: 0.782, time: 0:42:16\n",
      "Epoch 48 | train loss: 0.647, train accuracy: 0.777, test loss: 0.631, test accuracy: 0.787, time: 0:43:10\n",
      "Epoch 49 | train loss: 0.640, train accuracy: 0.778, test loss: 0.641, test accuracy: 0.783, time: 0:44:03\n",
      "Epoch 50 | train loss: 0.640, train accuracy: 0.780, test loss: 0.642, test accuracy: 0.784, time: 0:44:57\n"
     ]
    }
   ],
   "source": [
    "cnn = nn.Sequential(\n",
    "    nn.Conv2d(in_channels=3, out_channels=64, kernel_size=3, padding=1),\n",
    "    nn.ReLU(),\n",
    "    nn.MaxPool2d(kernel_size=2, stride=2),\n",
    "    nn.Conv2d(in_channels=64, out_channels=64, kernel_size=3, padding=1),\n",
    "    nn.ReLU(),\n",
    "    nn.MaxPool2d(kernel_size=2, stride=2),\n",
    "    nn.Flatten(),\n",
    "    nn.Linear(in_features=4096, out_features=10)\n",
    ")\n",
    "if USE_GPU:\n",
    "    cnn.cuda()\n",
    "\n",
    "opt = optim.Adam(cnn.parameters(), lr=1e-3)\n",
    "train_classifier(cnn, opt, 'cnn', train_data=augmented_train_data)"
   ]
  },
  {
   "cell_type": "markdown",
   "metadata": {
    "deletable": false,
    "editable": false,
    "nbgrader": {
     "cell_type": "markdown",
     "checksum": "9499e32100d839b47abf3ca34c056e4c",
     "grade": false,
     "grade_id": "cell-ec21497c60752bff",
     "locked": true,
     "schema_version": 3,
     "solution": false,
     "task": false
    }
   },
   "source": [
    "Does it improve the result? Does it run faster than the MLP?"
   ]
  },
  {
   "cell_type": "markdown",
   "metadata": {
    "deletable": false,
    "nbgrader": {
     "cell_type": "markdown",
     "checksum": "5822a2c3f1912ec22098888cf844e24f",
     "grade": true,
     "grade_id": "cell-e6010db8bc2020df",
     "locked": false,
     "points": 0,
     "schema_version": 3,
     "solution": true
    }
   },
   "source": [
    "*POINTS: 0*\n",
    "\n",
    "YOUR ANSWER HERE"
   ]
  },
  {
   "cell_type": "markdown",
   "metadata": {
    "deletable": false,
    "editable": false,
    "nbgrader": {
     "cell_type": "markdown",
     "checksum": "17176673004e05c8844e010631ad793f",
     "grade": false,
     "grade_id": "cell-2ee4f12368d36c69",
     "locked": true,
     "schema_version": 3,
     "solution": false,
     "task": false
    }
   },
   "source": [
    "How many parameters does this model have? How many parameters has the MLP? Show the steps of your computation!"
   ]
  },
  {
   "cell_type": "markdown",
   "metadata": {
    "deletable": false,
    "nbgrader": {
     "cell_type": "markdown",
     "checksum": "516a0d4f0bf00fa1c6dc54d46636ec54",
     "grade": true,
     "grade_id": "cell-599a5093a914d24d",
     "locked": false,
     "points": 0,
     "schema_version": 3,
     "solution": true,
     "task": false
    }
   },
   "source": [
    "*POINTS: 0*\n",
    "\n",
    "YOUR ANSWER HERE"
   ]
  },
  {
   "cell_type": "markdown",
   "metadata": {
    "deletable": false,
    "editable": false,
    "nbgrader": {
     "cell_type": "markdown",
     "checksum": "17fb275a2893b83465467e397305d397",
     "grade": false,
     "grade_id": "cell-ae5c926bd88fcedb",
     "locked": true,
     "schema_version": 3,
     "solution": false,
     "task": false
    }
   },
   "source": [
    "## Implementing the Forward Pass\n",
    "\n",
    "To confirm your understanding of the main CNN components, implement the forward pass of the convolutional, max pooling and dense layers, plus the relu activation function. For simplicity, assume a fixed filter size of 3x3 for the convolution, with stride 1 and use zero padding, such that the spatial size does not change (called 'same' padding). Implement this in `conv3x3_same`. For max pooling assume a fixed 2x2 pooling size and stride 2 in `maxpool2x2`.\n",
    "\n",
    "To check whether your implementation is correct, we can extract the weights from the PyTorch model we trained above, and feed these weights and an test input to your implementation of the forward pass. If your result disagrees with PyTorch, there is probably a bug somewhere!"
   ]
  },
  {
   "cell_type": "code",
   "execution_count": 14,
   "metadata": {
    "deletable": false,
    "nbgrader": {
     "cell_type": "code",
     "checksum": "43bc3ea466742b0614a27f4ba75c8d22",
     "grade": true,
     "grade_id": "cell-e8926ce2153b13ca",
     "locked": false,
     "points": 10,
     "schema_version": 3,
     "solution": true
    }
   },
   "outputs": [
    {
     "name": "stdout",
     "output_type": "stream",
     "text": [
      "Congratulations, you got correct results!\n"
     ]
    }
   ],
   "source": [
    "# POINTS: 10\n",
    "\n",
    "def conv3x3_same(x, weights, biases):\n",
    "    \"\"\"Convolutional layer with filter size 3x3 and 'same' padding.\n",
    "    `x` is a NumPy array of shape [in_channels, height, width]\n",
    "    `weights` has shape [out_channels, in_channels, kernel_height, kernel_width]\n",
    "    `biases` has shape [out_channels]\n",
    "    Return the output of the 3x3 conv (without activation)\n",
    "    \"\"\"\n",
    "    # YOUR CODE HERE\n",
    "    #print(x.shape)\n",
    "    #print(weights.shape)\n",
    "    stride=1\n",
    "    padding_size=(int((weights.shape[2]-1)/2),int((weights.shape[3]-1)/2))\n",
    "    #print(padding_size)\n",
    "    padded_x=[]\n",
    "    for i in range(x.shape[0]):\n",
    "        padded_x.append(np.pad(x[i], padding_size, 'constant', constant_values=0))\n",
    "    padded_x=np.stack(padded_x)\n",
    "    results=np.zeros((weights.shape[0],x.shape[1],x.shape[2] ))\n",
    "    #print(padded_x.shape)\n",
    "    #print(0,padded_x.shape[1]-weights.shape[2]+1,stride)\n",
    "    for i in range(0,padded_x.shape[1]-weights.shape[2]+1,stride):\n",
    "        for j in range(0,padded_x.shape[2]-weights.shape[3]+1,stride):\n",
    "            for c in range(0, weights.shape[0]):\n",
    "                t=np.sum(weights[c,:,:,:].flatten()*padded_x[:,i:i+weights.shape[2],j:j+weights.shape[3]].flatten())\n",
    "                results[c][int(i/stride)][int(j/stride)]=t+biases[c]\n",
    "\n",
    "    return results\n",
    "\n",
    "def maxpool2x2(x):\n",
    "    \"\"\"Max pooling with pool size 2x2 and stride 2.\n",
    "    `x` is a numpy array of shape [in_channels, height, width]\n",
    "    \"\"\"\n",
    "    # YOUR CODE HERE\n",
    "    kernel=(2,2)\n",
    "    stride=2\n",
    "    results=np.zeros((x.shape[0],int(x.shape[1]/stride),int(x.shape[2]/stride)))\n",
    "    for i in range(0,x.shape[1]-kernel[0]+1,stride):\n",
    "        for j in range(0,x.shape[2]-kernel[1]+1,stride):\n",
    "            for c in range(0,x.shape[0]):\n",
    "                t=np.max(x[c,i:i+kernel[0],j:j+kernel[1]])\n",
    "                results[c,int(i/stride),int(j/stride)]=t\n",
    "    return results\n",
    "\n",
    "def linear(x, weights, biases):\n",
    "    return np.dot(weights,x)+biases\n",
    "    \n",
    "def relu(x):\n",
    "    return np.maximum(0,x)\n",
    "\n",
    "def my_predict_cnn(x, W1, b1, W2, b2, W3, b3):\n",
    "    x = conv3x3_same(x, W1, b1)\n",
    "    x = relu(x)\n",
    "    x = maxpool2x2(x)\n",
    "    x = conv3x3_same(x, W2, b2)\n",
    "    x = relu(x)\n",
    "    x = maxpool2x2(x)\n",
    "    x = x.reshape(-1)\n",
    "    x = linear(x, W3, b3)\n",
    "    return x\n",
    "\n",
    "W1 = cnn[0].weight.data.cpu().numpy()\n",
    "b1 = cnn[0].bias.data.cpu().numpy()\n",
    "W2 = cnn[3].weight.data.cpu().numpy()\n",
    "b2 = cnn[3].bias.data.cpu().numpy()\n",
    "W3 = cnn[7].weight.data.cpu().numpy()\n",
    "b3 = cnn[7].bias.data.cpu().numpy()\n",
    "\n",
    "inp = train_data[0][0]\n",
    "inp_np = inp.numpy()\n",
    "if USE_GPU:\n",
    "    inp = inp.cuda()\n",
    "my_logits = my_predict_cnn(inp_np, W1, b1, W2, b2, W3, b3)\n",
    "pytorch_logits = cnn(inp[np.newaxis])[0]\n",
    "if np.mean((my_logits-pytorch_logits.detach().cpu().numpy())**2) > 1e-5:\n",
    "    print('Something isn\\'t right! PyTorch gives different results than my_predict_cnn!')\n",
    "else:\n",
    "    print('Congratulations, you got correct results!')"
   ]
  },
  {
   "cell_type": "markdown",
   "metadata": {
    "deletable": false,
    "editable": false,
    "nbgrader": {
     "cell_type": "markdown",
     "checksum": "dec1c39a9a1c02b7281de1fd2622c108",
     "grade": false,
     "grade_id": "cell-959a911a2a175121",
     "locked": true,
     "schema_version": 3,
     "solution": false,
     "task": false
    }
   },
   "source": [
    "## Batch Normalization\n",
    "\n",
    "Batch normalization is a modern technique to improve and speed up the training of deep neural networks (BatchNorm, Ioffe & Szegedy ICML'15, https://arxiv.org/abs/1502.03167). Each feature channel is normalized to have zero mean and unit variance across the spatial and mini-batch axes. To compensate for the lost degrees of freedom, extra scaling and bias parameters are introduced and learned. Mathematically, BatchNorm for a spatial feature map (e.g. the output of conv) can be written as:\n",
    "\n",
    "$$\n",
    "\\mu_d = \\mathbb{E}\\{x_{\\cdot \\cdot d}\\}, \\\\\n",
    "\\sigma_d = \\sqrt{\\operatorname{Var}\\{x_{\\cdot \\cdot d}\\}} \\\\\n",
    "z_{ijd} = \\gamma_d \\cdot \\frac{x_{ijd} - \\mu_d}{\\sigma_d} + \\beta_d,\\\\\n",
    "$$\n",
    "\n",
    "with the expectation and variance taken across both the data samples of the batch and the spatial dimensions.\n",
    "\n",
    "The $\\mu_d$ and $\\sigma_d$ values are computed on the actual mini-batch during training, but at test-time they are fixed, so that the prediction of the final system on a given sample does not depend on other samples in the mini-batch. To obtain the fixed values for test-time use, one needs to maintain moving statistics over the activations during training. This can be a bit tricky to implement from scratch, but luckily this is now implemented in all popular frameworks, including PyTorch.\n",
    "\n",
    "When applying BatchNorm, it is not necessary to use biases in the previous convolutional layer. Why? Use the `bias` argument of `nn.Conv2d` accordingly."
   ]
  },
  {
   "cell_type": "markdown",
   "metadata": {
    "deletable": false,
    "nbgrader": {
     "cell_type": "markdown",
     "checksum": "384036a5283192262c7ff77892cec960",
     "grade": true,
     "grade_id": "cell-0178a85974e9358e",
     "locked": false,
     "points": 0,
     "schema_version": 3,
     "solution": true
    }
   },
   "source": [
    "*POINTS: 0*\n",
    "\n",
    "YOUR ANSWER HERE"
   ]
  },
  {
   "cell_type": "markdown",
   "metadata": {
    "deletable": false,
    "editable": false,
    "nbgrader": {
     "cell_type": "markdown",
     "checksum": "2c7d1c4f4b79114e42807242ca306cf7",
     "grade": false,
     "grade_id": "cell-1a1a3ac922ed7e52",
     "locked": true,
     "schema_version": 3,
     "solution": false,
     "task": false
    }
   },
   "source": [
    "Create a modified version of the previous model using batch normalization between each convolution and the corresponding activation."
   ]
  },
  {
   "cell_type": "code",
   "execution_count": 15,
   "metadata": {
    "deletable": false,
    "nbgrader": {
     "cell_type": "code",
     "checksum": "f839f8a1cf077c9064b5b47c62022aa6",
     "grade": true,
     "grade_id": "cell-83b754b10f9a5f09",
     "locked": false,
     "points": 3,
     "schema_version": 3,
     "solution": true
    }
   },
   "outputs": [
    {
     "name": "stdout",
     "output_type": "stream",
     "text": [
      "Epoch 1 | train loss: 1.448, train accuracy: 0.517, test loss: 1.157, test accuracy: 0.630, time: 0:01:20\n",
      "Epoch 2 | train loss: 1.172, train accuracy: 0.619, test loss: 1.024, test accuracy: 0.672, time: 0:02:37\n",
      "Epoch 3 | train loss: 1.064, train accuracy: 0.650, test loss: 0.924, test accuracy: 0.704, time: 0:03:54\n",
      "Epoch 4 | train loss: 0.991, train accuracy: 0.670, test loss: 0.856, test accuracy: 0.719, time: 0:05:10\n",
      "Epoch 5 | train loss: 0.943, train accuracy: 0.684, test loss: 0.837, test accuracy: 0.723, time: 0:06:25\n",
      "Epoch 6 | train loss: 0.897, train accuracy: 0.699, test loss: 0.802, test accuracy: 0.733, time: 0:07:40\n",
      "Epoch 7 | train loss: 0.865, train accuracy: 0.709, test loss: 0.763, test accuracy: 0.743, time: 0:08:54\n",
      "Epoch 8 | train loss: 0.840, train accuracy: 0.716, test loss: 0.754, test accuracy: 0.744, time: 0:10:08\n",
      "Epoch 9 | train loss: 0.820, train accuracy: 0.721, test loss: 0.775, test accuracy: 0.736, time: 0:11:22\n",
      "Epoch 10 | train loss: 0.797, train accuracy: 0.728, test loss: 0.757, test accuracy: 0.746, time: 0:12:37\n",
      "Epoch 11 | train loss: 0.783, train accuracy: 0.735, test loss: 0.702, test accuracy: 0.759, time: 0:13:52\n",
      "Epoch 12 | train loss: 0.764, train accuracy: 0.739, test loss: 0.713, test accuracy: 0.760, time: 0:15:06\n",
      "Epoch 13 | train loss: 0.754, train accuracy: 0.742, test loss: 0.711, test accuracy: 0.759, time: 0:16:20\n",
      "Epoch 14 | train loss: 0.741, train accuracy: 0.746, test loss: 0.685, test accuracy: 0.765, time: 0:17:35\n",
      "Epoch 15 | train loss: 0.733, train accuracy: 0.750, test loss: 0.689, test accuracy: 0.761, time: 0:18:50\n",
      "Epoch 16 | train loss: 0.719, train accuracy: 0.755, test loss: 0.670, test accuracy: 0.767, time: 0:20:04\n",
      "Epoch 17 | train loss: 0.714, train accuracy: 0.754, test loss: 0.690, test accuracy: 0.761, time: 0:21:19\n",
      "Epoch 18 | train loss: 0.706, train accuracy: 0.759, test loss: 0.674, test accuracy: 0.766, time: 0:22:34\n",
      "Epoch 19 | train loss: 0.698, train accuracy: 0.761, test loss: 0.640, test accuracy: 0.778, time: 0:23:47\n",
      "Epoch 20 | train loss: 0.688, train accuracy: 0.764, test loss: 0.692, test accuracy: 0.763, time: 0:25:01\n",
      "Epoch 21 | train loss: 0.680, train accuracy: 0.765, test loss: 0.658, test accuracy: 0.769, time: 0:26:15\n",
      "Epoch 22 | train loss: 0.672, train accuracy: 0.769, test loss: 0.670, test accuracy: 0.772, time: 0:27:29\n",
      "Epoch 23 | train loss: 0.661, train accuracy: 0.772, test loss: 0.654, test accuracy: 0.773, time: 0:28:43\n",
      "Epoch 24 | train loss: 0.665, train accuracy: 0.773, test loss: 0.636, test accuracy: 0.785, time: 0:29:57\n",
      "Epoch 25 | train loss: 0.654, train accuracy: 0.776, test loss: 0.660, test accuracy: 0.769, time: 0:31:11\n",
      "Epoch 26 | train loss: 0.652, train accuracy: 0.776, test loss: 0.610, test accuracy: 0.791, time: 0:32:25\n",
      "Epoch 27 | train loss: 0.648, train accuracy: 0.778, test loss: 0.629, test accuracy: 0.789, time: 0:33:40\n",
      "Epoch 28 | train loss: 0.643, train accuracy: 0.780, test loss: 0.640, test accuracy: 0.784, time: 0:34:54\n",
      "Epoch 29 | train loss: 0.635, train accuracy: 0.782, test loss: 0.621, test accuracy: 0.784, time: 0:36:08\n",
      "Epoch 30 | train loss: 0.638, train accuracy: 0.779, test loss: 0.608, test accuracy: 0.789, time: 0:37:23\n",
      "Epoch 31 | train loss: 0.634, train accuracy: 0.782, test loss: 0.604, test accuracy: 0.788, time: 0:38:37\n",
      "Epoch 32 | train loss: 0.627, train accuracy: 0.785, test loss: 0.593, test accuracy: 0.800, time: 0:39:52\n",
      "Epoch 33 | train loss: 0.621, train accuracy: 0.787, test loss: 0.614, test accuracy: 0.790, time: 0:41:06\n",
      "Epoch 34 | train loss: 0.618, train accuracy: 0.787, test loss: 0.609, test accuracy: 0.789, time: 0:42:21\n",
      "Epoch 35 | train loss: 0.613, train accuracy: 0.790, test loss: 0.592, test accuracy: 0.795, time: 0:43:35\n",
      "Epoch 36 | train loss: 0.615, train accuracy: 0.789, test loss: 0.593, test accuracy: 0.797, time: 0:44:48\n",
      "Epoch 37 | train loss: 0.611, train accuracy: 0.789, test loss: 0.595, test accuracy: 0.800, time: 0:46:02\n",
      "Epoch 38 | train loss: 0.606, train accuracy: 0.791, test loss: 0.585, test accuracy: 0.799, time: 0:47:16\n",
      "Epoch 39 | train loss: 0.604, train accuracy: 0.794, test loss: 0.569, test accuracy: 0.807, time: 0:48:30\n",
      "Epoch 40 | train loss: 0.601, train accuracy: 0.793, test loss: 0.597, test accuracy: 0.794, time: 0:49:44\n",
      "Epoch 41 | train loss: 0.597, train accuracy: 0.793, test loss: 0.608, test accuracy: 0.794, time: 0:50:57\n",
      "Epoch 42 | train loss: 0.598, train accuracy: 0.793, test loss: 0.584, test accuracy: 0.805, time: 0:52:11\n",
      "Epoch 43 | train loss: 0.591, train accuracy: 0.796, test loss: 0.559, test accuracy: 0.811, time: 0:53:25\n",
      "Epoch 44 | train loss: 0.590, train accuracy: 0.796, test loss: 0.581, test accuracy: 0.803, time: 0:54:39\n",
      "Epoch 45 | train loss: 0.585, train accuracy: 0.800, test loss: 0.575, test accuracy: 0.803, time: 0:55:53\n",
      "Epoch 46 | train loss: 0.587, train accuracy: 0.797, test loss: 0.566, test accuracy: 0.808, time: 0:57:07\n",
      "Epoch 47 | train loss: 0.582, train accuracy: 0.801, test loss: 0.604, test accuracy: 0.794, time: 0:58:21\n",
      "Epoch 48 | train loss: 0.582, train accuracy: 0.799, test loss: 0.569, test accuracy: 0.807, time: 0:59:35\n",
      "Epoch 49 | train loss: 0.580, train accuracy: 0.800, test loss: 0.584, test accuracy: 0.800, time: 1:00:49\n",
      "Epoch 50 | train loss: 0.578, train accuracy: 0.801, test loss: 0.561, test accuracy: 0.808, time: 1:02:04\n"
     ]
    }
   ],
   "source": [
    "# POINTS: 3\n",
    "\n",
    "cnn_batchnorm = nn.Sequential(\n",
    "    nn.Conv2d(in_channels=3, out_channels=64, kernel_size=3, padding=1),\n",
    "    nn.BatchNorm2d(64),\n",
    "    nn.ReLU(),\n",
    "    nn.MaxPool2d(kernel_size=2, stride=2),\n",
    "    nn.Conv2d(in_channels=64, out_channels=64, kernel_size=3, padding=1),\n",
    "    nn.BatchNorm2d(64),\n",
    "    nn.ReLU(),\n",
    "    nn.MaxPool2d(kernel_size=2, stride=2),\n",
    "    nn.Flatten(),\n",
    "    nn.Linear(in_features=4096, out_features=10),\n",
    "    nn.BatchNorm1d(10)\n",
    ")\n",
    "if USE_GPU:\n",
    "    cnn_batchnorm.cuda()\n",
    "\n",
    "opt = optim.Adam(cnn_batchnorm.parameters(), lr=1e-3)\n",
    "train_classifier(cnn_batchnorm, opt, 'cnn_batchnorm', train_data=augmented_train_data)"
   ]
  },
  {
   "cell_type": "markdown",
   "metadata": {
    "deletable": false,
    "editable": false,
    "nbgrader": {
     "cell_type": "markdown",
     "checksum": "a7ac28f2a6faced5ad48faa2f43224f6",
     "grade": false,
     "grade_id": "cell-57707594f666ee77",
     "locked": true,
     "schema_version": 3,
     "solution": false,
     "task": false
    }
   },
   "source": [
    "## Strided Convolutions\n",
    "\n",
    "Max-pooling is a popular technique for reducing the spatial dimensionality\n",
    "of the outputs from conv layers. Another way to reduce dimensionality is striding. For an argument why this may be similarly effective, see [Springenberg et al., ICLRW'15](https://arxiv.org/pdf/1412.6806.pdf).\n",
    "\n",
    "Now create a model using the same architecture as before, with the difference of\n",
    "removing the max-pooling layers and increasing the stride parameter of the conv layers to $2 \\times 2$ in the spatial dimensions. "
   ]
  },
  {
   "cell_type": "code",
   "execution_count": 16,
   "metadata": {
    "deletable": false,
    "nbgrader": {
     "cell_type": "code",
     "checksum": "735a9eb696991a3230e2314330847d97",
     "grade": true,
     "grade_id": "cell-34f5d6a1166b46fa",
     "locked": false,
     "points": 2,
     "schema_version": 3,
     "solution": true
    }
   },
   "outputs": [
    {
     "name": "stdout",
     "output_type": "stream",
     "text": [
      "Epoch 1 | train loss: 1.525, train accuracy: 0.453, test loss: 1.213, test accuracy: 0.568, time: 0:00:21\n",
      "Epoch 2 | train loss: 1.242, train accuracy: 0.559, test loss: 1.066, test accuracy: 0.623, time: 0:00:43\n",
      "Epoch 3 | train loss: 1.117, train accuracy: 0.605, test loss: 0.990, test accuracy: 0.650, time: 0:01:05\n",
      "Epoch 4 | train loss: 1.055, train accuracy: 0.627, test loss: 0.915, test accuracy: 0.676, time: 0:01:27\n",
      "Epoch 5 | train loss: 1.012, train accuracy: 0.646, test loss: 0.949, test accuracy: 0.673, time: 0:01:48\n",
      "Epoch 6 | train loss: 0.978, train accuracy: 0.657, test loss: 0.899, test accuracy: 0.686, time: 0:02:10\n",
      "Epoch 7 | train loss: 0.955, train accuracy: 0.666, test loss: 0.854, test accuracy: 0.695, time: 0:02:32\n",
      "Epoch 8 | train loss: 0.934, train accuracy: 0.675, test loss: 0.846, test accuracy: 0.704, time: 0:02:54\n",
      "Epoch 9 | train loss: 0.913, train accuracy: 0.681, test loss: 0.888, test accuracy: 0.691, time: 0:03:15\n",
      "Epoch 10 | train loss: 0.903, train accuracy: 0.685, test loss: 0.810, test accuracy: 0.718, time: 0:03:37\n",
      "Epoch 11 | train loss: 0.886, train accuracy: 0.692, test loss: 0.790, test accuracy: 0.727, time: 0:03:59\n",
      "Epoch 12 | train loss: 0.878, train accuracy: 0.695, test loss: 0.797, test accuracy: 0.728, time: 0:04:21\n",
      "Epoch 13 | train loss: 0.862, train accuracy: 0.699, test loss: 0.798, test accuracy: 0.722, time: 0:04:42\n",
      "Epoch 14 | train loss: 0.855, train accuracy: 0.703, test loss: 0.801, test accuracy: 0.720, time: 0:05:04\n",
      "Epoch 15 | train loss: 0.845, train accuracy: 0.709, test loss: 0.832, test accuracy: 0.712, time: 0:05:26\n",
      "Epoch 16 | train loss: 0.834, train accuracy: 0.711, test loss: 0.794, test accuracy: 0.729, time: 0:05:48\n",
      "Epoch 17 | train loss: 0.826, train accuracy: 0.715, test loss: 0.768, test accuracy: 0.732, time: 0:06:09\n",
      "Epoch 18 | train loss: 0.820, train accuracy: 0.716, test loss: 0.760, test accuracy: 0.741, time: 0:06:31\n",
      "Epoch 19 | train loss: 0.810, train accuracy: 0.719, test loss: 0.770, test accuracy: 0.730, time: 0:06:53\n",
      "Epoch 20 | train loss: 0.809, train accuracy: 0.721, test loss: 0.765, test accuracy: 0.735, time: 0:07:14\n",
      "Epoch 21 | train loss: 0.798, train accuracy: 0.722, test loss: 0.740, test accuracy: 0.744, time: 0:07:36\n",
      "Epoch 22 | train loss: 0.796, train accuracy: 0.726, test loss: 0.773, test accuracy: 0.738, time: 0:07:58\n",
      "Epoch 23 | train loss: 0.786, train accuracy: 0.728, test loss: 0.739, test accuracy: 0.750, time: 0:08:19\n",
      "Epoch 24 | train loss: 0.784, train accuracy: 0.727, test loss: 0.732, test accuracy: 0.746, time: 0:08:41\n",
      "Epoch 25 | train loss: 0.774, train accuracy: 0.732, test loss: 0.723, test accuracy: 0.749, time: 0:09:03\n",
      "Epoch 26 | train loss: 0.771, train accuracy: 0.732, test loss: 0.720, test accuracy: 0.752, time: 0:09:25\n",
      "Epoch 27 | train loss: 0.772, train accuracy: 0.734, test loss: 0.724, test accuracy: 0.753, time: 0:09:47\n",
      "Epoch 28 | train loss: 0.758, train accuracy: 0.739, test loss: 0.741, test accuracy: 0.750, time: 0:10:08\n",
      "Epoch 29 | train loss: 0.760, train accuracy: 0.738, test loss: 0.711, test accuracy: 0.753, time: 0:10:30\n",
      "Epoch 30 | train loss: 0.753, train accuracy: 0.740, test loss: 0.715, test accuracy: 0.755, time: 0:10:52\n",
      "Epoch 31 | train loss: 0.756, train accuracy: 0.740, test loss: 0.710, test accuracy: 0.755, time: 0:11:14\n",
      "Epoch 32 | train loss: 0.751, train accuracy: 0.741, test loss: 0.711, test accuracy: 0.757, time: 0:11:35\n",
      "Epoch 33 | train loss: 0.746, train accuracy: 0.742, test loss: 0.716, test accuracy: 0.755, time: 0:11:57\n",
      "Epoch 34 | train loss: 0.736, train accuracy: 0.746, test loss: 0.714, test accuracy: 0.754, time: 0:12:19\n",
      "Epoch 35 | train loss: 0.738, train accuracy: 0.745, test loss: 0.748, test accuracy: 0.745, time: 0:12:40\n",
      "Epoch 36 | train loss: 0.735, train accuracy: 0.746, test loss: 0.720, test accuracy: 0.754, time: 0:13:02\n",
      "Epoch 37 | train loss: 0.732, train accuracy: 0.747, test loss: 0.689, test accuracy: 0.760, time: 0:13:24\n",
      "Epoch 38 | train loss: 0.725, train accuracy: 0.749, test loss: 0.703, test accuracy: 0.757, time: 0:13:46\n",
      "Epoch 39 | train loss: 0.728, train accuracy: 0.749, test loss: 0.704, test accuracy: 0.758, time: 0:14:08\n",
      "Epoch 40 | train loss: 0.725, train accuracy: 0.751, test loss: 0.686, test accuracy: 0.767, time: 0:14:30\n",
      "Epoch 41 | train loss: 0.718, train accuracy: 0.752, test loss: 0.696, test accuracy: 0.762, time: 0:14:51\n",
      "Epoch 42 | train loss: 0.720, train accuracy: 0.751, test loss: 0.701, test accuracy: 0.760, time: 0:15:13\n",
      "Epoch 43 | train loss: 0.715, train accuracy: 0.753, test loss: 0.698, test accuracy: 0.761, time: 0:15:35\n",
      "Epoch 44 | train loss: 0.714, train accuracy: 0.754, test loss: 0.706, test accuracy: 0.759, time: 0:15:57\n",
      "Epoch 45 | train loss: 0.707, train accuracy: 0.756, test loss: 0.709, test accuracy: 0.760, time: 0:16:19\n",
      "Epoch 46 | train loss: 0.710, train accuracy: 0.755, test loss: 0.683, test accuracy: 0.769, time: 0:16:40\n",
      "Epoch 47 | train loss: 0.708, train accuracy: 0.756, test loss: 0.691, test accuracy: 0.768, time: 0:17:02\n",
      "Epoch 48 | train loss: 0.705, train accuracy: 0.757, test loss: 0.667, test accuracy: 0.771, time: 0:17:24\n",
      "Epoch 49 | train loss: 0.697, train accuracy: 0.762, test loss: 0.685, test accuracy: 0.766, time: 0:17:46\n",
      "Epoch 50 | train loss: 0.696, train accuracy: 0.761, test loss: 0.668, test accuracy: 0.775, time: 0:18:07\n"
     ]
    }
   ],
   "source": [
    "# POINTS: 2\n",
    "\n",
    "cnn_strides = nn.Sequential(\n",
    "    nn.Conv2d(in_channels=3, out_channels=64, kernel_size=3, padding=1,stride =(2,2)),\n",
    "    nn.BatchNorm2d(64),\n",
    "    nn.ReLU(),\n",
    "    nn.Conv2d(in_channels=64, out_channels=64, kernel_size=3, padding=1,stride =(2,2)),\n",
    "    nn.BatchNorm2d(64),\n",
    "    nn.ReLU(),\n",
    "    nn.Flatten(),\n",
    "    nn.Linear(in_features=4096, out_features=10),\n",
    ")\n",
    "if USE_GPU:\n",
    "    cnn_strides.cuda()\n",
    "\n",
    "opt = optim.Adam(cnn_strides.parameters(), lr=1e-3)\n",
    "train_classifier(cnn_strides, opt, 'cnn_strides', train_data=augmented_train_data)"
   ]
  },
  {
   "cell_type": "markdown",
   "metadata": {
    "deletable": false,
    "editable": false,
    "nbgrader": {
     "cell_type": "markdown",
     "checksum": "fb27ebaacf2db8e350735285db940944",
     "grade": false,
     "grade_id": "cell-cbb6e2eeb2dcc66e",
     "locked": true,
     "schema_version": 3,
     "solution": false,
     "task": false
    }
   },
   "source": [
    "What differences do you notice when training this new network?\n",
    "What is a clear advantage of using strides?"
   ]
  },
  {
   "cell_type": "markdown",
   "metadata": {
    "deletable": false,
    "nbgrader": {
     "cell_type": "markdown",
     "checksum": "c00f4ff39d8abb65116bdf0a0589d1c7",
     "grade": true,
     "grade_id": "cell-12ee310e8234b8f8",
     "locked": false,
     "points": 0,
     "schema_version": 3,
     "solution": true,
     "task": false
    }
   },
   "source": [
    "*POINTS: 0*\n",
    "\n",
    "it's faster"
   ]
  },
  {
   "cell_type": "markdown",
   "metadata": {
    "deletable": false,
    "editable": false,
    "nbgrader": {
     "cell_type": "markdown",
     "checksum": "10c6a5679d00652a999570b133d4f792",
     "grade": false,
     "grade_id": "cell-bc32808a463893fd",
     "locked": true,
     "schema_version": 3,
     "solution": false,
     "task": false
    }
   },
   "source": [
    "## Global Pooling\n",
    "\n",
    "The above network ends in a `Flatten` layer followed by a `Linear` layer, in which the number of weights depends on the input size. This means that testing can only be performed on the exact same image size. Several architectures employ a (spatial) **global average pooling layer** to produce a vector of fixed size describing the whole image.\n",
    "\n",
    "Implement the forward pass of such a layer below. The input `x` has size `[batch_size, channels, height, width]`. The mean must be computed across the last two dimensions, such that the result `pooled` has a size of `[batch_size, channels]`. Note, that you cannot use numpy for this as PyTorch is not able to backpropagate through numpy functions. There are however corresponding PyTorch functions for almost all numpy functions.\n",
    "\n",
    "This layer can now replace the flattening operation from the previous network. However, the units before the average pooling need to have a large enough receptive field, otherwise the model will not work well. Therefore, compared with the previous model, remove the `Flatten` layer and instead add a third Conv-BatchNorm-ReLU combination. Then add `GlobalAvgPool2d` and a final `Linear` layer which returns $10$ values per sample instead of $64$.\n",
    "\n",
    "Train it and see if it reaches similar accuracy to the previous one."
   ]
  },
  {
   "cell_type": "code",
   "execution_count": 17,
   "metadata": {
    "deletable": false,
    "nbgrader": {
     "cell_type": "code",
     "checksum": "db818f085096735ade425e7442ddc610",
     "grade": true,
     "grade_id": "cell-384e1eaafbd3f3b6",
     "locked": false,
     "points": 4,
     "schema_version": 3,
     "solution": true,
     "task": false
    }
   },
   "outputs": [
    {
     "name": "stdout",
     "output_type": "stream",
     "text": [
      "Epoch 1 | train loss: 1.645, train accuracy: 0.416, test loss: 1.393, test accuracy: 0.504, time: 0:00:24\n",
      "Epoch 2 | train loss: 1.356, train accuracy: 0.531, test loss: 1.259, test accuracy: 0.560, time: 0:00:49\n",
      "Epoch 3 | train loss: 1.233, train accuracy: 0.573, test loss: 1.152, test accuracy: 0.596, time: 0:01:14\n",
      "Epoch 4 | train loss: 1.147, train accuracy: 0.604, test loss: 1.095, test accuracy: 0.616, time: 0:01:39\n",
      "Epoch 5 | train loss: 1.089, train accuracy: 0.622, test loss: 1.122, test accuracy: 0.602, time: 0:02:03\n",
      "Epoch 6 | train loss: 1.044, train accuracy: 0.635, test loss: 0.992, test accuracy: 0.656, time: 0:02:29\n",
      "Epoch 7 | train loss: 1.008, train accuracy: 0.649, test loss: 0.948, test accuracy: 0.666, time: 0:02:54\n",
      "Epoch 8 | train loss: 0.980, train accuracy: 0.660, test loss: 0.942, test accuracy: 0.668, time: 0:03:19\n",
      "Epoch 9 | train loss: 0.955, train accuracy: 0.667, test loss: 0.926, test accuracy: 0.674, time: 0:03:43\n",
      "Epoch 10 | train loss: 0.932, train accuracy: 0.676, test loss: 0.881, test accuracy: 0.690, time: 0:04:08\n",
      "Epoch 11 | train loss: 0.914, train accuracy: 0.683, test loss: 0.907, test accuracy: 0.680, time: 0:04:33\n",
      "Epoch 12 | train loss: 0.898, train accuracy: 0.685, test loss: 0.870, test accuracy: 0.695, time: 0:04:58\n",
      "Epoch 13 | train loss: 0.881, train accuracy: 0.692, test loss: 0.874, test accuracy: 0.695, time: 0:05:22\n",
      "Epoch 14 | train loss: 0.868, train accuracy: 0.696, test loss: 0.856, test accuracy: 0.697, time: 0:05:47\n",
      "Epoch 15 | train loss: 0.852, train accuracy: 0.702, test loss: 0.867, test accuracy: 0.698, time: 0:06:12\n",
      "Epoch 16 | train loss: 0.837, train accuracy: 0.707, test loss: 0.891, test accuracy: 0.689, time: 0:06:37\n",
      "Epoch 17 | train loss: 0.828, train accuracy: 0.712, test loss: 0.847, test accuracy: 0.703, time: 0:07:02\n",
      "Epoch 18 | train loss: 0.818, train accuracy: 0.714, test loss: 0.815, test accuracy: 0.714, time: 0:07:27\n",
      "Epoch 19 | train loss: 0.808, train accuracy: 0.717, test loss: 0.803, test accuracy: 0.719, time: 0:07:52\n",
      "Epoch 20 | train loss: 0.796, train accuracy: 0.723, test loss: 0.793, test accuracy: 0.720, time: 0:08:17\n",
      "Epoch 21 | train loss: 0.794, train accuracy: 0.723, test loss: 0.785, test accuracy: 0.722, time: 0:08:42\n",
      "Epoch 22 | train loss: 0.785, train accuracy: 0.726, test loss: 0.830, test accuracy: 0.715, time: 0:09:06\n",
      "Epoch 23 | train loss: 0.775, train accuracy: 0.730, test loss: 0.805, test accuracy: 0.718, time: 0:09:31\n",
      "Epoch 24 | train loss: 0.773, train accuracy: 0.730, test loss: 0.756, test accuracy: 0.734, time: 0:09:56\n",
      "Epoch 25 | train loss: 0.762, train accuracy: 0.734, test loss: 0.771, test accuracy: 0.730, time: 0:10:21\n",
      "Epoch 26 | train loss: 0.759, train accuracy: 0.735, test loss: 0.774, test accuracy: 0.730, time: 0:10:46\n",
      "Epoch 27 | train loss: 0.753, train accuracy: 0.736, test loss: 0.775, test accuracy: 0.732, time: 0:11:10\n",
      "Epoch 28 | train loss: 0.743, train accuracy: 0.739, test loss: 0.725, test accuracy: 0.747, time: 0:11:35\n",
      "Epoch 29 | train loss: 0.738, train accuracy: 0.742, test loss: 0.755, test accuracy: 0.737, time: 0:12:00\n",
      "Epoch 30 | train loss: 0.740, train accuracy: 0.742, test loss: 0.751, test accuracy: 0.740, time: 0:12:25\n",
      "Epoch 31 | train loss: 0.730, train accuracy: 0.745, test loss: 0.784, test accuracy: 0.728, time: 0:12:50\n",
      "Epoch 32 | train loss: 0.727, train accuracy: 0.749, test loss: 0.747, test accuracy: 0.740, time: 0:13:15\n",
      "Epoch 33 | train loss: 0.719, train accuracy: 0.751, test loss: 0.759, test accuracy: 0.738, time: 0:13:40\n",
      "Epoch 34 | train loss: 0.716, train accuracy: 0.750, test loss: 0.743, test accuracy: 0.743, time: 0:14:05\n",
      "Epoch 35 | train loss: 0.718, train accuracy: 0.750, test loss: 0.746, test accuracy: 0.744, time: 0:14:30\n",
      "Epoch 36 | train loss: 0.710, train accuracy: 0.753, test loss: 0.758, test accuracy: 0.739, time: 0:14:55\n",
      "Epoch 37 | train loss: 0.708, train accuracy: 0.754, test loss: 0.717, test accuracy: 0.756, time: 0:15:20\n",
      "Epoch 38 | train loss: 0.704, train accuracy: 0.755, test loss: 0.715, test accuracy: 0.753, time: 0:15:44\n",
      "Epoch 39 | train loss: 0.698, train accuracy: 0.758, test loss: 0.724, test accuracy: 0.750, time: 0:16:09\n",
      "Epoch 40 | train loss: 0.696, train accuracy: 0.757, test loss: 0.693, test accuracy: 0.762, time: 0:16:35\n",
      "Epoch 41 | train loss: 0.692, train accuracy: 0.759, test loss: 0.717, test accuracy: 0.757, time: 0:17:00\n",
      "Epoch 42 | train loss: 0.691, train accuracy: 0.757, test loss: 0.728, test accuracy: 0.749, time: 0:17:25\n",
      "Epoch 43 | train loss: 0.694, train accuracy: 0.757, test loss: 0.720, test accuracy: 0.752, time: 0:17:50\n",
      "Epoch 44 | train loss: 0.687, train accuracy: 0.762, test loss: 0.704, test accuracy: 0.756, time: 0:18:14\n",
      "Epoch 45 | train loss: 0.687, train accuracy: 0.762, test loss: 0.741, test accuracy: 0.744, time: 0:18:39\n",
      "Epoch 46 | train loss: 0.679, train accuracy: 0.764, test loss: 0.678, test accuracy: 0.766, time: 0:19:05\n",
      "Epoch 47 | train loss: 0.678, train accuracy: 0.763, test loss: 0.704, test accuracy: 0.761, time: 0:19:48\n",
      "Epoch 48 | train loss: 0.676, train accuracy: 0.765, test loss: 0.705, test accuracy: 0.759, time: 0:20:14\n",
      "Epoch 49 | train loss: 0.672, train accuracy: 0.765, test loss: 0.690, test accuracy: 0.760, time: 0:20:38\n",
      "Epoch 50 | train loss: 0.672, train accuracy: 0.767, test loss: 0.689, test accuracy: 0.761, time: 0:21:04\n"
     ]
    }
   ],
   "source": [
    "# POINTS: 4\n",
    "\n",
    "class GlobalAvgPool2d(torch.nn.Module):\n",
    "    def __init__(self):\n",
    "        super().__init__()\n",
    "\n",
    "    def forward(self, x):\n",
    "        pooled=torch.mean(x, (2,3))\n",
    "        return pooled\n",
    "\n",
    "\n",
    "cnn_global_pool = nn.Sequential(\n",
    "    nn.Conv2d(in_channels=3, out_channels=64, kernel_size=3, padding=1,stride =(2,2)),\n",
    "    nn.BatchNorm2d(64),\n",
    "    nn.ReLU(),\n",
    "    nn.Conv2d(in_channels=64, out_channels=64, kernel_size=3, padding=1,stride =(2,2)),\n",
    "    nn.BatchNorm2d(64),\n",
    "    nn.ReLU(),\n",
    "    nn.Conv2d(in_channels=64, out_channels=64, kernel_size=3, padding=1,stride =(2,2)),\n",
    "    nn.BatchNorm2d(64),\n",
    "    nn.ReLU(),\n",
    "    GlobalAvgPool2d(),\n",
    "    nn.Linear(in_features=64, out_features=10),\n",
    "    nn.BatchNorm1d(10)\n",
    ")\n",
    "if USE_GPU:\n",
    "    cnn_global_pool.cuda()\n",
    "\n",
    "opt = optim.Adam(cnn_global_pool.parameters(), lr=1e-3)\n",
    "train_classifier(cnn_global_pool, opt, 'cnn_global_pool', train_data=augmented_train_data)"
   ]
  },
  {
   "cell_type": "markdown",
   "metadata": {
    "deletable": false,
    "editable": false,
    "nbgrader": {
     "cell_type": "markdown",
     "checksum": "ee6de3f7f259be2d205f59714faefb0a",
     "grade": false,
     "grade_id": "cell-527e589864d3a660",
     "locked": true,
     "schema_version": 3,
     "solution": false,
     "task": false
    }
   },
   "source": [
    "Which network has more parameters, this or the previous one?\n",
    "\n",
    "What is the size of the receptive field of the units in the layer directly before the global average pooling? (Remember: the receptive field of a particular unit (neuron) is the area of the *input image* that can influence the activation of this given unit)."
   ]
  },
  {
   "cell_type": "markdown",
   "metadata": {
    "deletable": false,
    "nbgrader": {
     "cell_type": "markdown",
     "checksum": "df0c0d22fa5a21c06cc25bcc63a499c6",
     "grade": true,
     "grade_id": "cell-a36f95947bd5ba86",
     "locked": false,
     "points": 0,
     "schema_version": 3,
     "solution": true,
     "task": false
    }
   },
   "source": [
    "*POINTS: 0*\n",
    "\n",
    "YOUR ANSWER HERE"
   ]
  },
  {
   "cell_type": "markdown",
   "metadata": {
    "deletable": false,
    "editable": false,
    "nbgrader": {
     "cell_type": "markdown",
     "checksum": "bf60b8f446c3347eb7b6509af0b9607b",
     "grade": false,
     "grade_id": "cell-cfc670e8ea147092",
     "locked": true,
     "schema_version": 3,
     "solution": false,
     "task": false
    }
   },
   "source": [
    "## Residual Networks\n",
    "\n",
    "ResNet is a more modern architecture, introduced by He et al. in 2015 (published in 2016: https://www.cv-foundation.org/openaccess/content_cvpr_2016/papers/He_Deep_Residual_Learning_CVPR_2016_paper.pdf) and is still popular today.\n",
    "\n",
    "It consists of blocks like the following:\n",
    "\n",
    "![ResNet Block](resnet_block.png)\n",
    "\n",
    "Each of these so-called *residual blocks* only have to predict a *residual* (in plain words: the \"rest\", the \"leftover\") that will be added on top of its input.\n",
    "In other words, the block outputs how much each feature needs to be changed in order to enhance the representation compared to the previous block.\n",
    "\n",
    "There are several ways to combine residual blocks into *residual networks* (ResNets). In the following, we consider ResNet-v1, as used for the CIFAR-10 benchmark in the original ResNet paper (it is simpler compared to the full model that they used for the much larger ImageNet benchmark).\n",
    "\n",
    "Section 4.2. of the paper describes this architecture as follows: \"*The first layer is 3×3 convolutions. Then we use a stack of 6n layers with 3×3 convolutions on the feature maps of sizes {32, 16, 8} respectively, with 2n layers for each feature map size. The numbers of filters are {16, 32, 64} respectively. The subsampling is performed by convolutions with a stride of 2. The network ends with a global average pooling, a 10-way fully-connected layer, and softmax. [...] When shortcut connections are used, they are connected to the pairs of 3×3 layers (totally 3n shortcuts). On this dataset we use identity shortcuts in all cases.*\"\n",
    "\n",
    "Further, they use L2 regularization for training (a standard tool to combat overfitting). This penalizes weights with large magnitude by adding an additional term to the cost function, besides the cross-entropy. The overall function to optimize becomes:\n",
    "\n",
    "$$\n",
    "\\mathcal{L}_{CE} + \\frac{\\lambda}{2} \\sum_{w\\in\\text{weights}} w^2,\n",
    "$$\n",
    "\n",
    "and in this paper $\\lambda=10^{-4}$.\n",
    "\n",
    "Use the explanation above to complete the `layers`-list in the `ResNet`-class below. Note, that the first layer is already added and remember that the final softmax has to be omitted. The `ResNetBlock` already implements the above figure, i.e. contains $2$ convolutions.\n",
    "\n",
    "Weight decay is already added by setting the corresponding attribute of the opimizer."
   ]
  },
  {
   "cell_type": "code",
   "execution_count": 18,
   "metadata": {
    "deletable": false,
    "nbgrader": {
     "cell_type": "code",
     "checksum": "059f3c3e5ab6822cbbd7ace3650f979f",
     "grade": true,
     "grade_id": "cell-78512b7752e9d7d2",
     "locked": false,
     "points": 6,
     "schema_version": 3,
     "solution": true,
     "task": false
    }
   },
   "outputs": [],
   "source": [
    "# POINTS: 6\n",
    "\n",
    "class ResNetBlock(torch.nn.Module):\n",
    "    def __init__(self, in_channels, out_channels, stride=1):\n",
    "        super().__init__()\n",
    "        self.f = nn.Sequential(\n",
    "            nn.Conv2d(in_channels, out_channels, kernel_size=3, stride=stride, padding=1, bias=False),\n",
    "            nn.BatchNorm2d(out_channels),\n",
    "            nn.ReLU(),\n",
    "            nn.Conv2d(out_channels, out_channels, kernel_size=3, padding=1, bias=False),\n",
    "            nn.BatchNorm2d(out_channels)\n",
    "        )\n",
    "        self.activation = nn.ReLU()\n",
    "        # The shortcut connection is just the identity. If feature\n",
    "        # channel counts differ between input and output, zero\n",
    "        # padding is used to match the depths. This is implemented\n",
    "        # by a convolution with the following fixed weight:\n",
    "        self.pad_weight = nn.Parameter(\n",
    "            torch.eye(out_channels, in_channels)[:, :, None, None],\n",
    "            requires_grad=False\n",
    "        )\n",
    "        self.stride = stride\n",
    "\n",
    "    def forward(self, x):\n",
    "        r = self.f(x)\n",
    "        # We apply the padding weight using torch.functional.conv2d\n",
    "        # which allows us to use a custom weight matrix.\n",
    "        x = F.conv2d(x, self.pad_weight, stride=self.stride)\n",
    "        return self.activation(x + r)\n",
    "    \n",
    "\n",
    "class ResNet(torch.nn.Module):\n",
    "    def __init__(self, num_layers=14, in_channels=3, out_features=10):\n",
    "        super().__init__()\n",
    "        if (num_layers - 2) % 6 != 0:\n",
    "            raise ValueError('n_layers should be 6n+2 (eg 20, 32, 44, 56)')\n",
    "        n = (num_layers - 2) // 6\n",
    "        \n",
    "        layers = []\n",
    "        \n",
    "        first_layer = nn.Sequential(\n",
    "            nn.Conv2d(in_channels, 16, kernel_size=3, padding=1, bias=False),\n",
    "            nn.BatchNorm2d(16),\n",
    "            nn.ReLU()\n",
    "        )\n",
    "        \n",
    "        layers.append(first_layer)\n",
    "\n",
    "        # YOUR CODE HERE\n",
    "        prev_filter=16\n",
    "        for filter in [16,32,64]:\n",
    "            for i in range(n):\n",
    "                if  i==0 :\n",
    "                    layer=nn.Sequential(\n",
    "                        ResNetBlock(prev_filter,filter,1),\n",
    "                    )\n",
    "                \n",
    "                elif i<n-1:\n",
    "                    layer=nn.Sequential(\n",
    "                        ResNetBlock(filter,filter,1),\n",
    "                    )\n",
    "                else:\n",
    "                    layer=nn.Sequential(\n",
    "                        ResNetBlock(filter,filter,2),\n",
    "                    )\n",
    "                layers.append(layer)\n",
    "            prev_filter=filter\n",
    "        layers.append(nn.Sequential(\n",
    "        GlobalAvgPool2d(),\n",
    "        nn.Linear(in_features=64, out_features=10),\n",
    "        nn.BatchNorm1d(10)\n",
    "        ))\n",
    "        \n",
    "        self.net = nn.Sequential(*layers)\n",
    "        \n",
    "    def forward(self, x):\n",
    "        return self.net(x)"
   ]
  },
  {
   "cell_type": "markdown",
   "metadata": {
    "deletable": false,
    "editable": false,
    "nbgrader": {
     "cell_type": "markdown",
     "checksum": "ffd7372a683b0cf2d589e1d59bd49dc1",
     "grade": false,
     "grade_id": "cell-ac38cfcbccbc3e34",
     "locked": true,
     "schema_version": 3,
     "solution": false,
     "task": false
    }
   },
   "source": [
    "Train ResNet-18 on the CIFAR-10 dataset for 50 epochs. As a rough idea, it will take less than 15 minutes with a good GPU, but on a CPU it can take several hours."
   ]
  },
  {
   "cell_type": "code",
   "execution_count": 19,
   "metadata": {
    "deletable": false,
    "editable": false,
    "nbgrader": {
     "cell_type": "code",
     "checksum": "8176ed445f8204508e3d3d803fd02bbb",
     "grade": false,
     "grade_id": "cell-e3b3f6d8fa93f028",
     "locked": true,
     "schema_version": 3,
     "solution": false,
     "task": false
    },
    "scrolled": false
   },
   "outputs": [
    {
     "name": "stdout",
     "output_type": "stream",
     "text": [
      "Epoch 1 | train loss: 1.520, train accuracy: 0.462, test loss: 1.276, test accuracy: 0.561, time: 0:01:34\n",
      "Epoch 2 | train loss: 1.141, train accuracy: 0.617, test loss: 1.106, test accuracy: 0.620, time: 0:03:08\n",
      "Epoch 3 | train loss: 0.969, train accuracy: 0.673, test loss: 0.916, test accuracy: 0.683, time: 0:04:42\n",
      "Epoch 4 | train loss: 0.858, train accuracy: 0.710, test loss: 0.863, test accuracy: 0.704, time: 0:06:16\n",
      "Epoch 5 | train loss: 0.778, train accuracy: 0.737, test loss: 0.766, test accuracy: 0.738, time: 0:07:51\n",
      "Epoch 6 | train loss: 0.721, train accuracy: 0.756, test loss: 0.694, test accuracy: 0.768, time: 0:09:25\n",
      "Epoch 7 | train loss: 0.677, train accuracy: 0.771, test loss: 0.657, test accuracy: 0.775, time: 0:10:59\n",
      "Epoch 8 | train loss: 0.646, train accuracy: 0.782, test loss: 0.671, test accuracy: 0.770, time: 0:12:33\n",
      "Epoch 9 | train loss: 0.613, train accuracy: 0.791, test loss: 0.623, test accuracy: 0.792, time: 0:14:06\n",
      "Epoch 10 | train loss: 0.594, train accuracy: 0.798, test loss: 0.570, test accuracy: 0.809, time: 0:15:41\n",
      "Epoch 11 | train loss: 0.572, train accuracy: 0.805, test loss: 0.556, test accuracy: 0.811, time: 0:17:14\n",
      "Epoch 12 | train loss: 0.550, train accuracy: 0.814, test loss: 0.564, test accuracy: 0.808, time: 0:18:48\n",
      "Epoch 13 | train loss: 0.532, train accuracy: 0.819, test loss: 0.551, test accuracy: 0.812, time: 0:20:21\n",
      "Epoch 14 | train loss: 0.519, train accuracy: 0.825, test loss: 0.556, test accuracy: 0.809, time: 0:21:56\n",
      "Epoch 15 | train loss: 0.505, train accuracy: 0.829, test loss: 0.492, test accuracy: 0.833, time: 0:23:29\n",
      "Epoch 16 | train loss: 0.494, train accuracy: 0.832, test loss: 0.534, test accuracy: 0.821, time: 0:25:03\n",
      "Epoch 17 | train loss: 0.484, train accuracy: 0.834, test loss: 0.513, test accuracy: 0.825, time: 0:26:38\n",
      "Epoch 18 | train loss: 0.476, train accuracy: 0.837, test loss: 0.559, test accuracy: 0.809, time: 0:28:11\n",
      "Epoch 19 | train loss: 0.461, train accuracy: 0.843, test loss: 0.530, test accuracy: 0.821, time: 0:29:45\n",
      "Epoch 20 | train loss: 0.452, train accuracy: 0.846, test loss: 0.535, test accuracy: 0.822, time: 0:31:19\n",
      "Epoch 21 | train loss: 0.448, train accuracy: 0.847, test loss: 0.478, test accuracy: 0.836, time: 0:32:53\n",
      "Epoch 22 | train loss: 0.438, train accuracy: 0.851, test loss: 0.484, test accuracy: 0.834, time: 0:34:26\n",
      "Epoch 23 | train loss: 0.427, train accuracy: 0.853, test loss: 0.488, test accuracy: 0.831, time: 0:36:00\n",
      "Epoch 24 | train loss: 0.422, train accuracy: 0.855, test loss: 0.447, test accuracy: 0.851, time: 0:37:34\n",
      "Epoch 25 | train loss: 0.419, train accuracy: 0.855, test loss: 0.455, test accuracy: 0.848, time: 0:39:08\n",
      "Epoch 26 | train loss: 0.409, train accuracy: 0.860, test loss: 0.434, test accuracy: 0.854, time: 0:40:43\n",
      "Epoch 27 | train loss: 0.404, train accuracy: 0.863, test loss: 0.459, test accuracy: 0.842, time: 0:42:17\n",
      "Epoch 28 | train loss: 0.396, train accuracy: 0.863, test loss: 0.444, test accuracy: 0.848, time: 0:43:51\n",
      "Epoch 29 | train loss: 0.391, train accuracy: 0.866, test loss: 0.493, test accuracy: 0.836, time: 0:45:24\n",
      "Epoch 30 | train loss: 0.387, train accuracy: 0.867, test loss: 0.436, test accuracy: 0.852, time: 0:46:58\n",
      "Epoch 31 | train loss: 0.388, train accuracy: 0.866, test loss: 0.447, test accuracy: 0.848, time: 0:48:32\n",
      "Epoch 32 | train loss: 0.377, train accuracy: 0.871, test loss: 0.452, test accuracy: 0.851, time: 0:50:06\n",
      "Epoch 33 | train loss: 0.377, train accuracy: 0.870, test loss: 0.477, test accuracy: 0.837, time: 0:51:40\n",
      "Epoch 34 | train loss: 0.372, train accuracy: 0.873, test loss: 0.481, test accuracy: 0.833, time: 0:53:13\n",
      "Epoch 35 | train loss: 0.367, train accuracy: 0.873, test loss: 0.441, test accuracy: 0.854, time: 0:54:48\n",
      "Epoch 36 | train loss: 0.367, train accuracy: 0.875, test loss: 0.443, test accuracy: 0.850, time: 0:56:23\n",
      "Epoch 37 | train loss: 0.362, train accuracy: 0.876, test loss: 0.424, test accuracy: 0.854, time: 0:57:57\n",
      "Epoch 38 | train loss: 0.356, train accuracy: 0.878, test loss: 0.436, test accuracy: 0.853, time: 0:59:30\n",
      "Epoch 39 | train loss: 0.355, train accuracy: 0.877, test loss: 0.421, test accuracy: 0.858, time: 1:01:07\n",
      "Epoch 40 | train loss: 0.351, train accuracy: 0.879, test loss: 0.419, test accuracy: 0.861, time: 1:02:42\n",
      "Epoch 41 | train loss: 0.349, train accuracy: 0.881, test loss: 0.488, test accuracy: 0.842, time: 1:04:16\n",
      "Epoch 42 | train loss: 0.349, train accuracy: 0.881, test loss: 0.413, test accuracy: 0.860, time: 1:05:50\n",
      "Epoch 43 | train loss: 0.335, train accuracy: 0.884, test loss: 0.415, test accuracy: 0.857, time: 1:07:24\n",
      "Epoch 44 | train loss: 0.338, train accuracy: 0.883, test loss: 0.431, test accuracy: 0.853, time: 1:08:57\n",
      "Epoch 45 | train loss: 0.336, train accuracy: 0.884, test loss: 0.422, test accuracy: 0.853, time: 1:10:32\n",
      "Epoch 46 | train loss: 0.336, train accuracy: 0.885, test loss: 0.394, test accuracy: 0.867, time: 1:12:06\n",
      "Epoch 47 | train loss: 0.329, train accuracy: 0.887, test loss: 0.417, test accuracy: 0.865, time: 1:13:39\n",
      "Epoch 48 | train loss: 0.327, train accuracy: 0.886, test loss: 0.408, test accuracy: 0.864, time: 1:15:14\n",
      "Epoch 49 | train loss: 0.322, train accuracy: 0.888, test loss: 0.406, test accuracy: 0.864, time: 1:16:47\n",
      "Epoch 50 | train loss: 0.323, train accuracy: 0.888, test loss: 0.402, test accuracy: 0.863, time: 1:18:21\n"
     ]
    }
   ],
   "source": [
    "resnet = ResNet()\n",
    "if USE_GPU:\n",
    "    resnet.cuda()\n",
    "\n",
    "opt = optim.Adam(resnet.parameters(), lr=1e-3, weight_decay=1e-4)\n",
    "train_classifier(resnet, opt, f'resnet', train_data=augmented_train_data)"
   ]
  },
  {
   "cell_type": "markdown",
   "metadata": {
    "deletable": false,
    "editable": false,
    "nbgrader": {
     "cell_type": "markdown",
     "checksum": "6d30d6ddca7fb16235c3573be47b0266",
     "grade": false,
     "grade_id": "cell-434819020b48d6b4",
     "locked": true,
     "schema_version": 3,
     "solution": false,
     "task": false
    }
   },
   "source": [
    "## Learning Rate Decay\n",
    "\n",
    "Learning rate decay reduces the learning rate as the training progresses. Use the same settings as in the previous experiment, but this time create a `MultiStepLR`-scheduler and decrease the learning rate twice by a factor of 10 each."
   ]
  },
  {
   "cell_type": "code",
   "execution_count": 21,
   "metadata": {
    "deletable": false,
    "nbgrader": {
     "cell_type": "code",
     "checksum": "e40b5ceaf07d7fb7d7b5ac5af7ef340e",
     "grade": true,
     "grade_id": "cell-f2042420b7d15963",
     "locked": false,
     "points": 2,
     "schema_version": 3,
     "solution": true
    }
   },
   "outputs": [
    {
     "name": "stdout",
     "output_type": "stream",
     "text": [
      "Epoch 1 | train loss: 1.487, train accuracy: 0.476, test loss: 1.172, test accuracy: 0.600, time: 0:01:25\n",
      "Epoch 2 | train loss: 1.114, train accuracy: 0.624, test loss: 1.029, test accuracy: 0.643, time: 0:02:52\n",
      "Epoch 3 | train loss: 0.962, train accuracy: 0.673, test loss: 0.890, test accuracy: 0.701, time: 0:04:23\n",
      "Epoch 4 | train loss: 0.856, train accuracy: 0.712, test loss: 0.917, test accuracy: 0.688, time: 0:06:03\n",
      "Epoch 5 | train loss: 0.773, train accuracy: 0.740, test loss: 0.786, test accuracy: 0.738, time: 0:07:43\n",
      "Epoch 6 | train loss: 0.723, train accuracy: 0.756, test loss: 0.692, test accuracy: 0.771, time: 0:09:18\n",
      "Epoch 7 | train loss: 0.678, train accuracy: 0.770, test loss: 0.669, test accuracy: 0.773, time: 0:10:54\n",
      "Epoch 8 | train loss: 0.647, train accuracy: 0.781, test loss: 0.642, test accuracy: 0.782, time: 0:12:29\n",
      "Epoch 9 | train loss: 0.618, train accuracy: 0.790, test loss: 0.628, test accuracy: 0.791, time: 0:14:03\n",
      "Epoch 10 | train loss: 0.598, train accuracy: 0.796, test loss: 0.616, test accuracy: 0.797, time: 0:15:37\n",
      "Epoch 11 | train loss: 0.572, train accuracy: 0.805, test loss: 0.594, test accuracy: 0.802, time: 0:17:13\n",
      "Epoch 12 | train loss: 0.557, train accuracy: 0.811, test loss: 0.699, test accuracy: 0.764, time: 0:18:47\n",
      "Epoch 13 | train loss: 0.541, train accuracy: 0.814, test loss: 0.607, test accuracy: 0.792, time: 0:20:22\n",
      "Epoch 14 | train loss: 0.527, train accuracy: 0.821, test loss: 0.524, test accuracy: 0.819, time: 0:21:57\n",
      "Epoch 15 | train loss: 0.511, train accuracy: 0.826, test loss: 0.520, test accuracy: 0.827, time: 0:23:31\n",
      "Epoch 16 | train loss: 0.498, train accuracy: 0.830, test loss: 0.531, test accuracy: 0.823, time: 0:25:06\n",
      "Epoch 17 | train loss: 0.488, train accuracy: 0.833, test loss: 0.538, test accuracy: 0.820, time: 0:26:40\n",
      "Epoch 18 | train loss: 0.476, train accuracy: 0.836, test loss: 0.512, test accuracy: 0.828, time: 0:28:14\n",
      "Epoch 19 | train loss: 0.468, train accuracy: 0.840, test loss: 0.577, test accuracy: 0.801, time: 0:29:49\n",
      "Epoch 20 | train loss: 0.457, train accuracy: 0.841, test loss: 0.505, test accuracy: 0.830, time: 0:31:23\n",
      "Epoch 21 | train loss: 0.395, train accuracy: 0.866, test loss: 0.416, test accuracy: 0.862, time: 0:32:58\n",
      "Epoch 22 | train loss: 0.377, train accuracy: 0.871, test loss: 0.410, test accuracy: 0.860, time: 0:34:32\n",
      "Epoch 23 | train loss: 0.369, train accuracy: 0.874, test loss: 0.403, test accuracy: 0.864, time: 0:36:07\n",
      "Epoch 24 | train loss: 0.358, train accuracy: 0.878, test loss: 0.399, test accuracy: 0.867, time: 0:37:50\n",
      "Epoch 25 | train loss: 0.355, train accuracy: 0.879, test loss: 0.394, test accuracy: 0.870, time: 0:39:31\n",
      "Epoch 26 | train loss: 0.356, train accuracy: 0.879, test loss: 0.400, test accuracy: 0.867, time: 0:41:18\n",
      "Epoch 27 | train loss: 0.353, train accuracy: 0.881, test loss: 0.398, test accuracy: 0.868, time: 0:43:30\n",
      "Epoch 28 | train loss: 0.347, train accuracy: 0.881, test loss: 0.396, test accuracy: 0.868, time: 0:45:08\n",
      "Epoch 29 | train loss: 0.344, train accuracy: 0.884, test loss: 0.397, test accuracy: 0.865, time: 0:46:43\n",
      "Epoch 30 | train loss: 0.341, train accuracy: 0.884, test loss: 0.395, test accuracy: 0.869, time: 0:48:19\n",
      "Epoch 31 | train loss: 0.334, train accuracy: 0.886, test loss: 0.394, test accuracy: 0.869, time: 0:49:55\n",
      "Epoch 32 | train loss: 0.329, train accuracy: 0.889, test loss: 0.390, test accuracy: 0.871, time: 0:51:34\n",
      "Epoch 33 | train loss: 0.334, train accuracy: 0.886, test loss: 0.391, test accuracy: 0.871, time: 0:53:10\n",
      "Epoch 34 | train loss: 0.331, train accuracy: 0.888, test loss: 0.391, test accuracy: 0.868, time: 0:54:45\n",
      "Epoch 35 | train loss: 0.331, train accuracy: 0.887, test loss: 0.389, test accuracy: 0.871, time: 0:56:21\n",
      "Epoch 36 | train loss: 0.328, train accuracy: 0.889, test loss: 0.390, test accuracy: 0.871, time: 0:57:57\n",
      "Epoch 37 | train loss: 0.328, train accuracy: 0.888, test loss: 0.388, test accuracy: 0.871, time: 0:59:32\n",
      "Epoch 38 | train loss: 0.331, train accuracy: 0.887, test loss: 0.391, test accuracy: 0.872, time: 1:01:09\n",
      "Epoch 39 | train loss: 0.328, train accuracy: 0.890, test loss: 0.390, test accuracy: 0.870, time: 1:02:44\n",
      "Epoch 40 | train loss: 0.327, train accuracy: 0.890, test loss: 0.391, test accuracy: 0.869, time: 1:04:19\n",
      "Epoch 41 | train loss: 0.330, train accuracy: 0.886, test loss: 0.388, test accuracy: 0.872, time: 1:05:58\n",
      "Epoch 42 | train loss: 0.330, train accuracy: 0.889, test loss: 0.387, test accuracy: 0.871, time: 1:07:35\n",
      "Epoch 43 | train loss: 0.329, train accuracy: 0.888, test loss: 0.387, test accuracy: 0.874, time: 1:09:11\n",
      "Epoch 44 | train loss: 0.328, train accuracy: 0.889, test loss: 0.387, test accuracy: 0.873, time: 1:10:47\n",
      "Epoch 45 | train loss: 0.332, train accuracy: 0.887, test loss: 0.390, test accuracy: 0.869, time: 1:12:24\n",
      "Epoch 46 | train loss: 0.327, train accuracy: 0.889, test loss: 0.388, test accuracy: 0.873, time: 1:14:00\n",
      "Epoch 47 | train loss: 0.325, train accuracy: 0.890, test loss: 0.387, test accuracy: 0.872, time: 1:15:37\n",
      "Epoch 48 | train loss: 0.322, train accuracy: 0.893, test loss: 0.390, test accuracy: 0.870, time: 1:17:17\n",
      "Epoch 49 | train loss: 0.327, train accuracy: 0.889, test loss: 0.390, test accuracy: 0.872, time: 1:19:05\n",
      "Epoch 50 | train loss: 0.324, train accuracy: 0.889, test loss: 0.390, test accuracy: 0.873, time: 1:20:44\n"
     ]
    }
   ],
   "source": [
    "# POINTS: 2\n",
    "\n",
    "resnet_decay = ResNet()\n",
    "if USE_GPU:\n",
    "    resnet_decay.cuda()\n",
    "\n",
    "opt = optim.Adam(resnet_decay.parameters(), lr=1e-3, weight_decay=1e-4)\n",
    "# YOUR CODE HERE\n",
    "scheduler = torch.optim.lr_scheduler.MultiStepLR(opt, milestones=[20,30], gamma=0.1)\n",
    "train_classifier(resnet_decay, opt, 'resnet_decay', lr_scheduler=scheduler, train_data=augmented_train_data)"
   ]
  },
  {
   "cell_type": "code",
   "execution_count": null,
   "metadata": {},
   "outputs": [],
   "source": []
  }
 ],
 "metadata": {
  "kernelspec": {
   "display_name": "Python 3",
   "language": "python",
   "name": "python3"
  },
  "language_info": {
   "codemirror_mode": {
    "name": "ipython",
    "version": 3
   },
   "file_extension": ".py",
   "mimetype": "text/x-python",
   "name": "python",
   "nbconvert_exporter": "python",
   "pygments_lexer": "ipython3",
   "version": "3.6.13"
  }
 },
 "nbformat": 4,
 "nbformat_minor": 2
}
