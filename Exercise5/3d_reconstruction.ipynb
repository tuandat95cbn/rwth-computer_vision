{
 "cells": [
  {
   "cell_type": "markdown",
   "metadata": {
    "deletable": false,
    "editable": false,
    "nbgrader": {
     "cell_type": "markdown",
     "checksum": "0990ea7ccd426c953827323400c86842",
     "grade": false,
     "grade_id": "cell-6ad8a9613c9d4b40",
     "locked": true,
     "schema_version": 3,
     "solution": false,
     "task": false
    }
   },
   "source": [
    "**Important**:\n",
    "Follow the instructions below when submitting your attempt.\n",
    "Submissions not following these instructions will not be graded.\n",
    "\n",
    "1. Submit in **teams of 3 or 4 students**, add their names and matriculation numbers below. Only **one team member should upload** the solutions.\n",
    "2. **Use jupyter notebook**. Other notebook-editing software (e.g. jupyter-lab, pycharm) might corrupt the notebook files and could have issues with displaying matplotlib interactively.\n",
    "3. **Do not remove, modify or duplicate** any given cells, except those in which you need to fill in your implementation. You can add new cells in order to present additional texts or plots.\n",
    "4. **Restart the kernel and re-run the whole notebook** once before submission. After this step, the cell id should be incremental from top to bottom, and all plots should be displayed.\n",
    "5. **Submit only the `.ipynb` files**, do not upload archives (zip, rar, tar, etc.), images or datasets.\n",
    "6. **Do not change the filenames** of the `.ipynb` files."
   ]
  },
  {
   "cell_type": "markdown",
   "metadata": {},
   "source": [
    "Team members (names and matriculation numbers):\n",
    "* \n",
    "* \n",
    "* \n",
    "* "
   ]
  },
  {
   "cell_type": "markdown",
   "metadata": {
    "deletable": false,
    "editable": false,
    "nbgrader": {
     "cell_type": "markdown",
     "checksum": "1fd765551bee734ce22100342aae156e",
     "grade": false,
     "grade_id": "cell-7bef06d6eefbecec",
     "locked": true,
     "schema_version": 3,
     "solution": false,
     "task": false
    }
   },
   "source": [
    "# 3D Reconstruction\n",
    "\n",
    "This exercise will guide you through two common operations we can apply to point correspondences extracted from stereo image pairs:\n",
    "\n",
    "1. Estimation of the **fundamental matrix** (relating points in one image to lines in the other), and\n",
    "2. **Triangulation** of 3D scene points given their projected image coordinates and the camera matrices.\n",
    "\n",
    "We will use pre-computed point correspondences (loaded from file), which were estimated using a method similar to Exercise 3."
   ]
  },
  {
   "cell_type": "code",
   "execution_count": null,
   "metadata": {
    "deletable": false,
    "editable": false,
    "nbgrader": {
     "cell_type": "code",
     "checksum": "32a759728f2ed270e1adc6b95044de3f",
     "grade": false,
     "grade_id": "cell-539659eed4a09e96",
     "locked": true,
     "schema_version": 3,
     "solution": false,
     "task": false
    }
   },
   "outputs": [],
   "source": [
    "%%html\n",
    "<!-- Run this cell to add heading letters per subtask (like a, b, c) -->\n",
    "<style>\n",
    "body {counter-reset: section;}\n",
    "h2:before {counter-increment: section;\n",
    "           content: counter(section, lower-number) \". \";}\n",
    "</style>"
   ]
  },
  {
   "cell_type": "code",
   "execution_count": null,
   "metadata": {
    "deletable": false,
    "editable": false,
    "nbgrader": {
     "cell_type": "code",
     "checksum": "6c0888f0386acdf232f9e84e154b1dab",
     "grade": false,
     "grade_id": "cell-72653baee1ea29d9",
     "locked": true,
     "schema_version": 3,
     "solution": false,
     "task": false
    }
   },
   "outputs": [],
   "source": [
    "%matplotlib notebook\n",
    "import numpy as np\n",
    "import numpy.matlib\n",
    "import matplotlib.pyplot as plt\n",
    "from mpl_toolkits.mplot3d import Axes3D\n",
    "import imageio\n",
    "import cv2\n",
    "import os\n",
    "from scipy import signal\n",
    "from attrdict import AttrDict\n",
    "\n",
    "def load_data(d_name):\n",
    "    \"\"\" Load images and matches.\n",
    "    \n",
    "    Args:\n",
    "        d_name: Should be 'house' or 'library'\n",
    "        \n",
    "    Returns:\n",
    "        img0, img1: Images\n",
    "        x0, x1: 3xN matrix of matching points\n",
    "        P0, P1: 3X4 camera matrix\n",
    "    \"\"\"\n",
    "    img0 = imageio.imread(f'{d_name}1.jpg')\n",
    "    img1 = imageio.imread(f'{d_name}2.jpg')\n",
    "    x0 = np.genfromtxt(f'{d_name}_matches_x1.csv', delimiter=',', dtype=np.float64)\n",
    "    x1 = np.genfromtxt(f'{d_name}_matches_x2.csv', delimiter=',', dtype=np.float64)\n",
    "    P0 = np.loadtxt(f'{d_name}1_camera.txt')\n",
    "    P1 = np.loadtxt(f'{d_name}2_camera.txt')\n",
    "    return img0, img1, x0, x1, P0, P1\n",
    "\n",
    "def plot_multiple(images, titles=None, colormap='gray', \n",
    "                  max_columns=np.inf, imwidth=4, imheight=4, share_axes=False):\n",
    "    \"\"\"Plot multiple images as subplots on a grid.\"\"\"\n",
    "    if titles is None:\n",
    "        titles = [''] *len(images)\n",
    "    assert len(images) == len(titles)\n",
    "    n_images = len(images)\n",
    "    n_cols = min(max_columns, n_images)\n",
    "    n_rows = int(np.ceil(n_images / n_cols))\n",
    "    fig, axes = plt.subplots(\n",
    "        n_rows, n_cols, figsize=(n_cols * imwidth, n_rows * imheight),\n",
    "        squeeze=False, sharex=share_axes, sharey=share_axes)\n",
    "\n",
    "    axes = axes.flat\n",
    "    # Hide subplots without content\n",
    "    for ax in axes[n_images:]:\n",
    "        ax.axis('off')\n",
    "        \n",
    "    if not isinstance(colormap, (list,tuple)):\n",
    "        colormaps = [colormap]*n_images\n",
    "    else:\n",
    "        colormaps = colormap\n",
    "\n",
    "    for ax, image, title, cmap in zip(axes, images, titles, colormaps):\n",
    "        ax.imshow(image, cmap=cmap)\n",
    "        ax.set_title(title)\n",
    "        ax.get_xaxis().set_visible(False)\n",
    "        ax.get_yaxis().set_visible(False)\n",
    "        \n",
    "    fig.tight_layout()\n",
    "    \n",
    "def draw_keypoints(img, x):\n",
    "    img = img.copy()\n",
    "    for p, color in zip(x.T, colors):\n",
    "        cv2.circle(img, (int(p[0]), int(p[1])), thickness=2, radius=1, color=color)\n",
    "    return img\n",
    "    \n",
    "def draw_point_matches(img0, img1, x0, x1, color_mask=None):\n",
    "    result = np.concatenate([img0, img1], axis=1)\n",
    "    img0_width = img0.shape[1]\n",
    "    \n",
    "    if color_mask is None:\n",
    "        color_mask = np.ones(x0.shape[1], dtype=bool)\n",
    "        \n",
    "    for p0, p1, c_flag in zip(x0.T, x1.T, color_mask):\n",
    "        p0x, p0y = int(p0[0]), int(p0[1])\n",
    "        p1x, p1y = int(img0_width + p1[0]), int(p1[1])\n",
    "        color = (0, 255, 0) if c_flag else (255, 0, 0)\n",
    "        cv2.line(result, (p0x, p0y), (p1x, p1y),\n",
    "                 color=color, thickness=1, lineType=cv2.LINE_AA)\n",
    "    return result\n",
    "\n",
    "def random_colors(n_colors):\n",
    "    \"\"\"Create a color map for visualizing the labels themselves,\n",
    "    such that the segment boundaries become more visible, unlike\n",
    "    in the visualization using the cluster peak colors.\n",
    "    \"\"\"\n",
    "    import matplotlib.colors\n",
    "    rng = np.random.RandomState(2)\n",
    "    values = np.linspace(0, 1, n_colors)\n",
    "    colors = plt.cm.get_cmap('hsv')(values)\n",
    "    rng.shuffle(colors)\n",
    "    return colors*255\n",
    "\n",
    "colors = random_colors(1000)\n",
    "\n",
    "def draw_line(img, l):\n",
    "    if abs(l[0]) < abs(l[1]):\n",
    "        # More horizontal\n",
    "        slope = -l[0] / l[1]\n",
    "        intercept = -l[2] / l[1]\n",
    "        xs = np.array([0, img.shape[1]])\n",
    "        ys = intercept + slope * xs\n",
    "        cv2.line(img, (int(xs[0]), int(ys[0])), (int(xs[1]), int(ys[1])),\n",
    "                 color=(0, 255, 255), thickness=1, lineType=cv2.LINE_AA)\n",
    "    else:\n",
    "        # More vertical\n",
    "        slope = -l[1] / l[0]\n",
    "        intercept = -l[2] / l[0]\n",
    "        ys = np.array([0, img.shape[0]])\n",
    "        xs = intercept + slope * ys\n",
    "        cv2.line(img, (int(xs[0]), int(ys[0])), (int(xs[1]), int(ys[1])),\n",
    "                 color=(0, 255, 255), thickness=1, lineType=cv2.LINE_AA)\n",
    "\n",
    "def draw_points_and_epipolar_lines(img, points, lines):\n",
    "    \"\"\"\n",
    "    Args:\n",
    "        img: First or second image\n",
    "        x: 3xN matrix of points (on the same image)\n",
    "        l: 3xN matrix of lines (on the same image)\n",
    "    \"\"\"\n",
    "    points = points[:2] / points[2]  # Normalize\n",
    "    img = img.copy()\n",
    "    \n",
    "    for l in lines.T:\n",
    "        draw_line(img, l)\n",
    "\n",
    "    for (x,y), color in zip(points.T, colors):\n",
    "        cv2.circle(img, (int(x), int(y)), thickness=2, radius=1, color=color)\n",
    "\n",
    "    return img"
   ]
  },
  {
   "cell_type": "markdown",
   "metadata": {
    "deletable": false,
    "editable": false,
    "nbgrader": {
     "cell_type": "markdown",
     "checksum": "b97a67001e21a5d99b7667c411da77dd",
     "grade": false,
     "grade_id": "cell-f16f53654624f9f0",
     "locked": true,
     "schema_version": 3,
     "solution": false,
     "task": false
    }
   },
   "source": [
    "## Fundamental Matrix Estimation\n",
    "\n",
    "In this exercise, we will use the eight-point algorithm presented in the lecture in order to estimate the fundamental matrix between a pair of images. The overall workflow will be very similar to how we estimated the homography matrix in Exercise 3. The main difference is that a homography can only be used either when the scene is planar (with unrestricted camera transformation between the images) *or* when the camera is purely rotated but not translated (for unrestricted scene structure). If none of these conditions hold (non-planar scene with camera translation), we need to use the more general model represented by the fundamental matrix.\n",
    "\n",
    "\n",
    "We will use a slightly simpler version of the algorithm here than the one presented in the lecture. Let's first assume that we are given a list of perfect correspondences $x = (u,v,1)^T$ and\n",
    "$x′ = (u′, v′, 1)^T$ (in the code, we use `x0` for $x'$ and `x1` for $x$), so that we don’t have to deal with outliers. The fundamental matrix constraint states that each such correspondence must fulfill the equation\n",
    "\n",
    "$$\n",
    "x'^T\\mathrm{F}x = 0\n",
    "$$\n",
    "\n",
    "We can reorder the entries of the matrix to transform this into the following equation\n",
    "\n",
    "$$\n",
    "[\\begin{matrix}{u'u} & {u'v} & u' & {v'u} & {v'v} & v' & u & v & 1\\end{matrix}] \\left[\\begin{matrix}F_{11} \\cr F_{12} \\cr F_{13} \\cr F_{21} \\cr F_{22} \\cr F_{23} \\cr F_{31} \\cr F_{32} \\cr F_{33}\\end{matrix}\\right] = 0\n",
    "$$\n",
    "\n",
    "By stacking $N ≥ 8$ of those equations in a matrix $\\mathrm{A}$, we obtain the matrix equation\n",
    "\n",
    "$$\n",
    "\\mathrm{Af} = 0 \\tag{3}\n",
    "$$\n",
    "\n",
    "$$\n",
    "\\left[\\begin{matrix}{u_1'u_1} & {u_1'v_1} & u_1' & {v_1'u_1} & {v_1'v_1} & v_1' & u_1 & v_1 & 1 \\cr {u_2'u_2} & {u_2'v_2} & u_2' & {v_2'u_2} & {v_2'v_2} & v_2' & u_2 & v_2 & 1 \\cr . & . & . & . & . & . & . & . & . \\cr . & . & . & . & . & . & . & . & . \\cr . & . & . & . & . & . & . & . & . \\cr {u_N'u_N} & {u_N'v_N} & u_N' & {v_N'u_N} & {v_N'v_N} & v_N' & u_N & v_N & 1\\end{matrix}\\right] \\left[\\begin{matrix}F_{11} \\cr F_{12} \\cr . \\cr . \\cr. \\cr F_{33}\\end{matrix}\\right] = \\left[\\begin{matrix}0 \\cr 0 \\cr . \\cr . \\cr . \\cr 0\\end{matrix}\\right] \\tag{4}\n",
    "$$\n",
    "\n",
    "which can be easily solved by Singular Value Decomposition (SVD), as shown in Exercise 3. Applying SVD to $\\mathrm{A}$ yields the decomposition $\\mathrm{A = UDV}^⊤$. The homogeneous least-squares solution corresponds to the least singular vector, which is given by the last column of $\\mathrm{V}$.\n",
    "\n",
    "In the presence of noise, the matrix $\\mathrm{F}$ estimated this way will, however, not satisfy the rank-2 constraint. This means that there will be no real epipoles through which all epipolar lines pass, but the intersection will be spread out over a small region. In order to enforce the rank-2 constraint, we therefore apply SVD to $\\mathrm{F}$ and set the smallest singular value $D_{33}$ to zero.\n",
    "\n",
    "The reconstructed matrix will now satisfy the rank-2 constraint, and we can obtain the epipoles as\n",
    "\n",
    "$$\n",
    "\\mathrm{Fe_1} = 0\n",
    "$$\n",
    "\n",
    "$$\n",
    "\\mathrm{F^T e_0} = 0\n",
    "$$\n",
    "\n",
    "by setting $\\mathrm{e_1} = \\frac{[V_{13}, V_{23}, V_{33}]}{V_{33}}$ and $\\mathrm{e_0} = \\frac{[U_{13}, U_{23}, U_{33}]}{U_{33}}$.\n",
    "  \n",
    "Similarly, for the points $\\mathrm{x,x′}$, we can obtain the epipolar lines $\\mathrm{l′ = Fx}, \\mathrm{l = F^⊤x′}$ in the other image. Note that in projective geometry, a line is also defined by a single 3D vector. This can be easily seen by starting with the standard Euclidean formula for a line\n",
    "\n",
    "$$\n",
    "ax + by + c = 0\n",
    "$$\n",
    "\n",
    "and using the fact that the equation is unaffected by scaling to apply it to the homogeneous point $\\mathrm{x = (X,Y,W)}$. Thus, we arrive at\n",
    "\n",
    "$$\n",
    "aX + bY + cW = 0\n",
    "$$\n",
    "\n",
    "$$\n",
    "\\mathrm{l}^Tx = x^T\\mathrm{l} = 0\n",
    "$$\n",
    "\n",
    "The parameters of the line are easily interpreted: $−a/b$ is the slope, $−c/a$ is the $x$-intercept, and $−c/b$ is the $y$-intercept.\n",
    "\n",
    "If you are not familiar with homogenuous coordinates or perspective geometry, have a look at following tutorials:\n",
    "http://www.maths.lth.se/matematiklth/personal/calle/datorseende13/notes/forelas2.pdf  \n",
    "https://www.cse.unr.edu/~bebis/CS791E/Notes/EpipolarGeonetry.pdf  \n",
    "http://homepages.inf.ed.ac.uk/rbf/CVonline/LOCAL_COPIES/BEARDSLEY/node2.html\n",
    "\n",
    "Write a function that implements the above algorithm to compute the fundamental matrix and the epipoles from a set of (at least 8) perfect correspondences given in the vectors x1 and x2."
   ]
  },
  {
   "cell_type": "code",
   "execution_count": null,
   "metadata": {
    "deletable": false,
    "nbgrader": {
     "cell_type": "code",
     "checksum": "96d884ee9e9319b14bddfdb1d8fb32ef",
     "grade": true,
     "grade_id": "cell-45c178220a77235e",
     "locked": false,
     "points": 5,
     "schema_version": 3,
     "solution": true
    }
   },
   "outputs": [],
   "source": [
    "# POINTS: 5\n",
    "\n",
    "def get_fundamental_matrix(x0, x1):\n",
    "    \"\"\"\n",
    "    Args:\n",
    "        x0, x1: 3xN arrays of N homogenous points in 2D\n",
    "        \n",
    "    Returns:\n",
    "        F: The 3x3 fundamental martix such that x0.T @ F @ x1 = 0\n",
    "        e0: The epipole in image 0 such that F.T  @ e0 = 0\n",
    "        e1: The epipole in image 1 such that F @ e1 = 0 \n",
    "    \"\"\"\n",
    "    # YOUR CODE HERE\n",
    "    raise NotImplementedError()\n",
    "    \n",
    "    return F, e0, e1"
   ]
  },
  {
   "cell_type": "markdown",
   "metadata": {
    "deletable": false,
    "editable": false,
    "nbgrader": {
     "cell_type": "markdown",
     "checksum": "ed13081e161ed815ed26c089517a13bb",
     "grade": false,
     "grade_id": "cell-f493cee95dd070bf",
     "locked": true,
     "schema_version": 3,
     "solution": false,
     "task": false
    }
   },
   "source": [
    "In order to get a quantitative estimate for the accuracy of your results, write a function `get_residual_distance` that computes the distance between points in one image and their corresponding epipolar lines (distance is positive). *Hint*: Be sure to normalize both homogeneous points (divide $(wx, wy, w)^T$ by $w$) and lines (divide $(a, b, d)^T$ by $\\sqrt{a^2 + b^2}$) before computing the distance. "
   ]
  },
  {
   "cell_type": "code",
   "execution_count": null,
   "metadata": {
    "deletable": false,
    "nbgrader": {
     "cell_type": "code",
     "checksum": "12ffe67d87d6731030f5763b9a404a7c",
     "grade": true,
     "grade_id": "cell-e42547305d8844ac",
     "locked": false,
     "points": 5,
     "schema_version": 3,
     "solution": true
    }
   },
   "outputs": [],
   "source": [
    "# POINTS: 5\n",
    "\n",
    "def get_residual_distance(F, x0, x1):\n",
    "    # YOUR CODE HERE\n",
    "    raise NotImplementedError()\n",
    "    \n",
    "    return d0, d1"
   ]
  },
  {
   "cell_type": "code",
   "execution_count": null,
   "metadata": {
    "deletable": false,
    "editable": false,
    "nbgrader": {
     "cell_type": "code",
     "checksum": "d910e305c2c8c6e19a92558eb03dcbcc",
     "grade": false,
     "grade_id": "cell-95d1c6aa85eb358f",
     "locked": true,
     "schema_version": 3,
     "solution": false,
     "task": false
    }
   },
   "outputs": [],
   "source": [
    "def get_residual_error(F, x0, x1):\n",
    "    d0, d1 = get_residual_distance(F, x0, x1)\n",
    "    return 0.5 * (np.mean(d0) + np.mean(d1))"
   ]
  },
  {
   "cell_type": "code",
   "execution_count": null,
   "metadata": {
    "deletable": false,
    "editable": false,
    "nbgrader": {
     "cell_type": "code",
     "checksum": "5ab8874bf575fc008c577e9e5fa55e7e",
     "grade": false,
     "grade_id": "cell-a2b8a4260bd84e15",
     "locked": true,
     "schema_version": 3,
     "solution": false,
     "task": false
    }
   },
   "outputs": [],
   "source": [
    "# NOTE: throughout this exercise, you can replace 'house'\n",
    "# with 'library' to try the algorithms on another stereo pair\n",
    "\n",
    "img0, img1, x0, x1, _, _ = load_data('house')\n",
    "n_matches = 100\n",
    "x0 = x0[:,:n_matches]\n",
    "x1 = x1[:,:n_matches]    \n",
    "\n",
    "F, e0, e1 = get_fundamental_matrix(x0, x1)\n",
    "residual_error = get_residual_error(F, x0, x1)\n",
    "\n",
    "print(f'The estimated fundamental matrix F is \\n{F}')\n",
    "\n",
    "plot_multiple([draw_point_matches(img0, img1, x0, x1)], \n",
    "              ['Point matches'], imwidth=8)\n",
    "img0_result = draw_points_and_epipolar_lines(img0, x0, F @ x1)\n",
    "img1_result = draw_points_and_epipolar_lines(img1, x1, F.T @ x0)\n",
    "plot_multiple([img0_result, img1_result], \n",
    "              ['Image 0 (without normalization)', 'Image 1 (without normalization)'])\n",
    "\n",
    "print(f'Epipole 0: {e0}, epipole 1: {e1}')\n",
    "print(f'Fitting error: {residual_error:.1f} px')"
   ]
  },
  {
   "cell_type": "markdown",
   "metadata": {
    "deletable": false,
    "editable": false,
    "nbgrader": {
     "cell_type": "markdown",
     "checksum": "e591fd048f5120dd458a891bd3e243cb",
     "grade": false,
     "grade_id": "cell-302b3faa5e14366b",
     "locked": true,
     "schema_version": 3,
     "solution": false,
     "task": false
    }
   },
   "source": [
    "How do you interprete the visualization? Is the estimated matrix good? Why or why not?"
   ]
  },
  {
   "cell_type": "markdown",
   "metadata": {
    "deletable": false,
    "editable": false,
    "nbgrader": {
     "cell_type": "markdown",
     "checksum": "14fa751d6684354bed116464ad8c1481",
     "grade": false,
     "grade_id": "cell-265b3fe26ffdbfc1",
     "locked": true,
     "schema_version": 3,
     "solution": false,
     "task": false
    }
   },
   "source": [
    "## Normalization\n",
    "As explained in the lecture, we need to take care of normalizing the points in order to make sure the estimation problem is well conditioned. Write a function `normalize_points` that normalizes the given list of 2D points (in homogenuous coordinates) `x` by first shifting their origin to the centroid and then scaling them such that their mean distance from the origin is $\\sqrt{2}$. Since the input points are homogeneous, pay attention to divide them by their last component before processing them. The function should return both the transformed points and the $3 × 3$ transformation matrix $\\mathrm{T}$."
   ]
  },
  {
   "cell_type": "code",
   "execution_count": null,
   "metadata": {
    "deletable": false,
    "nbgrader": {
     "cell_type": "code",
     "checksum": "8e37a2cd9753ab620312643b4a4f9e74",
     "grade": true,
     "grade_id": "cell-b6b28e1721f7c59a",
     "locked": false,
     "points": 5,
     "schema_version": 3,
     "solution": true
    }
   },
   "outputs": [],
   "source": [
    "# POINTS: 5\n",
    "\n",
    "def normalize_points(x):\n",
    "    \"\"\"\n",
    "    Args:\n",
    "        x: 3xN arrays of N homogenous points in 2D\n",
    "        \n",
    "    Return:\n",
    "        x_trans: 3xN matrix of transformed points\n",
    "        T: the 3x3 transformation matrix, points_trans = T * points\n",
    "    \"\"\"\n",
    "    # YOUR CODE HERE\n",
    "    raise NotImplementedError()\n",
    "    \n",
    "    return x_trans, T"
   ]
  },
  {
   "cell_type": "markdown",
   "metadata": {
    "deletable": false,
    "editable": false,
    "nbgrader": {
     "cell_type": "markdown",
     "checksum": "fc144c0b22314b05663f451417f51102",
     "grade": false,
     "grade_id": "cell-238823d3784263fe",
     "locked": true,
     "schema_version": 3,
     "solution": false,
     "task": false
    }
   },
   "source": [
    "Now write an adapted function `get_fundamental_matrix_with_normalization` that first normalizes the input points, computes the fundamental matrix based on the normalized points, and then undoes the transformation by applying $\\mathrm{F = T_0^⊤FT_1}$ before computing the epipoles."
   ]
  },
  {
   "cell_type": "code",
   "execution_count": null,
   "metadata": {
    "deletable": false,
    "nbgrader": {
     "cell_type": "code",
     "checksum": "be481a132fa48e9e5cee0de256fe880c",
     "grade": true,
     "grade_id": "cell-1a5aef88b703f5db",
     "locked": false,
     "points": 5,
     "schema_version": 3,
     "solution": true
    }
   },
   "outputs": [],
   "source": [
    "# POINTS: 5\n",
    "\n",
    "def get_fundamental_matrix_with_normalization(x0, x1):\n",
    "    \"\"\"\n",
    "    Args:\n",
    "        x0, x1: 3xN arrays of N homogenous points in 2D\n",
    "        \n",
    "    Returns:\n",
    "        F: The 3x3 fundamental martix such that x0'*F*x1 = 0\n",
    "        e0: The epipole in image 0 such that F'*e0 = 0\n",
    "        e1: The epipole in image 1 such that F*e1 = 0 \n",
    "    \"\"\"\n",
    "    # YOUR CODE HERE\n",
    "    raise NotImplementedError()\n",
    "    \n",
    "    return F, e0, e1"
   ]
  },
  {
   "cell_type": "code",
   "execution_count": null,
   "metadata": {
    "deletable": false,
    "editable": false,
    "nbgrader": {
     "cell_type": "code",
     "checksum": "bc6efb93e21c77f79637ad0333b23b2d",
     "grade": false,
     "grade_id": "cell-711a1757a5d4aedb",
     "locked": true,
     "schema_version": 3,
     "solution": false,
     "task": false
    }
   },
   "outputs": [],
   "source": [
    "img0, img1, x0, x1, _, _ = load_data('house')\n",
    "\n",
    "n_matches = 100\n",
    "x0 = x0[:,:n_matches]\n",
    "x1 = x1[:,:n_matches]\n",
    "\n",
    "F, e0, e1 = get_fundamental_matrix_with_normalization(x0, x1)\n",
    "residual_error = get_residual_error(F, x0, x1)\n",
    "print(f'The estimated fundamental matrix F is \\n{F}')\n",
    "\n",
    "plot_multiple([draw_point_matches(img0, img1, x0, x1)], \n",
    "              ['Point matches'], imwidth=8)\n",
    "img0_result = draw_points_and_epipolar_lines(img0, x0, F @ x1)\n",
    "img1_result = draw_points_and_epipolar_lines(img1, x1, F.T @ x0)\n",
    "plot_multiple([img0_result, img1_result], \n",
    "              ['Image 0 (with normalization)', 'Image 1 (with normalization)'])\n",
    "\n",
    "print(f'Epipole 0: {e0}, epipole 1: {e1}')\n",
    "print(f'Fitting error: {residual_error:.1f} px')"
   ]
  },
  {
   "cell_type": "markdown",
   "metadata": {
    "deletable": false,
    "editable": false,
    "nbgrader": {
     "cell_type": "markdown",
     "checksum": "370cdbcf33bcc047561c8b0f435338b9",
     "grade": false,
     "grade_id": "cell-660b738fda19eaca",
     "locked": true,
     "schema_version": 3,
     "solution": false,
     "task": false
    }
   },
   "source": [
    "How can you visually verify the results? That is, what exactly do you need to look at in the result images to decide whether the algorithm worked well? Did the normalization help?"
   ]
  },
  {
   "cell_type": "markdown",
   "metadata": {
    "deletable": false,
    "editable": false,
    "nbgrader": {
     "cell_type": "markdown",
     "checksum": "d6a1d04bd767c8cf65e89b594dd43453",
     "grade": false,
     "grade_id": "cell-7cc2cf9ff1258944",
     "locked": true,
     "schema_version": 3,
     "solution": false,
     "task": false
    }
   },
   "source": [
    "## Selecting correspondences (optional)\n",
    "Have a look at the provided script `label_matches.py`, which allows you to label your own correspondences. Test the implemented eight-point algorithm with your labeled data.\n",
    "\n",
    "## RANSAC\n",
    "In practice, the correspondence set will always contain noise and outliers. We therefore apply RANSAC in order to get a robust estimate. It proceeds along the following steps:\n",
    "\n",
    "1. Randomly select a (minimal) seed group of point correspondences on which to base the estimate.\n",
    "2. Compute the fundamental matrix from this seed group.\n",
    "3. Find inliers to this transformation.\n",
    "4. If the number of inliers is sufficiently large $(≥ m)$, recompute the least-squares estimate of the fundamental matrix on all inliers.\n",
    "5. Else, repeat for a maximum of k iterations.\n",
    "\n",
    "The parameter $k$ can be chosen automatically. Suppose $w$ is the fraction of inlier correspondences and $n = 8$ correspondences are needed to define a hypothesis. Then the probability that a single sample of $n$ correspondences is correct is $w^n$, and the probability that all samples fail is $(1 − w^n)^k$. The standard strategy is thus, given an estimate for $w$, to choose $k$ high enough that this value is kept below our desired failure rate.\n",
    "\n",
    "In the following, we will implement the different steps of the RANSAC procedure and apply it for robust estimation of the fundamental matrix.\n",
    "\n",
    "First write a function which takes as input an estimated fundamental matrix and the full set of correspondence candidates and which returns: *(1)* the ratio, and *(2)* the indices of the inliers. A point pair $x, x′$ is defined to be an inlier if the distance of $x$ to the epipolar line $\\mathrm{l = F^⊤x′}$, as well as the opposite distance, are both less than some threshold $ε$."
   ]
  },
  {
   "cell_type": "code",
   "execution_count": null,
   "metadata": {
    "deletable": false,
    "nbgrader": {
     "cell_type": "code",
     "checksum": "81508189fe87f35679e1bb87c6388117",
     "grade": true,
     "grade_id": "cell-189d17ed9d021c37",
     "locked": false,
     "points": 3,
     "schema_version": 3,
     "solution": true
    }
   },
   "outputs": [],
   "source": [
    "# POINTS: 3\n",
    "\n",
    "def get_inliers(F, x0, x1, eps):\n",
    "    # YOUR CODE HERE\n",
    "    raise NotImplementedError()\n",
    "    return indices"
   ]
  },
  {
   "cell_type": "markdown",
   "metadata": {
    "deletable": false,
    "editable": false,
    "nbgrader": {
     "cell_type": "markdown",
     "checksum": "5ff98b1f0fec0c6775093b411df43647",
     "grade": false,
     "grade_id": "cell-3140ba89d719ea21",
     "locked": true,
     "schema_version": 3,
     "solution": false,
     "task": false
    }
   },
   "source": [
    "Now write a function which implements the RANSAC procedure to estimate a fundamental matrix using the normalized eight-point algorithm. For randomly sampling matches, you can use the `np.random.choice()` function. Here, we want to use a simple version of the algorithm that just runs for a fixed number of `n_iter` iterations and returns the solution with the largest inlier set."
   ]
  },
  {
   "cell_type": "code",
   "execution_count": null,
   "metadata": {
    "deletable": false,
    "nbgrader": {
     "cell_type": "code",
     "checksum": "c619834880758c33474c754646319c31",
     "grade": true,
     "grade_id": "cell-1f8fc057aebbb9bc",
     "locked": false,
     "points": 7,
     "schema_version": 3,
     "solution": true
    }
   },
   "outputs": [],
   "source": [
    "# POINTS: 7\n",
    "\n",
    "def get_fundamental_matrix_with_ransac(x0, x1, eps=10, n_iter=1000):\n",
    "    \"\"\"\n",
    "    Args:\n",
    "        x0, x1: 3xN arrays of N homogenoous points in 2D\n",
    "        eps: Inlier threshold\n",
    "        n_iter: Number of iterations\n",
    "    \n",
    "    Return:\n",
    "        F: The 3x3 fundamental martix such taht x2'*F*x1 = 0\n",
    "        e0: The epipole in image 1 such that F'*e0 = 0\n",
    "        e1: The epipole in image 2 such that F*e1 = 0 \n",
    "        inlier_ratio: Ratio of inlier\n",
    "        inlier_indices: Indices of inlier\n",
    "    \"\"\"\n",
    "    # YOUR CODE HERE\n",
    "    raise NotImplementedError()\n",
    "    \n",
    "    return F, e0, e1, best_inlier_indices"
   ]
  },
  {
   "cell_type": "markdown",
   "metadata": {
    "deletable": false,
    "editable": false,
    "nbgrader": {
     "cell_type": "markdown",
     "checksum": "706dde740ac7701641d94da1da57f550",
     "grade": false,
     "grade_id": "cell-a43f951953acbd2d",
     "locked": true,
     "schema_version": 3,
     "solution": false,
     "task": false
    }
   },
   "source": [
    "Since we are working with precomputed ground-truth point correspondences loaded from file (and not estimated ones as we did in Exercise 3), we will artificially create outlier pairs using the following function. This is to simulate the effect of noisy point correspondence estimation."
   ]
  },
  {
   "cell_type": "code",
   "execution_count": null,
   "metadata": {
    "deletable": false,
    "editable": false,
    "nbgrader": {
     "cell_type": "code",
     "checksum": "7a7477199c04f6a3e5f125ded9399529",
     "grade": false,
     "grade_id": "cell-b636157188d7b09e",
     "locked": true,
     "schema_version": 3,
     "solution": false,
     "task": false
    }
   },
   "outputs": [],
   "source": [
    "def inject_outliers(img, x0, x1, outlier_ratio):\n",
    "    \"\"\"Artifically create outliers.\n",
    "    \n",
    "    Args:\n",
    "        img: Image, used only for size\n",
    "        x0, x1: Input 3xN points \n",
    "        outlier_ratio: Probability (ratio) of outlier\n",
    "        \n",
    "    Returns:\n",
    "        x0_noisy, x1_noisy: Output points (with outlier)\n",
    "        inlier_mask: 1D binary array\n",
    "    \"\"\"\n",
    "    n_pts = x0.shape[1]\n",
    "    h, w = img.shape[:2]\n",
    "    \n",
    "    outlier_mask = np.random.uniform(size=n_pts) < outlier_ratio\n",
    "    n_outliers = sum(outlier_mask)\n",
    "    outlier_x01 = np.random.randint(low=0, high=w, size=(2, n_outliers))\n",
    "    outlier_y01 = np.random.randint(low=0, high=h, size=(2, n_outliers))\n",
    "    \n",
    "    x0_noisy, x1_noisy = x0.copy(), x1.copy()\n",
    "    x0_noisy[0, outlier_mask] = np.random.randint(low=0, high=w, size=n_outliers)\n",
    "    x0_noisy[1, outlier_mask] = np.random.randint(low=0, high=h, size=n_outliers)\n",
    "    x1_noisy[0, outlier_mask] = np.random.randint(low=0, high=w, size=n_outliers)\n",
    "    x1_noisy[1, outlier_mask] = np.random.randint(low=0, high=h, size=n_outliers)\n",
    "\n",
    "    return x0_noisy, x1_noisy, np.invert(outlier_mask)"
   ]
  },
  {
   "cell_type": "code",
   "execution_count": null,
   "metadata": {
    "deletable": false,
    "editable": false,
    "nbgrader": {
     "cell_type": "code",
     "checksum": "198c2d4f7166727b987acbab4a192f32",
     "grade": false,
     "grade_id": "cell-4855989be6ebaf8b",
     "locked": true,
     "schema_version": 3,
     "solution": false,
     "task": false
    }
   },
   "outputs": [],
   "source": [
    "img0, img1, x0, x1, _, _ = load_data('house')\n",
    "n_matches = 100\n",
    "x0 = x0[:, :n_matches]\n",
    "x1 = x1[:, :n_matches]\n",
    "x0, x1, inlier_mask = inject_outliers(img0, x0, x1, outlier_ratio=0.3)\n",
    "x0_inlier, x1_inlier = x0[:, inlier_mask], x1[:, inlier_mask]\n",
    "inlier_ratio = sum(inlier_mask) / x0.shape[1]\n",
    "\n",
    "# Without RANSAC\n",
    "F_vanilla, e0_vanilla, e1_vanilla = get_fundamental_matrix_with_normalization(x0, x1)\n",
    "residual_error_vanilla = get_residual_error(F_vanilla, x0_inlier, x1_inlier)\n",
    "print('-------- Without RANSAC --------')\n",
    "print(f'The estimated fundamental matrix F is \\n{F_vanilla}')\n",
    "print(f'Epipole 0: {e0_vanilla}, epipole 1: {e1_vanilla}')\n",
    "print(f'Fitting error: {residual_error_vanilla:.1f} px')\n",
    "\n",
    "# With RANSAC\n",
    "eps = 1\n",
    "n_iter = 1000\n",
    "F_ransac, e0_ransac, e1_ransac, inlier_indices = get_fundamental_matrix_with_ransac(\n",
    "    x0, x1, eps, n_iter)\n",
    "residual_error_ransac = get_residual_error(F_ransac, x0_inlier, x1_inlier)\n",
    "inlier_ratio_ransac = len(inlier_indices) / x0.shape[1]\n",
    "inlier_mask_ransac = np.zeros(x0.shape[1], dtype=bool)\n",
    "inlier_mask_ransac[inlier_indices] = True\n",
    "print('-------- With RANSAC --------')\n",
    "print(f'The estimated fundamental matrix F is \\n{F_ransac}')\n",
    "print(f'Epipole 0: {e0_ransac}, epipole 1: {e1_ransac}')\n",
    "print(f'Fitting error: {residual_error_ransac:.1f} px')\n",
    "print(f'Inlier ratio: {inlier_ratio_ransac:.0%} (groundtruth: {inlier_ratio:.0%})')\n",
    "\n",
    "# Plotting\n",
    "plot_multiple([draw_point_matches(img0, img1, x0, x1, inlier_mask),\n",
    "              draw_point_matches(img0, img1, x0, x1, inlier_mask_ransac)], \n",
    "              ['Point matches (ground truth)',\n",
    "              'Point matches (ransac)'], imwidth=8, max_columns=1)\n",
    "\n",
    "img0_vanilla = draw_points_and_epipolar_lines(img0, x0, F_vanilla @ x1)\n",
    "img1_vanilla = draw_points_and_epipolar_lines(img1, x1, F_vanilla.T @ x0)\n",
    "img0_ransac = draw_points_and_epipolar_lines(img0, x0_inlier, F_ransac @ x1_inlier)\n",
    "img1_ransac = draw_points_and_epipolar_lines(img1, x1_inlier, F_ransac.T @ x0_inlier)\n",
    "plot_multiple([img0_vanilla, img1_vanilla, img0_ransac, img1_ransac], \n",
    "              ['Image 0 (without RANSAC)', 'Image 1 (without RANSAC)',\n",
    "               'Image 0 (with RANSAC)', 'Image 1 (with RANSAC)'], max_columns=2)"
   ]
  },
  {
   "cell_type": "markdown",
   "metadata": {
    "deletable": false,
    "editable": false,
    "nbgrader": {
     "cell_type": "markdown",
     "checksum": "0987f1e7a5b1e3a2d9543b6015e60058",
     "grade": false,
     "grade_id": "cell-b2c94fc5439fb843",
     "locked": true,
     "schema_version": 3,
     "solution": false,
     "task": false
    }
   },
   "source": [
    "## Harris points [OPTIONAL, 0 pts]  \n",
    "We can use a keypoint extractor and descriptor to find matches, as in Exercise 3. You can either use code from there, or use built-in functions of OpenCV (look up how to use `cv2.BRISK_create` for example -- BRISK is a non-patented alternative of SIFT).\n",
    "\n",
    "Write a full pipeline that does the following:\n",
    "1. Load a pair of images;\n",
    "2. Extract and match keypoints (clearly visualize the results);\n",
    "3. Estimate the fundamental matrix (clearly visualize the results)."
   ]
  },
  {
   "cell_type": "code",
   "execution_count": null,
   "metadata": {
    "deletable": false,
    "nbgrader": {
     "cell_type": "code",
     "checksum": "4c32cb0ddbbf3876986dfd76b0095261",
     "grade": true,
     "grade_id": "cell-40021520858f187b",
     "locked": false,
     "points": 0,
     "schema_version": 3,
     "solution": true,
     "task": false
    }
   },
   "outputs": [],
   "source": [
    "# YOUR CODE HERE\n",
    "raise NotImplementedError()"
   ]
  },
  {
   "cell_type": "markdown",
   "metadata": {
    "deletable": false,
    "editable": false,
    "nbgrader": {
     "cell_type": "markdown",
     "checksum": "7b9962e7dc483b73fc429ea453c15c84",
     "grade": false,
     "grade_id": "cell-e28584d161f3a101",
     "locked": true,
     "schema_version": 3,
     "solution": false,
     "task": false
    }
   },
   "source": [
    "## Triangulation\n",
    "As a final step, we want to reconstruct the observed points in 3D by triangulation. Note that just using two images, this is not possible without a calibration. You can therefore find camera matrices for each image provided in the archive *exercise5.zip*. They are stored as simple text files containing a single $3 × 4$ matrix and can be read in with the `np.loadtxt` command.\n",
    "\n",
    "For triangulation, we use the linear algebraic approach from the lecture. Given a 2D point correspondence $\\mathrm{x_1, x_2}$ in homogeneous coordinates, the 3D point location $\\mathrm{X}$ is given as follows:\n",
    "\n",
    "$$\n",
    "\\lambda_1\\mathrm{x_1} = \\mathrm{P_1X}\n",
    "$$\n",
    "\n",
    "$$\n",
    "\\lambda_2\\mathrm{x_2} = \\mathrm{P_2X}\n",
    "$$\n",
    "\n",
    "We can now build the cross-product of each point with both sides of the equation and obtain\n",
    "\n",
    "$$\n",
    "\\mathrm{x_1} \\times \\mathrm{P_1X} = [\\mathrm{x_1}_\\times]\\mathrm{P_1X} = 0\n",
    "$$\n",
    "\n",
    "$$\n",
    "\\mathrm{x_2} \\times \\mathrm{P_2X} = [\\mathrm{x_2}_\\times]\\mathrm{P_2X} = 0\n",
    "$$\n",
    "\n",
    "where we used the skew-symmetrix matrices $[\\mathrm{x_i}_\\times]$ to replace the cross products\n",
    "\n",
    "$$\n",
    "\\mathrm{a \\times b} = \\mathrm{[\\mathrm{a}_\\times]b} = \\left[\\begin{matrix}0&-a_z&a_y \\cr a_z&0&-a_x \\cr -a_y&a_x&0\\end{matrix}\\right]\\mathrm{b}\n",
    "$$\n",
    "\n",
    "Each 2D point provides 2 independent equations for a total of 3 unknowns. We can therefore solve the overconstrained system by stacking the first two equations for each point in a matrix $\\mathrm{A}$ and computing the least-squares solution for $\\mathrm{AX} = 0$.\n",
    "\n",
    "First write a function to find the centers of both cameras. Recall from the lecture that the camera centers are given by the null space of the camera matrices. They can thus be found by taking the SVD of the camera matrix and taking the last column of $\\mathrm{V}$ normalized by the 4th entry."
   ]
  },
  {
   "cell_type": "code",
   "execution_count": null,
   "metadata": {
    "deletable": false,
    "nbgrader": {
     "cell_type": "code",
     "checksum": "416554db5d3bd8ae22bd154c3ac1f7a2",
     "grade": true,
     "grade_id": "cell-d38e1fd9ee298317",
     "locked": false,
     "points": 3,
     "schema_version": 3,
     "solution": true
    }
   },
   "outputs": [],
   "source": [
    "# POINTS: 3\n",
    "\n",
    "def camera_center_from_projection_matrix(P):\n",
    "    # YOUR CODE HERE\n",
    "    raise NotImplementedError()\n",
    "    return center"
   ]
  },
  {
   "cell_type": "code",
   "execution_count": null,
   "metadata": {
    "deletable": false,
    "editable": false,
    "nbgrader": {
     "cell_type": "code",
     "checksum": "50dd14478168f64366e165b19bd04b5e",
     "grade": false,
     "grade_id": "cell-cbbc374718b09af9",
     "locked": true,
     "schema_version": 3,
     "solution": false,
     "task": false
    }
   },
   "outputs": [],
   "source": [
    "img0, img1, x0, x1, P0, P1 = load_data('house')\n",
    "C0 = camera_center_from_projection_matrix(P0)\n",
    "C1 = camera_center_from_projection_matrix(P1)\n",
    "\n",
    "print(f'P0: {P0}')\n",
    "print(f'P1: {P1}')\n",
    "print(f'C0: {C0}')\n",
    "print(f'C1: {C1}')"
   ]
  },
  {
   "cell_type": "markdown",
   "metadata": {
    "deletable": false,
    "editable": false,
    "nbgrader": {
     "cell_type": "markdown",
     "checksum": "81d67782d3480e5562c0b77158a8d935",
     "grade": false,
     "grade_id": "cell-a9866282c341825d",
     "locked": true,
     "schema_version": 3,
     "solution": false,
     "task": false
    }
   },
   "source": [
    "Now write a function *triangulate* that uses linear least-square method to triangulate the position of a matching point pair in 3D, as described above. A well suited helper function is *vector_to_skew(v)* which returns a skew symmetric matrix from the vector v with 3 elements."
   ]
  },
  {
   "cell_type": "code",
   "execution_count": null,
   "metadata": {
    "deletable": false,
    "editable": false,
    "nbgrader": {
     "cell_type": "code",
     "checksum": "43ec1c9dab27aa526a40e0fe8e7c4116",
     "grade": false,
     "grade_id": "cell-38933167b5ab2931",
     "locked": true,
     "schema_version": 3,
     "solution": false,
     "task": false
    }
   },
   "outputs": [],
   "source": [
    "def vector_to_skew(vec):\n",
    "    return np.array([[0,      -vec[2], vec[1]],\n",
    "                     [ vec[2], 0,     -vec[0]],\n",
    "                     [-vec[1], vec[0], 0]])"
   ]
  },
  {
   "cell_type": "code",
   "execution_count": null,
   "metadata": {
    "deletable": false,
    "nbgrader": {
     "cell_type": "code",
     "checksum": "530e4a352df0ddf23bde5de9357e14fd",
     "grade": true,
     "grade_id": "cell-f9be79b28f5d9d7e",
     "locked": false,
     "points": 7,
     "schema_version": 3,
     "solution": true
    }
   },
   "outputs": [],
   "source": [
    "# POINTS: 7\n",
    "\n",
    "def triangulate(x0, x1, P0, P1):\n",
    "    \"\"\" Triangulate matching points.\n",
    "    Args:\n",
    "        x0, x1: 3xN matrices of matching points (homogeneous)\n",
    "        P0, P1: 3X4 camera matrices\n",
    "\n",
    "    Returns:\n",
    "        X: 3xN matrix of points in world space\n",
    "    \"\"\"\n",
    "    # YOUR CODE HERE\n",
    "    raise NotImplementedError()\n",
    "    return X"
   ]
  },
  {
   "cell_type": "markdown",
   "metadata": {
    "deletable": false,
    "editable": false,
    "nbgrader": {
     "cell_type": "markdown",
     "checksum": "61d013e7368f6222aa44ce7f3e32e488",
     "grade": false,
     "grade_id": "cell-4ef1fbe1dd224692",
     "locked": true,
     "schema_version": 3,
     "solution": false,
     "task": false
    }
   },
   "source": [
    "Write a function to compute the reprojection errors (average distance) between the observed 2D points and the projected 3D points in the two images. "
   ]
  },
  {
   "cell_type": "code",
   "execution_count": null,
   "metadata": {
    "deletable": false,
    "nbgrader": {
     "cell_type": "code",
     "checksum": "38ca3569263f82addb9f451ee871320d",
     "grade": true,
     "grade_id": "cell-81a24d89a3f173e2",
     "locked": false,
     "points": 5,
     "schema_version": 3,
     "solution": true
    }
   },
   "outputs": [],
   "source": [
    "# POINTS: 5\n",
    "\n",
    "def get_reprojection_error(X, x, P):\n",
    "    # YOUR CODE HERE\n",
    "    raise NotImplementedError()\n",
    "    return np.mean(distance)"
   ]
  },
  {
   "cell_type": "code",
   "execution_count": null,
   "metadata": {
    "deletable": false,
    "editable": false,
    "nbgrader": {
     "cell_type": "code",
     "checksum": "998347cd5ab5bdfb26365b9730c98d63",
     "grade": false,
     "grade_id": "cell-d1c56194cf8dba1c",
     "locked": true,
     "schema_version": 3,
     "solution": false,
     "task": false
    }
   },
   "outputs": [],
   "source": [
    "def plot_3d_reconstruction(X, C0, C1):\n",
    "    fig = plt.figure()\n",
    "    ax = fig.add_subplot(111, projection='3d')\n",
    "    c = colors[:X.shape[1]]/255\n",
    "    ax.scatter(X[0], X[1], X[2], c=c, alpha=1)\n",
    "    ax.scatter(C0[0], C0[1], C0[2], color='red', s=100, marker='x')\n",
    "    ax.scatter(C1[0], C1[1], C1[2], color='blue', s=100, marker='x')\n",
    "    plt.show()\n",
    "\n",
    "X = triangulate(x0, x1, P0, P1)\n",
    "error0 = get_reprojection_error(X, x0, P0)\n",
    "error1 = get_reprojection_error(X, x1, P1)\n",
    "error = 0.5 * (error0 + error1)\n",
    "\n",
    "# Rotate the visualization to be more recognizable.\n",
    "U,S,Vt = np.linalg.svd(P0[:3,:3], full_matrices=False)\n",
    "rot = U @ Vt\n",
    "rot = np.array([[1,0,0], [0,0,1], [0,-1,0]]) @ rot\n",
    "\n",
    "plot_multiple([draw_keypoints(img0, x0), draw_keypoints(img1, x1)], \n",
    "              ['Image 0', 'Image 1'])\n",
    "plot_3d_reconstruction(rot @ X[:3]/X[3], rot @ C0, rot @ C1)\n",
    "print(f'Reprojection error: {error:.1f} px')"
   ]
  },
  {
   "cell_type": "markdown",
   "metadata": {
    "deletable": false,
    "editable": false,
    "nbgrader": {
     "cell_type": "markdown",
     "checksum": "3a5e39cbbcacba8290fe28457dea4eec",
     "grade": false,
     "grade_id": "cell-6051dc2288bed92d",
     "locked": true,
     "schema_version": 3,
     "solution": false,
     "task": false
    }
   },
   "source": [
    "## Reconstruction with RANSAC [OPTIONAL, 0 pts]\n",
    "Reconstruction quality can be further improved by filtering out outliers using RANSAC based on fundamental matrix. Try to implement it, and clearly visualize the results."
   ]
  },
  {
   "cell_type": "code",
   "execution_count": null,
   "metadata": {
    "deletable": false,
    "nbgrader": {
     "cell_type": "code",
     "checksum": "fe5682a3599ce7540c5c0ca38ff5e925",
     "grade": true,
     "grade_id": "cell-a19fdca81021aab2",
     "locked": false,
     "points": 0,
     "schema_version": 3,
     "solution": true,
     "task": false
    }
   },
   "outputs": [],
   "source": [
    "# YOUR CODE HERE\n",
    "raise NotImplementedError()"
   ]
  }
 ],
 "metadata": {
  "kernelspec": {
   "display_name": "Python 3",
   "language": "python",
   "name": "python3"
  },
  "language_info": {
   "codemirror_mode": {
    "name": "ipython",
    "version": 3
   },
   "file_extension": ".py",
   "mimetype": "text/x-python",
   "name": "python",
   "nbconvert_exporter": "python",
   "pygments_lexer": "ipython3",
   "version": "3.7.4"
  }
 },
 "nbformat": 4,
 "nbformat_minor": 2
}
